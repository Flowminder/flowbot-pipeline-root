{
 "cells": [
  {
   "cell_type": "code",
   "execution_count": null,
   "id": "308f30ba-5a75-447d-9335-98d23f92c0db",
   "metadata": {},
   "outputs": [],
   "source": [
    "from pathlib import Path\n",
    "import warnings\n",
    "import datetime as dt\n",
    "\n",
    "from indicators.preparedness import (\n",
    "    MonthlyResidentsAdm3,\n",
    "    MonthlyResidentsAdm1,\n",
    "    SnapshotMostRecentResidentsAdm1,\n",
    "    SnapshotDiffResidentsAdm1,\n",
    "    SnapshotTrendsResidentsAdm1,\n",
    "    SnapshotTrendsResidentsAdm3,\n",
    ")\n",
    "from sklearn.exceptions import UndefinedMetricWarning\n",
    "\n",
    "from utils.aggregate_loader import AggregateSpec, StaticDataSpec, AggregateCollection\n",
    "from utils.country_config import Country, Language, get_country_config"
   ]
  },
  {
   "cell_type": "code",
   "execution_count": null,
   "id": "bd79d4f3-2418-4d4b-bf2e-d84ec7f52f4b",
   "metadata": {},
   "outputs": [],
   "source": [
    "warnings.filterwarnings(\"ignore\", category=UndefinedMetricWarning)\n",
    "warnings.filterwarnings(\"ignore\", category=FutureWarning)"
   ]
  },
  {
   "cell_type": "code",
   "execution_count": null,
   "id": "022f699a",
   "metadata": {
    "tags": [
     "parameters"
    ]
   },
   "outputs": [],
   "source": [
    "country = \"Haiti\"\n",
    "language = \"English\"\n",
    "date = \"2016-01-01\"\n",
    "monthly_residents_filename = \"aggregates/hti-md-ip/residents\"  # in data/shared\n",
    "admin3_shapefile = \"admin3.geojson\"  # in data/dagrun\n",
    "projected_population = \"projected_residents.csv\"  # in static/data\n",
    "monthly_residents_dir_name = \"indicators\"\n",
    "shared_data_dir = \"shared\"\n",
    "static_dir = \"static\"\n",
    "dagrun_data_dir = \"dagrun\"\n",
    "json_name = \"report_components.json\"\n",
    "out_folder = \"report_components\"\n",
    "lookback_months = 12"
   ]
  },
  {
   "cell_type": "code",
   "execution_count": null,
   "id": "37afc50d-eb52-41f3-9a1e-513dc493e8f2",
   "metadata": {},
   "outputs": [],
   "source": [
    "DATE_FORMAT = \"%Y-%m-%d\"\n",
    "language = Language[language]\n",
    "country = get_country_config(country, language)\n",
    "\n",
    "\n",
    "aggregate_specs = [\n",
    "    monthly_res_spec := AggregateSpec(\n",
    "        name=\"monthly_residents\",\n",
    "        agg_folder=Path(shared_data_dir) / monthly_residents_dir_name,\n",
    "        file_glob=\"residents_indicators_*.csv\",\n",
    "        end_date=dt.datetime.strptime(date, DATE_FORMAT),\n",
    "        config=country,\n",
    "        lookback_months=lookback_months,\n",
    "    ),\n",
    "    admin3_shapefile := StaticDataSpec(\n",
    "        name=\"admin3_shapefile\",\n",
    "        path=Path(dagrun_data_dir) / admin3_shapefile,\n",
    "        config=country,\n",
    "    ),\n",
    "    projected_population := StaticDataSpec(\n",
    "        name=\"projected_population\",\n",
    "        path=Path(static_dir) / projected_population,\n",
    "        config=country,\n",
    "    ),\n",
    "]\n",
    "\n",
    "out_folder = Path(dagrun_data_dir) / \"report_components\"\n",
    "json_path = out_folder / json_name"
   ]
  },
  {
   "cell_type": "code",
   "execution_count": null,
   "id": "6e40edaa-a77d-4120-8cf5-4cdc1bb2960b",
   "metadata": {},
   "outputs": [],
   "source": [
    "aggregates = AggregateCollection(aggregate_specs, config=country)"
   ]
  },
  {
   "cell_type": "markdown",
   "id": "a7548408",
   "metadata": {},
   "source": []
  },
  {
   "cell_type": "code",
   "execution_count": null,
   "id": "fdf1d16e-f06e-45f2-9de3-ae7afd89af61",
   "metadata": {},
   "outputs": [],
   "source": [
    "indicators = [\n",
    "    MonthlyResidentsAdm3(aggregates),\n",
    "    MonthlyResidentsAdm1(aggregates),\n",
    "    SnapshotDiffResidentsAdm1(aggregates),\n",
    "    SnapshotTrendsResidentsAdm1(aggregates),\n",
    "    SnapshotTrendsResidentsAdm3(aggregates),\n",
    "    SnapshotMostRecentResidentsAdm1(aggregates),\n",
    "]\n",
    "\n",
    "period_start = dt.date(year=9999, month=1, day=1)\n",
    "period_end = dt.date(year=1, month=1, day=1)\n",
    "\n",
    "for indicator in indicators:\n",
    "\n",
    "    print(f\"Indicator: {indicator.__class__.__name__}\")\n",
    "    result = indicator.calculate()\n",
    "    print(result)\n",
    "    try:\n",
    "        if result[country.date_column].max().date() >= period_end:\n",
    "            period_end = result[country.date_column].max()\n",
    "        if result[country.date_column].min().date() <= period_start:\n",
    "            period_start = result[country.date_column].min()\n",
    "    except (AttributeError, ValueError, KeyError):\n",
    "        pass\n",
    "\n",
    "    indicator.save_result(result, \"prep_indicators.h5\")\n",
    "    print(f\"Date range start: {period_start}\")\n",
    "    print(f\"Date range end: {period_end}\")"
   ]
  },
  {
   "cell_type": "code",
   "execution_count": null,
   "id": "b4047e41-d4e6-46e6-a4d0-62c85954f84e",
   "metadata": {},
   "outputs": [],
   "source": [
    "# Todo: split into two NBs"
   ]
  },
  {
   "cell_type": "markdown",
   "id": "45cb376d-be5f-40b6-98c5-efc001f97126",
   "metadata": {},
   "source": [
    "# Viz"
   ]
  },
  {
   "cell_type": "code",
   "execution_count": null,
   "id": "de298c64-52a0-4a52-b092-9cda36d23310",
   "metadata": {},
   "outputs": [],
   "source": [
    "import os\n",
    "\n",
    "import matplotlib.pyplot as plt\n",
    "import geopandas as gpd\n",
    "\n",
    "from visualisations.preparedness import (\n",
    "    MapResidentsTrendsNational,\n",
    "    MapResidentsTrendsByRegion,\n",
    "    TimeSeriesAggregateResidents,\n",
    "    TimeSeriesTop3Residents,\n",
    "    TimeSeriesTop3FluctuatingResidents,\n",
    "    TablePopVariation,\n",
    ")\n",
    "\n",
    "from utils.indicator_loader import IndicatorLoader"
   ]
  },
  {
   "cell_type": "code",
   "execution_count": null,
   "id": "e928705a-7d0b-4912-92ad-d2a01b97dbf6",
   "metadata": {},
   "outputs": [],
   "source": [
    "plt.rcParams[\"font.family\"] = \"Roboto\"\n",
    "plt.rcParams[\"font.sans-serif\"] = [\"Roboto\"]\n",
    "plt.rcParams[\"font.size\"] = 8"
   ]
  },
  {
   "cell_type": "code",
   "execution_count": null,
   "id": "0d962551-012f-4e75-bbb9-6cb8cc93b77f",
   "metadata": {},
   "outputs": [],
   "source": [
    "geometry = gpd.read_file(admin3_shapefile.path)\n",
    "indicators = IndicatorLoader(\n",
    "    \"prep_indicators.h5\", config=country, date=date, shapefile=geometry\n",
    ")"
   ]
  },
  {
   "cell_type": "code",
   "execution_count": null,
   "id": "8e6f78be-63f9-458c-8e89-15c604fcc4c1",
   "metadata": {},
   "outputs": [],
   "source": [
    "info_products = [\n",
    "    MapResidentsTrendsNational(indicators),\n",
    "    MapResidentsTrendsByRegion(indicators),\n",
    "    TimeSeriesAggregateResidents(indicators),\n",
    "    TimeSeriesTop3Residents(indicators),\n",
    "    TimeSeriesTop3FluctuatingResidents(indicators),\n",
    "    TablePopVariation(indicators),\n",
    "]\n",
    "import json\n",
    "\n",
    "figure_folder = out_folder / \"figures\"\n",
    "\n",
    "out_dict = dict(\n",
    "    period_start=period_start.strftime(\"%Y-%m-%d\"),\n",
    "    period_end=period_end.strftime(\"%Y-%m-%d\"),\n",
    ")\n",
    "\n",
    "for product in info_products:\n",
    "\n",
    "    print(f\"Figure: {product.__class__.__name__}\")\n",
    "    figures = product.make()\n",
    "\n",
    "    for figure in figures:\n",
    "        out_path = figure_folder / figure.filepath\n",
    "        out_path.parent.mkdir(parents=True, exist_ok=True)\n",
    "        if figure.figure is not None:\n",
    "            out_path = out_path.with_suffix(\".png\")\n",
    "            plt.savefig(out_path, dpi=300)\n",
    "            # plt.show()\n",
    "            plt.close()\n",
    "        if figure.csv is not None:\n",
    "            out_path = out_path.with_suffix(\".csv\")\n",
    "            figure.csv.to_csv(out_path)\n",
    "\n",
    "        if out_path.parent.name not in out_dict.keys():\n",
    "            out_dict[out_path.parent.name] = {}\n",
    "        out_dict[out_path.parent.name][out_path.stem] = str(out_path)\n",
    "with open(json_path, \"w\") as fp:\n",
    "    json.dump(out_dict, fp)"
   ]
  },
  {
   "cell_type": "code",
   "execution_count": null,
   "id": "080ecbd5-2e1a-497c-be0e-eae80f447ef1",
   "metadata": {},
   "outputs": [],
   "source": [
    "# TODO: TimeSeriesAggregateResidents spits out"
   ]
  }
 ],
 "metadata": {
  "kernelspec": {
   "display_name": "Python 3 (ipykernel)",
   "language": "python",
   "name": "python3"
  },
  "language_info": {
   "codemirror_mode": {
    "name": "ipython",
    "version": 3
   },
   "file_extension": ".py",
   "mimetype": "text/x-python",
   "name": "python",
   "nbconvert_exporter": "python",
   "pygments_lexer": "ipython3",
   "version": "3.11.9"
  }
 },
 "nbformat": 4,
 "nbformat_minor": 5
}
