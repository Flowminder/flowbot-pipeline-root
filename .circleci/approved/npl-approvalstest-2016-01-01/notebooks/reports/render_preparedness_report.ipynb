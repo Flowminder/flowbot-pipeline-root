{
 "cells": [
  {
   "cell_type": "code",
   "execution_count": null,
   "metadata": {},
   "outputs": [],
   "source": [
    "import sys\n",
    "import datetime as dt\n",
    "from datetime import timedelta\n",
    "import json\n",
    "from pathlib import Path\n",
    "import csv\n",
    "from pprint import pprint\n",
    "import pandas as pd\n",
    "from itertools import islice\n",
    "import report_utils as ru\n",
    "\n",
    "sys.version_info"
   ]
  },
  {
   "cell_type": "code",
   "execution_count": null,
   "metadata": {},
   "outputs": [],
   "source": [
    "# Meatball batched, copied from itertools docs\n",
    "def batched(iterable, n):\n",
    "    # batched('ABCDEFG', 3) → ABC DEF G\n",
    "    if n < 1:\n",
    "        raise ValueError(\"n must be at least one\")\n",
    "    iterator = iter(iterable)\n",
    "    while batch := tuple(islice(iterator, n)):\n",
    "        yield (b[1] for b in batch)"
   ]
  },
  {
   "cell_type": "code",
   "execution_count": 2,
   "metadata": {},
   "outputs": [],
   "source": [
    "# Set up for local dev of this notebook\n",
    "test_pipeline_root = Path(\n",
    "    \"/home/john/projects/flowbot-pipelines/hti-preparedness-2023-09-01\"\n",
    ")\n",
    "root_pipeline_root = Path(\n",
    "    \"/home/john/projects/flowbot-pipelines/flowbot-pipeline-root/{{ cookiecutter.__project_slug }}\"\n",
    ")"
   ]
  },
  {
   "cell_type": "code",
   "execution_count": 3,
   "metadata": {
    "tags": [
     "parameters"
    ]
   },
   "outputs": [],
   "source": [
    "report_json = \"report_components/report_components.json\"\n",
    "execution_date = \"2024-08-01\"\n",
    "publication_date = \"2020-01-01\"\n",
    "html_out_folder = \"html\"\n",
    "shared_data_dir = test_pipeline_root / \"data\" / \"shared\"\n",
    "dagrun_data_dir = (\n",
    "    test_pipeline_root\n",
    "    / \"data/dagruns/2024-08-01/preparedness_report_v2__scheduled__2024-08-01T00:00:00+00:00\"\n",
    ")\n",
    "\n",
    "static_dir = root_pipeline_root / \"static\"\n",
    "template_dir = \"templates\"\n",
    "key_obs_dir = test_pipeline_root / \"key_obs\"\n",
    "country = \"nepal\"\n",
    "partners = [\n",
    "    \"swiss_sponsor_crop.jpeg\",\n",
    "    \"hewlett.png\",\n",
    "    \"afd.png\",\n",
    "    \"usaid.png\",\n",
    "    \"digicel_red.jpeg\",\n",
    "]"
   ]
  },
  {
   "cell_type": "code",
   "execution_count": 4,
   "metadata": {},
   "outputs": [],
   "source": [
    "execution_date_str = execution_date\n",
    "execution_date = dt.date.fromisoformat(execution_date)\n",
    "report_json = Path(dagrun_data_dir) / report_json\n",
    "html_out_folder = Path(shared_data_dir) / html_out_folder\n",
    "template_path = Path(static_dir) / template_dir\n",
    "partners = [Path(s) for s in partners]"
   ]
  },
  {
   "cell_type": "code",
   "execution_count": 5,
   "metadata": {},
   "outputs": [],
   "source": [
    "html_out_folder.mkdir(parents=True, exist_ok=True)"
   ]
  },
  {
   "cell_type": "code",
   "execution_count": 6,
   "metadata": {},
   "outputs": [],
   "source": [
    "class MissingDataError(Exception):\n",
    "    pass\n",
    "\n",
    "\n",
    "def get_update_num():\n",
    "    return 1\n",
    "\n",
    "\n",
    "def get_manual_key_obs():\n",
    "    try:\n",
    "        return (Path(key_obs_dir) / (execution_date_str + \".html\")).read_text()\n",
    "    except FileNotFoundError:\n",
    "        return \"No key observations written for this report.\"\n",
    "\n",
    "\n",
    "def get_last_report_date():\n",
    "    return dt.date(1990, 1, 1)\n",
    "\n",
    "\n",
    "def get_last_stable_date():\n",
    "    return dt.date(1990, 1, 1)\n",
    "\n",
    "\n",
    "def get_last_stable_report_num():\n",
    "    return 1\n",
    "\n",
    "\n",
    "def get_last_prep_report_num():\n",
    "    return 1\n",
    "\n",
    "\n",
    "def stats_box_csv_to_values(csv_path) -> dict:\n",
    "    with open(csv_path, newline=\"\") as csvfile:\n",
    "        reader = csv.DictReader(csvfile)\n",
    "\n",
    "        def _conditional_round(value):\n",
    "            try:\n",
    "                return round(float(value))\n",
    "            except ValueError:\n",
    "                return value\n",
    "\n",
    "        return {key: _conditional_round(value) for key, value in next(reader).items()}"
   ]
  },
  {
   "cell_type": "code",
   "execution_count": null,
   "metadata": {},
   "outputs": [],
   "source": [
    "print(report_json)\n",
    "print(html_out_folder)\n",
    "from jinja2 import Environment, FileSystemLoader\n",
    "\n",
    "jinja_env = Environment(loader=FileSystemLoader(template_path))\n",
    "\n",
    "\n",
    "report_data = json.loads(report_json.read_text())\n",
    "report_data"
   ]
  },
  {
   "cell_type": "code",
   "execution_count": 8,
   "metadata": {},
   "outputs": [],
   "source": [
    "period_start = dt.datetime.strptime(report_data.pop(\"period_start\"), \"%Y-%m-%d\")\n",
    "period_end = dt.datetime.strptime(report_data.pop(\"period_end\"), \"%Y-%m-%d\")\n",
    "date_range_start = ru.ReportDate(\n",
    "    period_start.year, period_start.month, period_start.day\n",
    ")\n",
    "date_range_end = ru.ReportDate(period_end.year, period_end.month, period_end.day)\n",
    "report_data = {\n",
    "    area_name: {\n",
    "        k: Path(v.replace(\"/opt/airflow/task_data\", str(dagrun_data_dir)))\n",
    "        for k, v in area_data.items()\n",
    "    }\n",
    "    for area_name, area_data in report_data.items()\n",
    "}"
   ]
  },
  {
   "cell_type": "code",
   "execution_count": null,
   "metadata": {},
   "outputs": [],
   "source": [
    "national_data = report_data.pop(\"national\")\n",
    "\n",
    "national_df = pd.read_csv(national_data[\"TablePopVariation\"]).drop(\n",
    "    \"Unnamed: 0\", axis=\"columns\"\n",
    ")\n",
    "national_df\n",
    "\n",
    "ROWS_PER_PAGE = 74\n",
    "pages_dfs = [\n",
    "    pd.DataFrame.from_records(page_records)\n",
    "    for page_records in batched(national_df.iterrows(), ROWS_PER_PAGE)\n",
    "]"
   ]
  },
  {
   "cell_type": "code",
   "execution_count": 10,
   "metadata": {},
   "outputs": [],
   "source": [
    "partner_logo_1, partner_logo_2, partner_logo_3, partner_logo_4, partner_logo_5 = (\n",
    "    partners[:5]\n",
    ")\n",
    "general_args = dict(\n",
    "    pub_date=publication_date,\n",
    "    period=ru.ReportPeriod(date_range_start, date_range_end),\n",
    "    period_short=ru.ReportPeriod(date_range_start, date_range_end).short(),\n",
    "    country=country.capitalize(),\n",
    "    total_pages=len(report_data)\n",
    "    + len(pages_dfs)\n",
    "    + 2,  # One per region + one per summary table page + 1 for back matter + 1 for cover\n",
    "    partner_logo_1=ru.StaticReportImage(figure_path=partner_logo_1),\n",
    "    partner_logo_2=ru.StaticReportImage(figure_path=partner_logo_2),\n",
    "    partner_logo_3=ru.StaticReportImage(figure_path=partner_logo_3),\n",
    "    partner_logo_4=ru.StaticReportImage(figure_path=partner_logo_4),\n",
    "    partner_logo_5=ru.StaticReportImage(figure_path=partner_logo_5),\n",
    ")"
   ]
  },
  {
   "cell_type": "code",
   "execution_count": null,
   "metadata": {},
   "outputs": [],
   "source": [
    "top_average_change_df = national_df.sort_values(\n",
    "    by=\"Average change\", ascending=False, na_position=\"last\"\n",
    ")\n",
    "cover = ru.PreparednessTemplateCover(\n",
    "    key_obs=get_manual_key_obs(),\n",
    "    top_average_change_table=ru.ReportTable(top_average_change_df, rows=5),\n",
    "    period_start=date_range_start,\n",
    "    period_end=date_range_end,\n",
    "    country_pop_map=ru.ReportImage(national_data[\"MapResidentsTrendsNational\"]),\n",
    "    page_num=1,\n",
    "    **general_args\n",
    ")\n",
    "pprint(cover)"
   ]
  },
  {
   "cell_type": "code",
   "execution_count": 12,
   "metadata": {},
   "outputs": [],
   "source": [
    "ru.render_report(\n",
    "    cover,\n",
    "    page_name=\"preparedness_report/cover.html\",\n",
    "    style=\"preparedness_report/preparedness.css\",\n",
    "    env=jinja_env,\n",
    "    out_path=html_out_folder / \"01_cover.html\",\n",
    ")"
   ]
  },
  {
   "cell_type": "code",
   "execution_count": null,
   "metadata": {},
   "outputs": [],
   "source": [
    "running_page_num = 2\n",
    "for region_name, region_data in report_data.items():\n",
    "    region = ru.PreparednessTemplateDepartment(\n",
    "        department_name=region_name.capitalize(),\n",
    "        dept_pop_ts=ru.ReportImage(region_data[\"TimeSeriesAggregateResidents\"]),\n",
    "        outlier_areas_ts=ru.ReportImage(region_data[\"TimeSeriesTop3Residents\"]),\n",
    "        fluctuating_areas_ts=ru.ReportImage(\n",
    "            region_data[\"TimeSeriesTop3FluctuatingResidents\"]\n",
    "        ),\n",
    "        pop_trend_areas_map=ru.ReportImage(region_data[\"MapResidentsTrendsByRegion\"]),\n",
    "        period_start=date_range_start,\n",
    "        period_end=date_range_end,\n",
    "        page_num=running_page_num,\n",
    "        **general_args,\n",
    "    )\n",
    "\n",
    "    ru.render_report(\n",
    "        region,\n",
    "        page_name=\"preparedness_report/dept_overview.html\",\n",
    "        style=\"preparedness_report/preparedness.css\",\n",
    "        env=jinja_env,\n",
    "        out_path=html_out_folder\n",
    "        / f\"{running_page_num:02}_{region.department_name}.html\",\n",
    "    )\n",
    "    running_page_num += 1\n",
    "    pprint(region)"
   ]
  },
  {
   "cell_type": "code",
   "execution_count": null,
   "metadata": {},
   "outputs": [],
   "source": [
    "from pprint import pp\n",
    "\n",
    "for page_df in pages_dfs:\n",
    "    full_table = ru.SplitReportTable(page_df, ROWS_PER_PAGE // 2)\n",
    "    pp(full_table)\n",
    "\n",
    "    summary = ru.PreparednessTemplateSummary(\n",
    "        department_name=region_name.capitalize(),\n",
    "        areas_of_interest_table_left=full_table.left,\n",
    "        areas_of_interest_table_right=full_table.right,\n",
    "        page_num=running_page_num,\n",
    "        **general_args,\n",
    "    )\n",
    "    ru.render_report(\n",
    "        summary,\n",
    "        page_name=\"preparedness_report/summary_table.html\",\n",
    "        style=\"preparedness_report/preparedness.css\",\n",
    "        env=jinja_env,\n",
    "        out_path=html_out_folder / f\"{running_page_num:02}_summary_table.html\",\n",
    "    )\n",
    "    running_page_num += 1"
   ]
  },
  {
   "cell_type": "code",
   "execution_count": null,
   "metadata": {},
   "outputs": [],
   "source": [
    "last_report_date = get_last_report_date()\n",
    "last_stable_date = get_last_stable_date()\n",
    "back_matter = ru.PreparednessTemplateBackMatter(\n",
    "    month=execution_date.month,\n",
    "    year=execution_date.year,\n",
    "    prep_month=last_report_date.month,\n",
    "    prep_year=last_report_date.year,\n",
    "    prep_num=get_last_prep_report_num(),\n",
    "    strec_month=last_stable_date.month,\n",
    "    strec_year=last_stable_date.year,\n",
    "    strec_num=get_last_stable_report_num(),\n",
    "    page_num=running_page_num,\n",
    "    **general_args,\n",
    ")\n",
    "pprint(back_matter)"
   ]
  },
  {
   "cell_type": "code",
   "execution_count": 17,
   "metadata": {},
   "outputs": [],
   "source": [
    "ru.render_report(\n",
    "    back_matter,\n",
    "    page_name=\"preparedness_report/back_matter.html\",\n",
    "    style=\"preparedness_report/preparedness.css\",\n",
    "    env=jinja_env,\n",
    "    out_path=html_out_folder / f\"{running_page_num:02}_back_matter.html\",\n",
    ")"
   ]
  }
 ],
 "metadata": {
  "kernelspec": {
   "display_name": "flab",
   "language": "python",
   "name": "python3"
  },
  "language_info": {
   "codemirror_mode": {
    "name": "ipython",
    "version": 3
   },
   "file_extension": ".py",
   "mimetype": "text/x-python",
   "name": "python",
   "nbconvert_exporter": "python",
   "pygments_lexer": "ipython3",
   "version": "3.10.12"
  }
 },
 "nbformat": 4,
 "nbformat_minor": 2
}
