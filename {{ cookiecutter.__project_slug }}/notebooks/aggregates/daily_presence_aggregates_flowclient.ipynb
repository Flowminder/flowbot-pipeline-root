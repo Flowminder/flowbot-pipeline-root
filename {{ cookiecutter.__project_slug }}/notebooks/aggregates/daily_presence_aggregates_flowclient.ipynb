{
 "cells": [
  {
   "cell_type": "markdown",
   "id": "de8b66f2-bd57-4029-bb52-149e547cc3af",
   "metadata": {},
   "source": [
    "James Harrison, 2022-05-11\n",
    "\n",
    "This notebook is used to produce the following aggregates:\n",
    "- Unique subscriber counts per admin3 per day\n",
    "- Trips OD matrix per pair of admin3s per day\n",
    "- Consecutive trips OD matrix per pair of admin3s per day\n",
    "- Unique visitor counts per admin3 per day\n",
    "- Home-away matrix (from monthly home admin3 to visited admin3) per day\n",
    "\n",
    "for each day in the last month.\n",
    "\n",
    "'Last month' is the most recently-ended full calendar month before today.\n",
    "\n",
    "These aggregates can be used to produce mobility indicators related to subscriber presence and trips."
   ]
  },
  {
   "cell_type": "code",
   "execution_count": null,
   "id": "55c1b1fc-c512-4cda-8fe6-8122b289aaa6",
   "metadata": {},
   "outputs": [],
   "source": [
    "import datetime\n",
    "import warnings\n",
    "from pathlib import Path\n",
    "\n",
    "import flowclient as fc\n",
    "import flowmachine as fm\n",
    "import pandas as pd\n",
    "from flowclient import (\n",
    "    consecutive_trips_od_matrix,\n",
    "    flows,\n",
    "    location_event_counts,\n",
    "    total_network_objects,\n",
    "    trips_od_matrix,\n",
    "    unique_locations_spec,\n",
    "    unique_subscriber_counts,\n",
    ")\n",
    "from flowclient.aggregates import (\n",
    "    active_at_reference_location_counts_spec,\n",
    "    unique_subscriber_counts_spec,\n",
    ")\n",
    "from get_secret_or_env_var import environ\n",
    "from utils import (\n",
    "    check_data_availability_for_home_locations,\n",
    "    find_dates_to_exclude_monthly,\n",
    "    get_date_in_month,\n",
    "    monthly_home_location_spec,\n",
    "    monthly_subscriber_subset_query,\n",
    "    run_query_and_write_result,\n",
    "    run_query_and_write_result_async,\n",
    ")"
   ]
  },
  {
   "cell_type": "markdown",
   "id": "14443a00-5399-495a-94e5-c2942b10c93c",
   "metadata": {
    "tags": []
   },
   "source": [
    "# Setup"
   ]
  },
  {
   "cell_type": "markdown",
   "id": "40c5db11-1689-4cb2-b0ff-21dd8337238e",
   "metadata": {},
   "source": [
    "## Parameters"
   ]
  },
  {
   "cell_type": "code",
   "execution_count": null,
   "id": "f04e17a9",
   "metadata": {},
   "outputs": [],
   "source": [
    "datetime_now = datetime.datetime.now()\n",
    "datetime_now"
   ]
  },
  {
   "cell_type": "code",
   "execution_count": null,
   "id": "5538f5bc",
   "metadata": {},
   "outputs": [],
   "source": [
    "# All aggregates available to run using this notebook\n",
    "all_aggregates = (\n",
    "    \"subscriber-counts\",\n",
    "    \"all-trips\",\n",
    "    \"consecutive-trips\",\n",
    "    \"visitor-counts\",\n",
    "    \"home-away-matrix\",\n",
    "    \"event-counts\",\n",
    "    \"active-cell-counts\",\n",
    ")"
   ]
  },
  {
   "cell_type": "code",
   "execution_count": null,
   "id": "e3d95bb8-dea3-44ba-b5b6-cb42eb18ea98",
   "metadata": {
    "tags": [
     "parameters"
    ]
   },
   "outputs": [],
   "source": [
    "# Parameters\n",
    "author = \"James Harrison <james.harrison@flowminder.org>\"\n",
    "\n",
    "start_date = (\n",
    "    None  # First day of the month (defaults to start of first full month before now)\n",
    ")\n",
    "month_start_day = None  # If start_date is not specified, start on this day of the month (defaults to 1, i.e. first day of a calendar month)\n",
    "window_length = (\n",
    "    7  # Length in days of the rolling window used to compute average call days\n",
    ")\n",
    "min_call_days = (\n",
    "    3  # Minimal number of average days in a window a subscriber was sighted on\n",
    ")\n",
    "min_percent_of_data_dates = 60  # Minimum percentage of days of data that must be present for a month to be included\n",
    "max_data_gap = (\n",
    "    6  # Maximum length (in days) of allowed data gap for a month to be included\n",
    ")\n",
    "max_empty_windows = (\n",
    "    None  # Maximum number of entirely-empty windows allowed for a month to be included\n",
    ")\n",
    "latest_truncation_threshold = (\n",
    "    \"18:00:00\"  # Threshold for excluding temporally-truncated data\n",
    ")\n",
    "\n",
    "aggregation_unit = \"admin3\"  # Spatial aggregation unit\n",
    "mapping_table = \"geography.cell_to_admin_via_clusters_1km_20221025\"\n",
    "geom_table = None\n",
    "geom_table_join_column = None\n",
    "event_types = [\"calls\"]  # Event types to use\n",
    "flowmachine_log_level = \"info\"  # Flowmachine log level\n",
    "shared_data_dir = \"./\"  # Writable output directory\n",
    "outputs_subdir = \"aggregates/presence_trips\"  # Subdirectory of shared data dir to which results of aggregate queries will be written\n",
    "output_format = \"csv\"  # 'csv' or 'netcdf'\n",
    "overwrite = False  # Set True to overwrite previously-saved aggregates for this month (with overwrite=False, conflicting aggregate files will be renamed)\n",
    "include_unsubsetted = (\n",
    "    False  # Set true to also calculate aggregates using the full set of subscribers\n",
    ")\n",
    "aggregates_to_calculate = all_aggregates\n",
    "require_latest_data = True  # If True, computation will not proceed if the last required day of data is later than the most recent available date\n",
    "use_async_client = False  # Set True to use the asynchronous flowclient"
   ]
  },
  {
   "cell_type": "code",
   "execution_count": null,
   "id": "0c4e229a",
   "metadata": {},
   "outputs": [],
   "source": [
    "# Temporary hack until we can use list parameters with flowpyter-task\n",
    "if isinstance(aggregates_to_calculate, str):\n",
    "    import json\n",
    "\n",
    "    aggregates_to_calculate = json.loads(aggregates_to_calculate)"
   ]
  },
  {
   "cell_type": "code",
   "execution_count": null,
   "id": "d7b5675a",
   "metadata": {},
   "outputs": [],
   "source": [
    "# If start date is not specified, calculate start date from time now\n",
    "if start_date is not None:\n",
    "    if month_start_day is not None:\n",
    "        raise ValueError(\n",
    "            \"Only one of 'start_date' or 'month_start_day' may be specified\"\n",
    "        )\n",
    "else:\n",
    "    if month_start_day is None:\n",
    "        month_start_day = 1\n",
    "    start_date = get_date_in_month(\n",
    "        datetime_now,\n",
    "        day_of_month=month_start_day,\n",
    "        month_offset=(\n",
    "            -1 if datetime_now.day >= month_start_day else -2\n",
    "        ),  # If day of month now is before month_start_day, need to offset by 2 months to get a complete month (this ignores ingestion time)\n",
    "    )"
   ]
  },
  {
   "cell_type": "code",
   "execution_count": null,
   "id": "a2fb4b63",
   "metadata": {},
   "outputs": [],
   "source": [
    "# Construct outputs path (we don't actually create the dir until we're ready to start writing outputs later)\n",
    "outputs_path = (\n",
    "    Path(shared_data_dir) / outputs_subdir / f\"presence_trips_aggregates_{start_date}\"\n",
    ")\n",
    "\n",
    "outputs_path"
   ]
  },
  {
   "cell_type": "code",
   "execution_count": null,
   "id": "4b2ee960-e1f5-498a-b284-00dd7172c77a",
   "metadata": {},
   "outputs": [],
   "source": [
    "# TODO: We're now specifying start_date directly, so rewrite the rest of the notebook to use this instead of date_today and month_start_day\n",
    "date_today = pd.Timestamp(start_date) + pd.DateOffset(months=1)\n",
    "month_start_day = pd.Timestamp(start_date).day"
   ]
  },
  {
   "cell_type": "code",
   "execution_count": null,
   "id": "430c3833-0e03-4b93-a459-c4873d478c53",
   "metadata": {},
   "outputs": [],
   "source": [
    "unknown_aggregates = set(aggregates_to_calculate).difference(all_aggregates)\n",
    "if unknown_aggregates:\n",
    "    raise ValueError(f\"Unknown aggregate types specified: {unknown_aggregates}\")"
   ]
  },
  {
   "cell_type": "markdown",
   "id": "4018b3f3-4fa6-4b4f-8500-8810980a03bc",
   "metadata": {},
   "source": [
    "## Connect"
   ]
  },
  {
   "cell_type": "code",
   "execution_count": null,
   "id": "b8a0ffbc-d504-4275-80a0-0cec45191c3f",
   "metadata": {},
   "outputs": [],
   "source": [
    "if use_async_client:\n",
    "    fc_conn = await fc.connect_async(\n",
    "        url=environ[\"FLOWAPI_URL\"],\n",
    "        ssl_certificate=False,  # Workaround pending https://github.com/Flowminder/flowpyter-task/issues/35\n",
    "        token=environ[\"FLOWAPI_TOKEN\"],\n",
    "    )\n",
    "else:\n",
    "    fc_conn = fc.connect(\n",
    "        url=environ[\"FLOWAPI_URL\"],\n",
    "        ssl_certificate=False,  # Workaround pending https://github.com/Flowminder/flowpyter-task/issues/35\n",
    "        token=environ[\"FLOWAPI_TOKEN\"],\n",
    "    )"
   ]
  },
  {
   "cell_type": "code",
   "execution_count": null,
   "id": "d3b6ccd2-40c9-432a-b795-70b6f3f48072",
   "metadata": {},
   "outputs": [],
   "source": [
    "fm.connect(\n",
    "    flowdb_connection_pool_overflow=20,\n",
    "    flowdb_connection_pool_size=5,\n",
    "    log_level=flowmachine_log_level,\n",
    ")"
   ]
  },
  {
   "cell_type": "markdown",
   "id": "4f18315e-f6e2-4a46-b161-cc69f83d6bce",
   "metadata": {},
   "source": [
    "## Check dates"
   ]
  },
  {
   "cell_type": "code",
   "execution_count": null,
   "id": "10a13ed6-8812-4bd9-958f-224ac4518edf",
   "metadata": {},
   "outputs": [],
   "source": [
    "(\n",
    "    data_available,\n",
    "    lookback_month_available,\n",
    "    lookback_n_months,\n",
    ") = check_data_availability_for_home_locations(\n",
    "    date_today,\n",
    "    flowdb_connection=fm.core.context.get_db(),\n",
    "    month_offset=-1,\n",
    "    month_start_day=month_start_day,\n",
    "    window_length=window_length,\n",
    "    event_types=event_types,\n",
    "    latest_truncation_threshold=latest_truncation_threshold,\n",
    "    fail_on_missing_latest=require_latest_data,\n",
    "    min_percent_of_dates=min_percent_of_data_dates,\n",
    "    max_allowed_gap=max_data_gap,\n",
    "    max_empty_windows=max_empty_windows,\n",
    "    min_median_included_days_per_window=min_call_days,\n",
    ")\n",
    "\n",
    "if data_available:\n",
    "    required_subsets = [-1]\n",
    "    if any(\n",
    "        agg_type in aggregates_to_calculate\n",
    "        for agg_type in [\"visitor-counts\", \"home-away-matrix\"]\n",
    "    ):\n",
    "        if lookback_month_available:\n",
    "            lookback_month_offset = -1 - lookback_n_months\n",
    "            required_subsets.append(lookback_month_offset)\n",
    "        else:\n",
    "            warnings.warn(\n",
    "                f\"Home locations will be calculated from just one month's majority location (no lookback)\"\n",
    "            )\n",
    "else:\n",
    "    if include_unsubsetted or (\"active-cell-counts\" in aggregates_to_calculate):\n",
    "        warnings.warn(\n",
    "            f\"Insufficient data to calculate subscriber subset for this month. Only unsubsetted aggregates will be produced.\"\n",
    "        )\n",
    "        required_subsets = []\n",
    "    else:\n",
    "        raise ValueError(\"Insufficient data to produce aggregates for this month\")"
   ]
  },
  {
   "cell_type": "code",
   "execution_count": null,
   "id": "97bbba6b-562f-4257-8275-57cd41b3b7da",
   "metadata": {},
   "outputs": [],
   "source": [
    "sorted_month_offsets = sorted(required_subsets, reverse=True)\n",
    "dates_to_skip = find_dates_to_exclude_monthly(\n",
    "    date_today,\n",
    "    flowdb_connection=fm.core.context.get_db(),\n",
    "    month_offset=sorted_month_offsets[0],\n",
    "    month_start_day=month_start_day,\n",
    "    window_length=window_length,\n",
    "    event_types=event_types,\n",
    "    latest_truncation_threshold=latest_truncation_threshold,\n",
    "    fail_on_missing_latest=require_latest_data,\n",
    ").union(\n",
    "    *(\n",
    "        find_dates_to_exclude_monthly(\n",
    "            date_today,\n",
    "            flowdb_connection=fm.core.context.get_db(),\n",
    "            month_offset=mo,\n",
    "            month_start_day=month_start_day,\n",
    "            window_length=window_length,\n",
    "            event_types=event_types,\n",
    "            latest_truncation_threshold=latest_truncation_threshold,\n",
    "            fail_on_missing_latest=require_latest_data,\n",
    "        )\n",
    "        for mo in sorted_month_offsets[1:]\n",
    "    )\n",
    ")\n",
    "dates_to_skip"
   ]
  },
  {
   "cell_type": "markdown",
   "id": "6d6bb495-c07b-4f08-8928-a4ae1faaf43b",
   "metadata": {
    "tags": []
   },
   "source": [
    "# Subscriber subsets\n",
    "\n",
    "Subscriber subsets have to be defined and run using flowmachine directly, and then the query IDs can be used to subset FlowAPI queries."
   ]
  },
  {
   "cell_type": "markdown",
   "id": "0f467158-2b3d-4052-911b-c4889f01e02d",
   "metadata": {
    "tags": []
   },
   "source": [
    "## Define subscriber subset queries"
   ]
  },
  {
   "cell_type": "code",
   "execution_count": null,
   "id": "54b523d7-5032-429e-a550-33917d0b5413",
   "metadata": {},
   "outputs": [],
   "source": [
    "tables = [f\"events.{event_type}\" for event_type in event_types]"
   ]
  },
  {
   "cell_type": "code",
   "execution_count": null,
   "id": "b49fe56d-2b76-44cb-8aa3-4c4ee6638d5e",
   "metadata": {},
   "outputs": [],
   "source": [
    "# Convert FlowAPI aggregation unit parameters to a flowmachine spatial unit\n",
    "if \"admin\" in aggregation_unit:\n",
    "    spatial_unit = fm.core.spatial_unit.make_spatial_unit(\n",
    "        spatial_unit_type=\"admin\",\n",
    "        level=int(aggregation_unit[-1]),\n",
    "        mapping_table=mapping_table,\n",
    "        geom_table=geom_table,\n",
    "        geom_table_join_on=geom_table_join_column,\n",
    "    )\n",
    "else:\n",
    "    spatial_unit = fm.core.spatial_unit.make_spatial_unit(\n",
    "        spatial_unit_type=aggregation_unit,\n",
    "        mapping_table=mapping_table,\n",
    "        geom_table=geom_table,\n",
    "        geom_table_join_on=geom_table_join_column,\n",
    "    )"
   ]
  },
  {
   "cell_type": "code",
   "execution_count": null,
   "id": "9fd46191-0621-4993-8f55-51d919fdcc24",
   "metadata": {},
   "outputs": [],
   "source": [
    "subscriber_subsets_and_intermediates = [\n",
    "    monthly_subscriber_subset_query(\n",
    "        date_today,\n",
    "        month_offset=month_offset,\n",
    "        month_start_day=month_start_day,\n",
    "        window_length=window_length,\n",
    "        min_call_days=min_call_days,\n",
    "        spatial_unit=spatial_unit,\n",
    "        tables=tables,\n",
    "        dates_to_exclude=dates_to_skip,\n",
    "    )\n",
    "    for month_offset in required_subsets\n",
    "]"
   ]
  },
  {
   "cell_type": "markdown",
   "id": "3b97fc0f-cb5a-4723-a76b-5d0763901c7c",
   "metadata": {},
   "source": [
    "## Run subscriber subset queries"
   ]
  },
  {
   "cell_type": "code",
   "execution_count": null,
   "id": "d065f6ae-43f7-46fe-a46f-e74153fa8c03",
   "metadata": {},
   "outputs": [],
   "source": [
    "subset_futs = [\n",
    "    subset.store(store_dependencies=True)\n",
    "    for subset, intermediates in subscriber_subsets_and_intermediates\n",
    "    if not subset.is_stored\n",
    "]"
   ]
  },
  {
   "cell_type": "markdown",
   "id": "46b03a59-405f-4963-ba7c-6e7ea3901717",
   "metadata": {},
   "source": [
    "Wait until all subsets have been calculated."
   ]
  },
  {
   "cell_type": "code",
   "execution_count": null,
   "id": "fbd7e3f5-3696-47e3-9970-38801fd7f548",
   "metadata": {},
   "outputs": [],
   "source": [
    "import concurrent.futures\n",
    "\n",
    "concurrent.futures.wait(subset_futs)"
   ]
  },
  {
   "cell_type": "code",
   "execution_count": null,
   "id": "9ff4dd7a-336d-4761-b847-24fede3a4b1c",
   "metadata": {},
   "outputs": [],
   "source": [
    "[len(subset) for subset, intermediates in subscriber_subsets_and_intermediates]"
   ]
  },
  {
   "cell_type": "markdown",
   "id": "91b4f706-817a-4b06-aa45-2f19b6b8f030",
   "metadata": {
    "tags": []
   },
   "source": [
    "## Wrap in Table objects so that flowmachine server can unpickle"
   ]
  },
  {
   "cell_type": "code",
   "execution_count": null,
   "id": "709513da-c758-4c5a-8d32-127d0a4bddae",
   "metadata": {},
   "outputs": [],
   "source": [
    "subscriber_subset_tables = [\n",
    "    subset.get_table() for subset, intermediates in subscriber_subsets_and_intermediates\n",
    "]"
   ]
  },
  {
   "cell_type": "code",
   "execution_count": null,
   "id": "1dca5237-22f4-4fc4-afd6-66edcdd60341",
   "metadata": {},
   "outputs": [],
   "source": [
    "subscriber_subset_query_ids = [subset.query_id for subset in subscriber_subset_tables]"
   ]
  },
  {
   "cell_type": "code",
   "execution_count": null,
   "id": "63d530ad-31ab-476a-8a32-0239de28aee7",
   "metadata": {},
   "outputs": [],
   "source": [
    "subscriber_subset_query_ids"
   ]
  },
  {
   "cell_type": "markdown",
   "id": "802c8a8c-9d17-4e25-a1fe-56e42de0d8ad",
   "metadata": {},
   "source": [
    "Subset query ids can now be passed on to API queries."
   ]
  },
  {
   "cell_type": "markdown",
   "id": "7bafa820-0462-4e0c-ab76-a7807826d0ef",
   "metadata": {
    "tags": []
   },
   "source": [
    "# FlowAPI side"
   ]
  },
  {
   "cell_type": "markdown",
   "id": "7d5a0317-ca5c-4c77-98c3-33342db440b5",
   "metadata": {
    "tags": []
   },
   "source": [
    "## Define queries"
   ]
  },
  {
   "cell_type": "code",
   "execution_count": null,
   "id": "55b5d900-4f6b-444a-8c71-671dba16ce08",
   "metadata": {},
   "outputs": [],
   "source": [
    "api_queries = {}"
   ]
  },
  {
   "cell_type": "code",
   "execution_count": null,
   "id": "02fac298-bc82-42cc-9749-a70fbc92df5e",
   "metadata": {},
   "outputs": [],
   "source": [
    "dates_to_run = {\n",
    "    str(d.date())\n",
    "    for d in pd.date_range(\n",
    "        get_date_in_month(date_today, day_of_month=month_start_day, month_offset=-1),\n",
    "        get_date_in_month(date_today, day_of_month=month_start_day, month_offset=0),\n",
    "        inclusive=\"left\",\n",
    "    )\n",
    "}.difference(dates_to_skip)"
   ]
  },
  {
   "cell_type": "markdown",
   "id": "28397f36-1998-45a0-97de-aded6226e8d3",
   "metadata": {
    "tags": []
   },
   "source": [
    "### Home location sub-query\n",
    "\n",
    "Required for visitor-counts and home-away-matrix aggregates."
   ]
  },
  {
   "cell_type": "code",
   "execution_count": null,
   "id": "c5a460db-091e-4e6f-991f-275a80e09374",
   "metadata": {},
   "outputs": [],
   "source": [
    "if data_available and any(\n",
    "    agg_type in aggregates_to_calculate\n",
    "    for agg_type in [\"visitor-counts\", \"home-away-matrix\"]\n",
    "):\n",
    "    home_location_spec = monthly_home_location_spec(\n",
    "        date_today,\n",
    "        month_offset=-1,\n",
    "        month_start_day=month_start_day,\n",
    "        window_length=window_length,\n",
    "        lookback_n_months=lookback_n_months,\n",
    "        aggregation_unit=aggregation_unit,\n",
    "        mapping_table=mapping_table,\n",
    "        geom_table=geom_table,\n",
    "        geom_table_join_column=geom_table_join_column,\n",
    "        this_month_subscriber_subset=subscriber_subset_query_ids[0],\n",
    "        last_month_subscriber_subset=(\n",
    "            subscriber_subset_query_ids[1] if lookback_month_available else None\n",
    "        ),\n",
    "        event_types=event_types,\n",
    "        dates_to_exclude=dates_to_skip,\n",
    "    )"
   ]
  },
  {
   "cell_type": "markdown",
   "id": "a59ee1ff-9367-49d7-861d-1eb7a9aa230b",
   "metadata": {},
   "source": [
    "### Subsetted queries"
   ]
  },
  {
   "cell_type": "code",
   "execution_count": null,
   "id": "d38034a6-3530-4b17-b657-9203f7723046",
   "metadata": {},
   "outputs": [],
   "source": [
    "if data_available:\n",
    "    for d in dates_to_run:\n",
    "        d_next = fm.utils.time_period_add(d, 1, \"days\")\n",
    "        common_args = dict(\n",
    "            start_date=d,\n",
    "            end_date=d_next,\n",
    "            aggregation_unit=aggregation_unit,\n",
    "            mapping_table=mapping_table,\n",
    "            geom_table=geom_table,\n",
    "            geom_table_join_column=geom_table_join_column,\n",
    "            event_types=event_types,\n",
    "            subscriber_subset=subscriber_subset_query_ids[0],\n",
    "        )\n",
    "        # Unique subscriber counts\n",
    "        if \"subscriber-counts\" in aggregates_to_calculate:\n",
    "            api_queries[f\"subscriber-counts_subset_{d}\"] = unique_subscriber_counts(\n",
    "                connection=fc_conn,\n",
    "                **common_args,\n",
    "            )\n",
    "        # Trips OD matrix (directed, all-pairs)\n",
    "        if \"all-trips\" in aggregates_to_calculate:\n",
    "            api_queries[f\"all-trips_subset_{d}\"] = trips_od_matrix(\n",
    "                connection=fc_conn,\n",
    "                **common_args,\n",
    "            )\n",
    "        # Consecutive trips OD matrix\n",
    "        if \"consecutive-trips\" in aggregates_to_calculate:\n",
    "            api_queries[f\"consecutive-trips_subset_{d}\"] = consecutive_trips_od_matrix(\n",
    "                connection=fc_conn,\n",
    "                **common_args,\n",
    "            )\n",
    "        # Visitor counts\n",
    "        if \"visitor-counts\" in aggregates_to_calculate:\n",
    "            # unique_visitor_counts function is missing from flowclient, for some reason\n",
    "            api_queries[f\"visitor-counts_subset_{d}\"] = fc_conn.make_api_query(\n",
    "                parameters=dict(\n",
    "                    query_kind=\"unique_visitor_counts\",\n",
    "                    unique_subscriber_counts=unique_subscriber_counts_spec(\n",
    "                        **common_args\n",
    "                    ),\n",
    "                    active_at_reference_location_counts=active_at_reference_location_counts_spec(\n",
    "                        reference_locations=home_location_spec,\n",
    "                        unique_locations=unique_locations_spec(**common_args),\n",
    "                    ),\n",
    "                )\n",
    "            )\n",
    "        # Home-away matrix\n",
    "        if \"home-away-matrix\" in aggregates_to_calculate:\n",
    "            api_queries[f\"home-away-matrix_subset_{d}\"] = flows(\n",
    "                connection=fc_conn,\n",
    "                from_location=home_location_spec,\n",
    "                to_location=unique_locations_spec(**common_args),\n",
    "                join_type=\"full outer\",\n",
    "            )\n",
    "        # Event counts\n",
    "        if \"event-counts\" in aggregates_to_calculate:\n",
    "            api_queries[f\"event-counts_subset_{d}\"] = location_event_counts(\n",
    "                connection=fc_conn,\n",
    "                **common_args,\n",
    "                count_interval=\"day\",\n",
    "            )"
   ]
  },
  {
   "cell_type": "markdown",
   "id": "daf19158-a60b-404f-8e3b-cc2ba08ced94",
   "metadata": {},
   "source": [
    "### Unsubsetted queries"
   ]
  },
  {
   "cell_type": "code",
   "execution_count": null,
   "id": "cebec482-3e93-4346-8cc6-3d12043e3022",
   "metadata": {},
   "outputs": [],
   "source": [
    "if include_unsubsetted:\n",
    "    for d in dates_to_run:\n",
    "        d_next = fm.utils.time_period_add(d, 1, \"days\")\n",
    "        common_args = dict(\n",
    "            connection=fc_conn,\n",
    "            start_date=d,\n",
    "            end_date=d_next,\n",
    "            aggregation_unit=aggregation_unit,\n",
    "            mapping_table=mapping_table,\n",
    "            geom_table=geom_table,\n",
    "            geom_table_join_column=geom_table_join_column,\n",
    "            event_types=event_types,\n",
    "        )\n",
    "        # Unique subscriber counts\n",
    "        if \"subscriber-counts\" in aggregates_to_calculate:\n",
    "            api_queries[f\"subscriber-counts_nosubset_{d}\"] = unique_subscriber_counts(\n",
    "                **common_args\n",
    "            )\n",
    "        # Trips OD matrix (directed, all-pairs)\n",
    "        if \"all-trips\" in aggregates_to_calculate:\n",
    "            api_queries[f\"all-trips_nosubset_{d}\"] = trips_od_matrix(**common_args)\n",
    "        # Consecutive trips OD matrix\n",
    "        if \"consecutive-trips\" in aggregates_to_calculate:\n",
    "            api_queries[f\"consecutive-trips_nosubset_{d}\"] = (\n",
    "                consecutive_trips_od_matrix(**common_args)\n",
    "            )\n",
    "        # Event counts\n",
    "        if \"event-counts\" in aggregates_to_calculate:\n",
    "            api_queries[f\"event-counts_nosubset_{d}\"] = location_event_counts(\n",
    "                **common_args,\n",
    "                count_interval=\"day\",\n",
    "            )"
   ]
  },
  {
   "cell_type": "markdown",
   "id": "b7527cf5-d3be-4fe2-bd7d-496b9aebb26f",
   "metadata": {
    "tags": []
   },
   "source": [
    "### Active cell counts\n",
    "\n",
    "Subsetting is irrelevant for this one, so we run it regardless of whether or not sufficient data are available for the monthly subscriber subset."
   ]
  },
  {
   "cell_type": "code",
   "execution_count": null,
   "id": "bebbf82c-a24e-43e4-9b27-f3abc80dd933",
   "metadata": {},
   "outputs": [],
   "source": [
    "# Active cell counts\n",
    "if \"active-cell-counts\" in aggregates_to_calculate:\n",
    "    for d in dates_to_run:\n",
    "        d_next = fm.utils.time_period_add(d, 1, \"days\")\n",
    "        api_queries[f\"active-cell-counts_{d}\"] = total_network_objects(\n",
    "            connection=fc_conn,\n",
    "            start_date=d,\n",
    "            end_date=d_next,\n",
    "            aggregation_unit=aggregation_unit,\n",
    "            mapping_table=mapping_table,\n",
    "            geom_table=geom_table,\n",
    "            geom_table_join_column=geom_table_join_column,\n",
    "            event_types=event_types,\n",
    "            total_by=\"day\",\n",
    "        )"
   ]
  },
  {
   "cell_type": "markdown",
   "id": "fc48f96b-086c-4524-8aed-2b02b31bdf83",
   "metadata": {
    "tags": []
   },
   "source": [
    "## Get results and write to files"
   ]
  },
  {
   "cell_type": "code",
   "execution_count": null,
   "id": "71a41f8b",
   "metadata": {},
   "outputs": [],
   "source": [
    "additional_attrs = {\n",
    "    \"author\": author,\n",
    "    \"redacted\": True,\n",
    "    \"excluded_dates\": sorted(dates_to_skip),\n",
    "}"
   ]
  },
  {
   "cell_type": "code",
   "execution_count": null,
   "id": "e98ead5f-5e18-4ad1-a3c6-029cda9eaa0c",
   "metadata": {},
   "outputs": [],
   "source": [
    "outputs_path.mkdir(exist_ok=True, parents=True)"
   ]
  },
  {
   "cell_type": "code",
   "execution_count": null,
   "id": "976a2651-3ad4-4876-b581-2c06cb8bfe36",
   "metadata": {},
   "outputs": [],
   "source": [
    "if use_async_client:\n",
    "    awaitables = [\n",
    "        run_query_and_write_result_async(\n",
    "            query,\n",
    "            filepath=outputs_path / label,\n",
    "            overwrite=overwrite,\n",
    "            file_format=output_format,\n",
    "            additional_attrs=additional_attrs,\n",
    "        )\n",
    "        for label, query in api_queries.items()\n",
    "    ]\n",
    "else:\n",
    "    # If using the sync client, we want to set all queries running before waiting on any results\n",
    "    for label, query in api_queries.items():\n",
    "        print(f\"Setting '{label}' query running...\")\n",
    "        query.run()\n",
    "    print(\"All queries are running\")"
   ]
  },
  {
   "cell_type": "code",
   "execution_count": null,
   "id": "5c8df0ef-ac06-43b4-b080-08e21e66a3da",
   "metadata": {},
   "outputs": [],
   "source": [
    "if use_async_client:\n",
    "    import asyncio\n",
    "\n",
    "    await asyncio.gather(*awaitables)\n",
    "else:\n",
    "    for label, query in api_queries.items():\n",
    "        print(f\"Getting result of '{label}' query...\")\n",
    "        run_query_and_write_result(\n",
    "            query,\n",
    "            filepath=outputs_path / label,\n",
    "            overwrite=overwrite,\n",
    "            file_format=output_format,\n",
    "            additional_attrs=additional_attrs,\n",
    "        )\n",
    "print(\"All queries completed\")"
   ]
  },
  {
   "cell_type": "code",
   "execution_count": null,
   "id": "1cc89c6a-8250-45da-aff5-644294a31d19",
   "metadata": {},
   "outputs": [],
   "source": []
  }
 ],
 "metadata": {
  "kernelspec": {
   "display_name": "Python 3 (ipykernel)",
   "language": "python",
   "name": "python3"
  },
  "language_info": {
   "codemirror_mode": {
    "name": "ipython",
    "version": 3
   },
   "file_extension": ".py",
   "mimetype": "text/x-python",
   "name": "python",
   "nbconvert_exporter": "python",
   "pygments_lexer": "ipython3",
   "version": "3.10.6"
  }
 },
 "nbformat": 4,
 "nbformat_minor": 5
}
