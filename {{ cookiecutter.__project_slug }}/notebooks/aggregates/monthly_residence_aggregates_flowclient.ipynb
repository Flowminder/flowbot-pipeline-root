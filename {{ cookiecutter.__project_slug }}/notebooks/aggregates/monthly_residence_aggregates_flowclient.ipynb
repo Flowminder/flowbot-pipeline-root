{
 "cells": [
  {
   "cell_type": "markdown",
   "metadata": {},
   "source": [
    "James Harrison, 2022-04-20\n",
    "\n",
    "This notebook is used to produce the following aggregates:\n",
    "- Resident count per admin3 last month\n",
    "- Home relocation counts from month-before-last to last month, per pair of admin3s\n",
    "- Count of total subscribers active anywhere in the country at any time during the month\n",
    "\n",
    "'Last month' is the most recently-ended full calendar month before today.\n",
    "\n",
    "These aggregates can be used to produce mobility indicators related to residence and home relocation."
   ]
  },
  {
   "cell_type": "code",
   "execution_count": null,
   "metadata": {},
   "outputs": [],
   "source": [
    "import datetime\n",
    "import warnings\n",
    "from pathlib import Path\n",
    "\n",
    "import flowclient as fc\n",
    "import flowmachine as fm\n",
    "import pandas as pd\n",
    "from flowclient import flows, spatial_aggregate, unique_subscriber_counts\n",
    "from get_secret_or_env_var import environ\n",
    "from utils import (\n",
    "    check_data_availability_for_home_locations,\n",
    "    find_dates_to_exclude_monthly,\n",
    "    get_date_in_month,\n",
    "    monthly_home_location_spec,\n",
    "    monthly_subscriber_subset_query,\n",
    "    run_query_and_write_result,\n",
    ")"
   ]
  },
  {
   "cell_type": "markdown",
   "metadata": {
    "tags": []
   },
   "source": [
    "# Setup"
   ]
  },
  {
   "cell_type": "markdown",
   "metadata": {},
   "source": [
    "## Parameters"
   ]
  },
  {
   "cell_type": "code",
   "execution_count": null,
   "metadata": {},
   "outputs": [],
   "source": [
    "datetime_now = datetime.datetime.now()\n",
    "datetime_now"
   ]
  },
  {
   "cell_type": "code",
   "execution_count": null,
   "metadata": {
    "tags": [
     "parameters"
    ]
   },
   "outputs": [],
   "source": [
    "# Parameters\n",
    "author = \"James Harrison <james.harrison@flowminder.org>\"\n",
    "\n",
    "start_date = (\n",
    "    None  # First day of the month (defaults to start of first full month before now)\n",
    ")\n",
    "month_start_day = None  # If start_date is not specified, start on this day of the month (defaults to 1, i.e. first day of a calendar month)\n",
    "window_length = 7  # Length in days of the rolling window used to compute modal locations and average call days\n",
    "min_call_days = (\n",
    "    3  # Minimal number of average days in a window a subscriber was sighted on\n",
    ")\n",
    "min_percent_of_data_dates = 60  # Minimum percentage of days of data that must be present for a month to be included\n",
    "max_data_gap = (\n",
    "    6  # Maximum length (in days) of allowed data gap for a month to be included\n",
    ")\n",
    "max_empty_windows = (\n",
    "    None  # Maximum number of entirely-empty windows allowed for a month to be included\n",
    ")\n",
    "latest_truncation_threshold = (\n",
    "    \"18:00:00\"  # Threshold for excluding temporally-truncated data\n",
    ")\n",
    "\n",
    "aggregation_unit = \"admin3\"  # Spatial aggregation unit\n",
    "mapping_table = \"geography.cell_to_admin_via_clusters_1km_20221025\"\n",
    "geom_table = None\n",
    "geom_table_join_column = None\n",
    "event_types = [\"calls\"]  # Event types to use\n",
    "flowmachine_log_level = \"info\"  # Flowmachine log level\n",
    "shared_data_dir = \"./\"  # Writable output directory\n",
    "outputs_subdir = \"aggregates/residence_relocations\"  # Subdirectory of shared data dir to which results of aggregate queries will be written\n",
    "output_format = \"csv\"  # 'csv' or 'netcdf'\n",
    "overwrite = False  # Set True to overwrite previously-saved aggregates for this month (with overwrite=False, conflicting aggregate files will be renamed)\n",
    "calculate_relocations = True  # Set False to skip running the home relocations aggregate\n",
    "calculate_total_subscribers = (\n",
    "    True  # Set False to skip running the total subscribers aggregate\n",
    ")\n",
    "require_latest_data = True  # If True, computation will not proceed if the last required day of data is later than the most recent available date"
   ]
  },
  {
   "cell_type": "code",
   "execution_count": null,
   "metadata": {},
   "outputs": [],
   "source": [
    "# If start date is not specified, calculate start date from time now\n",
    "if start_date is not None:\n",
    "    if month_start_day is not None:\n",
    "        raise ValueError(\n",
    "            \"Only one of 'start_date' or 'month_start_day' may be specified\"\n",
    "        )\n",
    "else:\n",
    "    if month_start_day is None:\n",
    "        month_start_day = 1\n",
    "    start_date = get_date_in_month(\n",
    "        datetime_now,\n",
    "        day_of_month=month_start_day,\n",
    "        month_offset=(\n",
    "            -1 if datetime_now.day >= month_start_day else -2\n",
    "        ),  # If day of month now is before month_start_day, need to offset by 2 months to get a complete month (this ignores ingestion time)\n",
    "    )"
   ]
  },
  {
   "cell_type": "code",
   "execution_count": null,
   "metadata": {},
   "outputs": [],
   "source": [
    "# Construct outputs path (we don't actually create the dir until we're ready to start writing outputs later)\n",
    "outputs_path = (\n",
    "    Path(shared_data_dir)\n",
    "    / outputs_subdir\n",
    "    / f\"residence_relocations_aggregates_{start_date}\"\n",
    ")\n",
    "\n",
    "outputs_path"
   ]
  },
  {
   "cell_type": "code",
   "execution_count": null,
   "metadata": {},
   "outputs": [],
   "source": [
    "# TODO: We're now specifying start_date directly, so rewrite the rest of the notebook to use this instead of date_today and month_start_day\n",
    "date_today = pd.Timestamp(start_date) + pd.DateOffset(months=1)\n",
    "month_start_day = pd.Timestamp(start_date).day"
   ]
  },
  {
   "cell_type": "markdown",
   "metadata": {},
   "source": [
    "## Connect"
   ]
  },
  {
   "cell_type": "code",
   "execution_count": null,
   "metadata": {},
   "outputs": [],
   "source": [
    "fc_conn = fc.connect(\n",
    "    url=environ[\"FLOWAPI_URL\"],\n",
    "    ssl_certificate=False,  # Workaround pending https://github.com/Flowminder/flowpyter-task/issues/35\n",
    "    token=environ[\"FLOWAPI_TOKEN\"],\n",
    ")"
   ]
  },
  {
   "cell_type": "code",
   "execution_count": null,
   "metadata": {},
   "outputs": [],
   "source": [
    "fm.connect(\n",
    "    flowdb_connection_pool_overflow=20,\n",
    "    flowdb_connection_pool_size=5,\n",
    "    log_level=flowmachine_log_level,\n",
    ")"
   ]
  },
  {
   "cell_type": "markdown",
   "metadata": {},
   "source": [
    "## Check dates"
   ]
  },
  {
   "cell_type": "code",
   "execution_count": null,
   "metadata": {},
   "outputs": [],
   "source": [
    "# Find earliest date for which all required event types are available\n",
    "# (so that we don't try to look back indefinitely for a complete 'from' month)\n",
    "available_dates = fc.get_available_dates(connection=fc_conn)\n",
    "available_dates_all_eventtypes = set(available_dates[event_types[0]]).intersection(\n",
    "    *(set(available_dates[event_type]) for event_type in event_types[1:])\n",
    ")\n",
    "earliest_available_date = min(available_dates_all_eventtypes)"
   ]
  },
  {
   "cell_type": "code",
   "execution_count": null,
   "metadata": {},
   "outputs": [],
   "source": [
    "available_aggregates = set()\n",
    "\n",
    "# Check data completeness for resident counts\n",
    "to_month_offset = -1\n",
    "(\n",
    "    to_month_available,\n",
    "    to_lookback_month_available,\n",
    "    to_lookback_n_months,\n",
    ") = check_data_availability_for_home_locations(\n",
    "    date_today,\n",
    "    flowdb_connection=fm.core.context.get_db(),\n",
    "    month_offset=to_month_offset,\n",
    "    month_start_day=month_start_day,\n",
    "    window_length=window_length,\n",
    "    event_types=event_types,\n",
    "    latest_truncation_threshold=latest_truncation_threshold,\n",
    "    fail_on_missing_latest=require_latest_data,\n",
    "    min_percent_of_dates=min_percent_of_data_dates,\n",
    "    max_allowed_gap=max_data_gap,\n",
    "    max_empty_windows=max_empty_windows,\n",
    "    min_median_included_days_per_window=min_call_days,\n",
    ")\n",
    "if to_month_available:\n",
    "    available_aggregates.add(\"resident-counts\")\n",
    "    if calculate_total_subscribers:\n",
    "        available_aggregates.add(\"total-subscribers\")\n",
    "    required_subsets = [to_month_offset]\n",
    "    if to_lookback_month_available:\n",
    "        to_lookback_month_offset = to_month_offset - to_lookback_n_months\n",
    "        required_subsets.append(to_lookback_month_offset)\n",
    "    else:\n",
    "        warnings.warn(\n",
    "            f\"Home location for resident-counts will be calculated from just one month's majority location (no lookback)\"\n",
    "        )\n",
    "else:\n",
    "    warnings.warn(f\"Insufficient complete months to run 'resident-counts' aggregate\")\n",
    "\n",
    "# Check data completeness for home relocations\n",
    "if calculate_relocations and to_month_available:\n",
    "    if to_lookback_month_available:\n",
    "        from_month_offset = to_lookback_month_offset\n",
    "    else:\n",
    "        from_month_offset = -4\n",
    "    (\n",
    "        from_month_available,\n",
    "        from_lookback_month_available,\n",
    "        from_lookback_n_months,\n",
    "    ) = check_data_availability_for_home_locations(\n",
    "        date_today,\n",
    "        flowdb_connection=fm.core.context.get_db(),\n",
    "        month_offset=from_month_offset,\n",
    "        month_start_day=month_start_day,\n",
    "        window_length=window_length,\n",
    "        event_types=event_types,\n",
    "        latest_truncation_threshold=latest_truncation_threshold,\n",
    "        fail_on_missing_latest=require_latest_data,\n",
    "        min_percent_of_dates=min_percent_of_data_dates,\n",
    "        max_allowed_gap=max_data_gap,\n",
    "        max_empty_windows=max_empty_windows,\n",
    "        min_median_included_days_per_window=min_call_days,\n",
    "    )\n",
    "    while (not from_month_available) and (\n",
    "        get_date_in_month(\n",
    "            date_today, day_of_month=month_start_day, month_offset=from_month_offset\n",
    "        )\n",
    "        > pd.Timestamp(earliest_available_date).date()\n",
    "    ):\n",
    "        # Find the most recent previous month for which sufficient data are available\n",
    "        from_month_offset -= 1\n",
    "        (\n",
    "            from_month_available,\n",
    "            from_lookback_month_available,\n",
    "            from_lookback_n_months,\n",
    "        ) = check_data_availability_for_home_locations(\n",
    "            date_today,\n",
    "            flowdb_connection=fm.core.context.get_db(),\n",
    "            month_offset=from_month_offset,\n",
    "            month_start_day=month_start_day,\n",
    "            window_length=window_length,\n",
    "            event_types=event_types,\n",
    "            latest_truncation_threshold=latest_truncation_threshold,\n",
    "            fail_on_missing_latest=require_latest_data,\n",
    "            min_percent_of_dates=min_percent_of_data_dates,\n",
    "            max_allowed_gap=max_data_gap,\n",
    "            max_empty_windows=max_empty_windows,\n",
    "            min_median_included_days_per_window=min_call_days,\n",
    "        )\n",
    "    if from_month_available:\n",
    "        available_aggregates.add(\"home-relocations\")\n",
    "        if not to_lookback_month_available:\n",
    "            warnings.warn(\n",
    "                f\"Home location for 'to' month of home-relocations will be calculated from just one month's majority location (no lookback)\"\n",
    "            )\n",
    "            required_subsets.append(from_month_offset)\n",
    "        if from_lookback_month_available:\n",
    "            from_lookback_month_offset = from_month_offset - from_lookback_n_months\n",
    "            required_subsets.append(from_lookback_month_offset)\n",
    "        else:\n",
    "            warnings.warn(\n",
    "                f\"Home location for 'from' month of home-relocations will be calculated from just one month's majority location (no lookback)\"\n",
    "            )\n",
    "    else:\n",
    "        warnings.warn(\n",
    "            f\"Insufficient complete months to run 'home-relocations' aggregate\"\n",
    "        )\n",
    "elif calculate_relocations:\n",
    "    warnings.warn(f\"Insufficient complete months to run 'home-relocations' aggregate\")\n",
    "\n",
    "if not available_aggregates:\n",
    "    raise ValueError(\"Insufficient complete months to run any aggregates\")\n",
    "\n",
    "required_subsets"
   ]
  },
  {
   "cell_type": "code",
   "execution_count": null,
   "metadata": {},
   "outputs": [],
   "source": [
    "sorted_month_offsets = sorted(required_subsets, reverse=True)\n",
    "dates_to_skip = find_dates_to_exclude_monthly(\n",
    "    date_today,\n",
    "    flowdb_connection=fm.core.context.get_db(),\n",
    "    month_offset=sorted_month_offsets[0],\n",
    "    month_start_day=month_start_day,\n",
    "    window_length=window_length,\n",
    "    event_types=event_types,\n",
    "    latest_truncation_threshold=latest_truncation_threshold,\n",
    "    fail_on_missing_latest=require_latest_data,\n",
    ").union(\n",
    "    *(\n",
    "        find_dates_to_exclude_monthly(\n",
    "            date_today,\n",
    "            flowdb_connection=fm.core.context.get_db(),\n",
    "            month_offset=mo,\n",
    "            month_start_day=month_start_day,\n",
    "            window_length=window_length,\n",
    "            event_types=event_types,\n",
    "            latest_truncation_threshold=latest_truncation_threshold,\n",
    "            fail_on_missing_latest=require_latest_data,\n",
    "        )\n",
    "        for mo in sorted_month_offsets[1:]\n",
    "    )\n",
    ")\n",
    "dates_to_skip"
   ]
  },
  {
   "cell_type": "markdown",
   "metadata": {
    "tags": []
   },
   "source": [
    "# Subscriber subsets\n",
    "\n",
    "Subscriber subsets have to be defined and run using flowmachine directly, and then the query IDs can be used to subset FlowAPI queries."
   ]
  },
  {
   "cell_type": "markdown",
   "metadata": {},
   "source": [
    "## Define subscriber subset queries"
   ]
  },
  {
   "cell_type": "code",
   "execution_count": null,
   "metadata": {},
   "outputs": [],
   "source": [
    "tables = [f\"events.{event_type}\" for event_type in event_types]"
   ]
  },
  {
   "cell_type": "code",
   "execution_count": null,
   "metadata": {},
   "outputs": [],
   "source": [
    "# Convert FlowAPI aggregation unit parameters to a flowmachine spatial unit\n",
    "if \"admin\" not in aggregation_unit:\n",
    "    raise NotImplementedError(\n",
    "        \"This notebook cannot yet handle non-admin aggregation units for the subscriber subset definition\"\n",
    "    )\n",
    "\n",
    "spatial_unit = fm.core.spatial_unit.make_spatial_unit(\n",
    "    spatial_unit_type=\"admin\",\n",
    "    level=int(aggregation_unit[-1]),\n",
    "    mapping_table=mapping_table,\n",
    "    geom_table=geom_table,\n",
    "    geom_table_join_on=geom_table_join_column,\n",
    ")"
   ]
  },
  {
   "cell_type": "code",
   "execution_count": null,
   "metadata": {},
   "outputs": [],
   "source": [
    "subscriber_subsets_and_intermediates = [\n",
    "    monthly_subscriber_subset_query(\n",
    "        date_today,\n",
    "        month_offset=month_offset,\n",
    "        month_start_day=month_start_day,\n",
    "        window_length=window_length,\n",
    "        min_call_days=min_call_days,\n",
    "        spatial_unit=spatial_unit,\n",
    "        tables=tables,\n",
    "        dates_to_exclude=dates_to_skip,\n",
    "    )\n",
    "    for month_offset in required_subsets\n",
    "]"
   ]
  },
  {
   "cell_type": "markdown",
   "metadata": {},
   "source": [
    "## Run subscriber subset queries"
   ]
  },
  {
   "cell_type": "code",
   "execution_count": null,
   "metadata": {},
   "outputs": [],
   "source": [
    "subset_futs = [\n",
    "    subset.store(store_dependencies=True)\n",
    "    for subset, intermediates in subscriber_subsets_and_intermediates\n",
    "    if not subset.is_stored\n",
    "]"
   ]
  },
  {
   "cell_type": "markdown",
   "metadata": {},
   "source": [
    "Wait until all subsets have been calculated."
   ]
  },
  {
   "cell_type": "code",
   "execution_count": null,
   "metadata": {},
   "outputs": [],
   "source": [
    "import concurrent.futures\n",
    "\n",
    "concurrent.futures.wait(subset_futs)"
   ]
  },
  {
   "cell_type": "code",
   "execution_count": null,
   "metadata": {},
   "outputs": [],
   "source": [
    "[len(subset) for subset, intermediates in subscriber_subsets_and_intermediates]"
   ]
  },
  {
   "cell_type": "markdown",
   "metadata": {
    "tags": []
   },
   "source": [
    "## Wrap in Table objects so that flowmachine server can unpickle"
   ]
  },
  {
   "cell_type": "code",
   "execution_count": null,
   "metadata": {},
   "outputs": [],
   "source": [
    "subscriber_subset_tables = [\n",
    "    subset.get_table() for subset, intermediates in subscriber_subsets_and_intermediates\n",
    "]"
   ]
  },
  {
   "cell_type": "code",
   "execution_count": null,
   "metadata": {},
   "outputs": [],
   "source": [
    "subscriber_subset_query_ids = [subset.query_id for subset in subscriber_subset_tables]"
   ]
  },
  {
   "cell_type": "code",
   "execution_count": null,
   "metadata": {},
   "outputs": [],
   "source": [
    "subscriber_subset_query_ids"
   ]
  },
  {
   "cell_type": "markdown",
   "metadata": {},
   "source": [
    "Subset query ids can now be passed on to API queries."
   ]
  },
  {
   "cell_type": "markdown",
   "metadata": {
    "tags": []
   },
   "source": [
    "# FlowAPI side"
   ]
  },
  {
   "cell_type": "markdown",
   "metadata": {
    "tags": []
   },
   "source": [
    "## Define queries"
   ]
  },
  {
   "cell_type": "code",
   "execution_count": null,
   "metadata": {},
   "outputs": [],
   "source": [
    "api_queries = {}"
   ]
  },
  {
   "cell_type": "markdown",
   "metadata": {
    "tags": []
   },
   "source": [
    "### Home location sub-queries"
   ]
  },
  {
   "cell_type": "code",
   "execution_count": null,
   "metadata": {},
   "outputs": [],
   "source": [
    "if (\"resident-counts\" in available_aggregates) or (\n",
    "    \"home-relocations\" in available_aggregates\n",
    "):\n",
    "    to_month_home_location_spec = monthly_home_location_spec(\n",
    "        date_today,\n",
    "        month_offset=to_month_offset,\n",
    "        month_start_day=month_start_day,\n",
    "        window_length=window_length,\n",
    "        lookback_n_months=to_lookback_n_months,\n",
    "        aggregation_unit=aggregation_unit,\n",
    "        mapping_table=mapping_table,\n",
    "        geom_table=geom_table,\n",
    "        geom_table_join_column=geom_table_join_column,\n",
    "        this_month_subscriber_subset=subscriber_subset_query_ids[0],\n",
    "        last_month_subscriber_subset=(\n",
    "            subscriber_subset_query_ids[1] if to_lookback_month_available else None\n",
    "        ),\n",
    "        event_types=event_types,\n",
    "        dates_to_exclude=dates_to_skip,\n",
    "    )\n",
    "\n",
    "if \"home-relocations\" in available_aggregates:\n",
    "    from_month_home_location_spec = monthly_home_location_spec(\n",
    "        date_today,\n",
    "        month_offset=from_month_offset,\n",
    "        month_start_day=month_start_day,\n",
    "        window_length=window_length,\n",
    "        lookback_n_months=from_lookback_n_months,\n",
    "        aggregation_unit=aggregation_unit,\n",
    "        mapping_table=mapping_table,\n",
    "        geom_table=geom_table,\n",
    "        geom_table_join_column=geom_table_join_column,\n",
    "        this_month_subscriber_subset=subscriber_subset_query_ids[1],\n",
    "        last_month_subscriber_subset=(\n",
    "            subscriber_subset_query_ids[2] if from_lookback_month_available else None\n",
    "        ),\n",
    "        event_types=event_types,\n",
    "        dates_to_exclude=dates_to_skip,\n",
    "    )"
   ]
  },
  {
   "cell_type": "markdown",
   "metadata": {},
   "source": [
    "### Resident counts"
   ]
  },
  {
   "cell_type": "code",
   "execution_count": null,
   "metadata": {},
   "outputs": [],
   "source": [
    "if \"resident-counts\" in available_aggregates:\n",
    "    api_queries[\"resident-counts\"] = spatial_aggregate(\n",
    "        connection=fc_conn,\n",
    "        locations=to_month_home_location_spec,\n",
    "    )"
   ]
  },
  {
   "cell_type": "markdown",
   "metadata": {},
   "source": [
    "### Home relocations matrix"
   ]
  },
  {
   "cell_type": "code",
   "execution_count": null,
   "metadata": {},
   "outputs": [],
   "source": [
    "if \"home-relocations\" in available_aggregates:\n",
    "    # Run home relocations query twice, once with an inner join and once with an outer join,\n",
    "    # so that we get counts of both (unlocatable -> A) and (unlocatable+inactive -> A)\n",
    "    for join_type in [\"inner\", \"full outer\"]:\n",
    "        api_queries[f\"home-relocations_{join_type.replace(' ', '-')}\"] = flows(\n",
    "            connection=fc_conn,\n",
    "            from_location=from_month_home_location_spec,\n",
    "            to_location=to_month_home_location_spec,\n",
    "            join_type=join_type,\n",
    "        )"
   ]
  },
  {
   "cell_type": "markdown",
   "metadata": {},
   "source": [
    "### Total subscribers"
   ]
  },
  {
   "cell_type": "code",
   "execution_count": null,
   "metadata": {},
   "outputs": [],
   "source": [
    "if \"total-subscribers\" in available_aggregates:\n",
    "    # Note: not using a subscriber subset here - we want to count all subscribers who were active even once\n",
    "    api_queries[\"total-subscribers\"] = unique_subscriber_counts(\n",
    "        connection=fc_conn,\n",
    "        start_date=str(\n",
    "            get_date_in_month(\n",
    "                date_today, day_of_month=month_start_day, month_offset=to_month_offset\n",
    "            )\n",
    "        ),\n",
    "        end_date=str(\n",
    "            get_date_in_month(\n",
    "                date_today,\n",
    "                day_of_month=month_start_day,\n",
    "                month_offset=to_month_offset + 1,\n",
    "            )\n",
    "        ),\n",
    "        aggregation_unit=\"admin0\",\n",
    "        mapping_table=mapping_table,\n",
    "        event_types=event_types,\n",
    "    )"
   ]
  },
  {
   "cell_type": "markdown",
   "metadata": {
    "tags": []
   },
   "source": [
    "## Run queries"
   ]
  },
  {
   "cell_type": "code",
   "execution_count": null,
   "metadata": {},
   "outputs": [],
   "source": [
    "for label, query in api_queries.items():\n",
    "    print(f\"Setting '{label}' query running...\")\n",
    "    query.run()\n",
    "print(\"All queries are running\")"
   ]
  },
  {
   "cell_type": "markdown",
   "metadata": {
    "tags": []
   },
   "source": [
    "## Get results and write to files"
   ]
  },
  {
   "cell_type": "code",
   "execution_count": null,
   "metadata": {},
   "outputs": [],
   "source": [
    "to_month_date_string = str(\n",
    "    get_date_in_month(\n",
    "        date_today, day_of_month=month_start_day, month_offset=to_month_offset\n",
    "    )\n",
    ")\n",
    "if calculate_relocations:\n",
    "    from_month_date_string = str(\n",
    "        get_date_in_month(\n",
    "            date_today, day_of_month=month_start_day, month_offset=from_month_offset\n",
    "        )\n",
    "    )"
   ]
  },
  {
   "cell_type": "code",
   "execution_count": null,
   "metadata": {},
   "outputs": [],
   "source": [
    "common_additional_attrs = {\n",
    "    \"author\": author,\n",
    "    \"redacted\": True,\n",
    "    \"excluded_dates\": sorted(dates_to_skip),\n",
    "}"
   ]
  },
  {
   "cell_type": "code",
   "execution_count": null,
   "metadata": {},
   "outputs": [],
   "source": [
    "outputs_path.mkdir(exist_ok=True, parents=True)"
   ]
  },
  {
   "cell_type": "code",
   "execution_count": null,
   "metadata": {},
   "outputs": [],
   "source": [
    "for label, query in api_queries.items():\n",
    "    print(f\"Getting result of '{label}' query...\")\n",
    "    if \"relocations\" in label:\n",
    "        date_attrs = dict(\n",
    "            month_start_date_from=from_month_date_string,\n",
    "            month_start_date_to=to_month_date_string,\n",
    "        )\n",
    "        date_tag = f\"from{from_month_date_string}_to{to_month_date_string}\"\n",
    "    else:\n",
    "        date_attrs = dict(month_start_date=to_month_date_string)\n",
    "        date_tag = to_month_date_string\n",
    "    run_query_and_write_result(\n",
    "        query,\n",
    "        filepath=outputs_path / f\"{label}_{date_tag}\",\n",
    "        overwrite=overwrite,\n",
    "        file_format=output_format,\n",
    "        additional_attrs={**common_additional_attrs, **date_attrs},\n",
    "    )\n",
    "print(\"All queries completed\")"
   ]
  },
  {
   "cell_type": "code",
   "execution_count": null,
   "metadata": {},
   "outputs": [],
   "source": []
  }
 ],
 "metadata": {
  "kernelspec": {
   "display_name": "Python 3 (ipykernel)",
   "language": "python",
   "name": "python3"
  },
  "language_info": {
   "codemirror_mode": {
    "name": "ipython",
    "version": 3
   },
   "file_extension": ".py",
   "mimetype": "text/x-python",
   "name": "python",
   "nbconvert_exporter": "python",
   "pygments_lexer": "ipython3",
   "version": "3.10.6"
  },
  "toc-autonumbering": true
 },
 "nbformat": 4,
 "nbformat_minor": 4
}
