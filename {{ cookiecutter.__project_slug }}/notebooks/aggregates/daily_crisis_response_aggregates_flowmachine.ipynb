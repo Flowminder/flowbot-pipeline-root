{
 "cells": [
  {
   "cell_type": "markdown",
   "id": "de8b66f2-bd57-4029-bb52-149e547cc3af",
   "metadata": {},
   "source": [
    "James Harrison, 2023-06-08\n",
    "\n",
    "This is a modified version of 'run_daily_crisis_response_aggregates.ipynb' which runs the aggregates using flowmachine directly, so that aggregates can optionally be unredacted.\n",
    "\n",
    "This notebook is used to produce the following aggregates:\n",
    "- All-pairs trips OD matrix\n",
    "- Subscriber counts\n",
    "- Event counts\n",
    "- Active cell counts\n",
    "- Total active subscribers (admin0)\n",
    "\n",
    "for each day in the specified date range (by default, the most recently-ended full calendar month before today).\n",
    "\n",
    "No subscriber subsetting is used.\n",
    "\n",
    "These aggregates are intended to be produced on an ongoing basis in preparation for crisis response work."
   ]
  },
  {
   "cell_type": "code",
   "execution_count": null,
   "id": "55c1b1fc-c512-4cda-8fe6-8122b289aaa6",
   "metadata": {},
   "outputs": [],
   "source": [
    "import concurrent.futures\n",
    "import datetime\n",
    "import json\n",
    "from pathlib import Path\n",
    "\n",
    "import flowclient as fc\n",
    "import flowmachine as fm\n",
    "import pandas as pd\n",
    "from dateutil.relativedelta import relativedelta\n",
    "from flowclient.aggregates import (\n",
    "    consecutive_trips_od_matrix_spec,\n",
    "    location_event_counts_spec,\n",
    "    total_network_objects_spec,\n",
    "    trips_od_matrix_spec,\n",
    "    unique_subscriber_counts_spec,\n",
    ")\n",
    "from utils import (\n",
    "    _write_query_result,\n",
    "    find_dates_to_exclude,\n",
    "    get_date_in_month,\n",
    ")"
   ]
  },
  {
   "cell_type": "markdown",
   "id": "14443a00-5399-495a-94e5-c2942b10c93c",
   "metadata": {
    "tags": []
   },
   "source": [
    "# Setup"
   ]
  },
  {
   "cell_type": "markdown",
   "id": "40c5db11-1689-4cb2-b0ff-21dd8337238e",
   "metadata": {},
   "source": [
    "## Parameters"
   ]
  },
  {
   "cell_type": "code",
   "execution_count": null,
   "id": "a6cc4a7b-58aa-4aeb-9a65-9e86278e5017",
   "metadata": {},
   "outputs": [],
   "source": [
    "datetime_now = datetime.datetime.now()\n",
    "datetime_now"
   ]
  },
  {
   "cell_type": "code",
   "execution_count": null,
   "id": "3bf853b8-e10e-4c43-9a67-9fcd6ce6cce0",
   "metadata": {},
   "outputs": [],
   "source": [
    "# All aggregates available to run using this notebook\n",
    "all_aggregates = (\n",
    "    \"subscriber-counts\",\n",
    "    \"all-trips\",\n",
    "    \"consecutive-trips\",\n",
    "    \"event-counts\",\n",
    "    \"active-cell-counts\",\n",
    "    \"total-active-subscribers\",\n",
    ")"
   ]
  },
  {
   "cell_type": "code",
   "execution_count": null,
   "id": "e3d95bb8-dea3-44ba-b5b6-cb42eb18ea98",
   "metadata": {
    "tags": [
     "parameters"
    ]
   },
   "outputs": [],
   "source": [
    "# Parameters\n",
    "author = \"James Harrison <james.harrison@flowminder.org>\"\n",
    "\n",
    "start_date = get_date_in_month(\n",
    "    datetime_now, day_of_month=1, month_offset=-1\n",
    ")  # Start date of the data interval (inclusive)\n",
    "end_date = None  # End date of the data interval (exclusive) (defaults to one calendar month after start date)\n",
    "\n",
    "aggregation_unit = \"lon-lat\"  # Spatial aggregation unit\n",
    "mapping_table = \"geography.cell_to_admin_via_clusters_1km_20221025\"\n",
    "geom_table = \"geography.clusters_1km_20221025\"\n",
    "geom_table_join_column = \"cluster_id\"\n",
    "event_types = [\"calls\"]  # Event types to use\n",
    "\n",
    "flowmachine_log_level = \"info\"  # Flowmachine log level\n",
    "shared_data_dir = \"./\"  # Writable output directory\n",
    "outputs_subdir = \"aggregates/crisis_response\"  # Subdirectory of shared data dir to which results of aggregate queries will be written\n",
    "output_format = \"csv\"  # 'csv' or 'netcdf'\n",
    "overwrite = False  # Set True to overwrite previously-saved aggregates for this month (with overwrite=False, conflicting aggregate files will be renamed)\n",
    "aggregates_to_calculate = all_aggregates\n",
    "redact = False  # Set True to redact small counts from the aggregate outputs (as would be the case for results retrieved through the API)\n",
    "require_latest_data = True  # If True, computation will not proceed if the last required day of data is later than the most recent available date\n",
    "use_async_client = False  # Set True to use the asynchronous flowclient"
   ]
  },
  {
   "cell_type": "code",
   "execution_count": null,
   "id": "161bbd27-f2cc-494a-b2be-e18f1200d27b",
   "metadata": {},
   "outputs": [],
   "source": [
    "# start/end date parameters may be strings, so convert to datetime.date\n",
    "start_date = pd.Timestamp(start_date).date()\n",
    "if end_date is None:\n",
    "    end_date = start_date + relativedelta(months=1)\n",
    "end_date = pd.Timestamp(end_date).date()\n",
    "\n",
    "(start_date, end_date)"
   ]
  },
  {
   "cell_type": "code",
   "execution_count": null,
   "id": "e0b03898",
   "metadata": {},
   "outputs": [],
   "source": [
    "# Construct outputs path (we don't actually create the dir until we're ready to start writing outputs later)\n",
    "outputs_path = (\n",
    "    Path(shared_data_dir)\n",
    "    / outputs_subdir\n",
    "    / f\"daily_aggregates_{aggregation_unit}_{end_date:%Y-%m-%d}\"\n",
    ")\n",
    "\n",
    "outputs_path"
   ]
  },
  {
   "cell_type": "code",
   "execution_count": null,
   "id": "b5eddb00-2ee7-4600-9e00-49d2299e8678",
   "metadata": {},
   "outputs": [],
   "source": [
    "unknown_aggregates = set(aggregates_to_calculate).difference(all_aggregates)\n",
    "if unknown_aggregates:\n",
    "    raise ValueError(f\"Unknown aggregate types specified: {unknown_aggregates}\")"
   ]
  },
  {
   "cell_type": "markdown",
   "id": "4018b3f3-4fa6-4b4f-8500-8810980a03bc",
   "metadata": {},
   "source": [
    "## Connect"
   ]
  },
  {
   "cell_type": "code",
   "execution_count": null,
   "id": "d3b6ccd2-40c9-432a-b795-70b6f3f48072",
   "metadata": {},
   "outputs": [],
   "source": [
    "fm.connect(\n",
    "    flowdb_connection_pool_overflow=20,\n",
    "    flowdb_connection_pool_size=5,\n",
    "    log_level=flowmachine_log_level,\n",
    ")"
   ]
  },
  {
   "cell_type": "code",
   "execution_count": null,
   "id": "05953f26",
   "metadata": {},
   "outputs": [],
   "source": []
  },
  {
   "cell_type": "markdown",
   "id": "4f18315e-f6e2-4a46-b161-cc69f83d6bce",
   "metadata": {},
   "source": [
    "## Check dates"
   ]
  },
  {
   "cell_type": "code",
   "execution_count": null,
   "id": "0f4bc884-bb8c-467f-b399-e80498eb4759",
   "metadata": {},
   "outputs": [],
   "source": [
    "dates_to_skip = find_dates_to_exclude(\n",
    "    flowdb_connection=fm.core.context.get_db(),\n",
    "    start_date=start_date,\n",
    "    end_date=end_date,\n",
    "    event_types=event_types,\n",
    "    latest_truncation_threshold=\"00:00:00\",  # Not excluding temporally-truncated data here\n",
    "    fail_on_missing_latest=require_latest_data,\n",
    ")\n",
    "dates_to_skip"
   ]
  },
  {
   "cell_type": "code",
   "execution_count": null,
   "id": "1be37570-6ae8-4fbe-bd26-f3268096abad",
   "metadata": {},
   "outputs": [],
   "source": [
    "dates_to_run = sorted(\n",
    "    set(\n",
    "        str(d.date()) for d in pd.date_range(start_date, end_date, inclusive=\"left\")\n",
    "    ).difference(dates_to_skip)\n",
    ")"
   ]
  },
  {
   "cell_type": "markdown",
   "id": "7bafa820-0462-4e0c-ab76-a7807826d0ef",
   "metadata": {
    "tags": []
   },
   "source": [
    "# FlowKit queries"
   ]
  },
  {
   "cell_type": "markdown",
   "id": "7d5a0317-ca5c-4c77-98c3-33342db440b5",
   "metadata": {
    "tags": []
   },
   "source": [
    "## Define queries"
   ]
  },
  {
   "cell_type": "code",
   "execution_count": null,
   "id": "55b5d900-4f6b-444a-8c71-671dba16ce08",
   "metadata": {},
   "outputs": [],
   "source": [
    "api_specs = {}\n",
    "for d in dates_to_run:\n",
    "    d_next = fm.utils.time_period_add(d, 1, \"days\")\n",
    "    common_args = dict(\n",
    "        start_date=d,\n",
    "        end_date=d_next,\n",
    "        aggregation_unit=aggregation_unit,\n",
    "        mapping_table=mapping_table,\n",
    "        geom_table=geom_table,\n",
    "        geom_table_join_column=geom_table_join_column,\n",
    "        event_types=event_types,\n",
    "    )\n",
    "    # Unique subscriber counts\n",
    "    if \"subscriber-counts\" in aggregates_to_calculate:\n",
    "        api_specs[f\"subscriber-counts_{d}\"] = unique_subscriber_counts_spec(\n",
    "            **common_args\n",
    "        )\n",
    "    # Trips OD matrix (directed, all-pairs)\n",
    "    if \"all-trips\" in aggregates_to_calculate:\n",
    "        api_specs[f\"all-trips_{d}\"] = trips_od_matrix_spec(**common_args)\n",
    "    # Consecutive trips OD matrix\n",
    "    if \"consecutive-trips\" in aggregates_to_calculate:\n",
    "        api_specs[f\"consecutive-trips_{d}\"] = consecutive_trips_od_matrix_spec(\n",
    "            **common_args\n",
    "        )\n",
    "    # Event counts\n",
    "    if \"event-counts\" in aggregates_to_calculate:\n",
    "        api_specs[f\"event-counts_{d}\"] = location_event_counts_spec(\n",
    "            **common_args,\n",
    "            count_interval=\"day\",\n",
    "        )\n",
    "    # Active cell counts\n",
    "    if \"active-cell-counts\" in aggregates_to_calculate:\n",
    "        api_specs[f\"active-cell-counts_{d}\"] = total_network_objects_spec(\n",
    "            **common_args,\n",
    "            total_by=\"day\",\n",
    "        )\n",
    "    # Total active subscribers\n",
    "    if \"total-active-subscribers\" in aggregates_to_calculate:\n",
    "        api_specs[f\"total-active-subscribers_admin0_{d}\"] = (\n",
    "            unique_subscriber_counts_spec(\n",
    "                start_date=d,\n",
    "                end_date=d_next,\n",
    "                aggregation_unit=\"admin0\",\n",
    "                mapping_table=mapping_table,\n",
    "                event_types=event_types,\n",
    "            )\n",
    "        )"
   ]
  },
  {
   "cell_type": "markdown",
   "id": "1dd4676c",
   "metadata": {},
   "source": [
    "## Run queries"
   ]
  },
  {
   "cell_type": "code",
   "execution_count": null,
   "id": "41225694-dd2a-42a9-83ba-567c4dec3092",
   "metadata": {},
   "outputs": [],
   "source": [
    "from flowmachine.core.server.query_schemas import FlowmachineQuerySchema"
   ]
  },
  {
   "cell_type": "code",
   "execution_count": null,
   "id": "e98ead5f-5e18-4ad1-a3c6-029cda9eaa0c",
   "metadata": {},
   "outputs": [],
   "source": [
    "outputs_path.mkdir(exist_ok=True, parents=True)"
   ]
  },
  {
   "cell_type": "code",
   "execution_count": null,
   "id": "75abdda9-263f-41f0-8bd5-74890d216731",
   "metadata": {},
   "outputs": [],
   "source": [
    "fm_queries = {}\n",
    "for label, query_spec in api_specs.items():\n",
    "    print(label)\n",
    "    fm_query_obj = FlowmachineQuerySchema().load(query_spec)._flowmachine_query_obj\n",
    "    if redact or label.startswith(\"active-cell-counts\"):\n",
    "        fm_queries[label] = (fm_query_obj, query_spec)\n",
    "    else:\n",
    "        unredacted_query_obj = fm_query_obj.redaction_target\n",
    "        fm_queries[label] = (unredacted_query_obj, query_spec)"
   ]
  },
  {
   "cell_type": "markdown",
   "id": "88148602-ac8b-455e-a2f5-98fb2b3d5aaa",
   "metadata": {
    "tags": []
   },
   "source": [
    "## Get results and write to files"
   ]
  },
  {
   "cell_type": "code",
   "execution_count": null,
   "id": "aa417fc7-310d-42e9-9765-b061b8f3cd14",
   "metadata": {},
   "outputs": [],
   "source": [
    "futures = [q[0].store(store_dependencies=True) for label, q in fm_queries.items()]\n",
    "concurrent.futures.wait(futures)"
   ]
  },
  {
   "cell_type": "code",
   "execution_count": null,
   "id": "ef45dce1-c237-4c9d-932c-969abf9d6dc8",
   "metadata": {},
   "outputs": [],
   "source": [
    "for label, (query, spec) in fm_queries.items():\n",
    "    print(label)\n",
    "    attrs = dict(\n",
    "        created_at=datetime.datetime.now().isoformat(),\n",
    "        flowclient_version=fc.__version__,\n",
    "        flowmachine_version=fm.__version__,\n",
    "        parameters=json.dumps(spec),\n",
    "        author=author,\n",
    "        query_id=query.query_id,\n",
    "    )\n",
    "    if not label.startswith(\"active-cell-counts\"):\n",
    "        # Redaction is not applicable for cell counts\n",
    "        attrs[\"redacted\"] = str(redact)\n",
    "    if redact or label.startswith(\"active-cell-counts\"):\n",
    "        filepath = outputs_path / label\n",
    "    else:\n",
    "        filepath = outputs_path / f\"{label}_unredacted\"\n",
    "    _write_query_result(\n",
    "        query.get_dataframe(),\n",
    "        filepath,\n",
    "        file_format=output_format,\n",
    "        overwrite=overwrite,\n",
    "        attrs=attrs,\n",
    "    )"
   ]
  },
  {
   "cell_type": "code",
   "execution_count": null,
   "id": "d82eb93e-5add-4e1b-bff6-7bc3c1c660b3",
   "metadata": {},
   "outputs": [],
   "source": [
    "print(\"All queries completed\")"
   ]
  },
  {
   "cell_type": "code",
   "execution_count": null,
   "id": "1cc89c6a-8250-45da-aff5-644294a31d19",
   "metadata": {},
   "outputs": [],
   "source": []
  }
 ],
 "metadata": {
  "kernelspec": {
   "display_name": "Python 3 (ipykernel)",
   "language": "python",
   "name": "python3"
  },
  "language_info": {
   "codemirror_mode": {
    "name": "ipython",
    "version": 3
   },
   "file_extension": ".py",
   "mimetype": "text/x-python",
   "name": "python",
   "nbconvert_exporter": "python",
   "pygments_lexer": "ipython3",
   "version": "3.10.6"
  }
 },
 "nbformat": 4,
 "nbformat_minor": 5
}
