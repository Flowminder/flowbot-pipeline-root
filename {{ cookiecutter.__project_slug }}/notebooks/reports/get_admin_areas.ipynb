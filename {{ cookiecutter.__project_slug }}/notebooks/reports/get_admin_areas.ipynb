{
 "cells": [
  {
   "cell_type": "code",
   "execution_count": null,
   "metadata": {
    "tags": [
     "parameters"
    ]
   },
   "outputs": [],
   "source": [
    "shared_data_dir = \"unset\"\n",
    "dagrun_data_dir = \"unset\"\n",
    "admin_file_path = \"admin3.geojson\"\n",
    "admin_level = \"admin3\"\n",
    "names_table = \"[]\""
   ]
  },
  {
   "cell_type": "code",
   "execution_count": null,
   "metadata": {},
   "outputs": [],
   "source": [
    "import flowclient as fc\n",
    "from pathlib import Path\n",
    "from os import environ as container_environ\n",
    "import json\n",
    "import pandas as pd\n",
    "import geopandas as gpd\n",
    "\n",
    "fc_conn = fc.connect(\n",
    "    url=container_environ[\"FLOWAPI_URL\"],\n",
    "    ssl_certificate=False,  # Workaround pending https://github.com/Flowminder/flowpyter-task/issues/35\n",
    "    token=container_environ[\"FLOWAPI_TOKEN\"],\n",
    ")\n",
    "geog = fc.get_geography(connection=fc_conn, aggregation_unit=admin_level)"
   ]
  },
  {
   "cell_type": "code",
   "execution_count": null,
   "metadata": {},
   "outputs": [],
   "source": [
    "geog_names = pd.DataFrame.from_records(\n",
    "    eval(names_table), columns=[\"admin3pcod\", \"admin3name\", \"admin2name\", \"admin1name\"]\n",
    ")\n",
    "geog_names = (\n",
    "    geog_names.drop_duplicates()\n",
    ")  # Need this for fix for Airflow SQL Xcom issue\n",
    "geog_names"
   ]
  },
  {
   "cell_type": "code",
   "execution_count": null,
   "metadata": {},
   "outputs": [],
   "source": [
    "geog_table = gpd.GeoDataFrame.from_features(geog)\n",
    "geog_table = geog_table.join(geog_names.set_index(\"admin3pcod\"), how=\"left\", on=\"pcod\")\n",
    "geog_table = geog_table.rename(columns={\"pcod\": \"admin3pcod\"})\n",
    "geog_table = geog_table.drop_duplicates(subset=[\"admin3pcod\"])\n",
    "geog_table"
   ]
  },
  {
   "cell_type": "code",
   "execution_count": null,
   "metadata": {},
   "outputs": [],
   "source": [
    "geog_path = Path(dagrun_data_dir) / admin_file_path\n",
    "geog_table.to_file(geog_path, driver=\"GeoJSON\")"
   ]
  }
 ],
 "metadata": {
  "kernelspec": {
   "display_name": "fetl-test",
   "language": "python",
   "name": "python3"
  },
  "language_info": {
   "name": "python",
   "version": "3.10.12"
  }
 },
 "nbformat": 4,
 "nbformat_minor": 2
}
