{
 "cells": [
  {
   "cell_type": "markdown",
   "id": "4a19eb9f-0d99-4b71-ab2b-e9770356dbdf",
   "metadata": {
    "tags": []
   },
   "source": [
    "# Stage E: Active Crisis\n",
    "\n",
    "##### Useful links\n",
    "\n",
    "Stages and full technical proposal: https://docs.google.com/document/d/13Ttnu4SgC30OinOnWkCKZk7w9VZrcqBq5zBBPclMxE0/edit#heading=h.hl12xr1wx1f5\n"
   ]
  },
  {
   "cell_type": "code",
   "execution_count": null,
   "id": "2ae832e7-c2d9-4b91-86b4-88528379ab70",
   "metadata": {
    "editable": true,
    "slideshow": {
     "slide_type": ""
    },
    "tags": [
     "parameters"
    ]
   },
   "outputs": [],
   "source": [
    "# What language are we making the report in:\n",
    "language = \"EN\"\n",
    "\n",
    "\n",
    "# What spatial level the reports are using:\n",
    "regional_spatial_level = \"admin1name\"\n",
    "subregional_spatial_level = \"admin3name\"\n",
    "\n",
    "readable_regional_spatial_descriptor = \"Department\"\n",
    "readable_subregional_spatial_descriptor = \"Communal section\"\n",
    "\n",
    "\n",
    "# Where things are located:\n",
    "static_dir = \"./static/\"\n",
    "spatial_geometry_file = \"geo/ht_admin3.geojson\"\n",
    "\n",
    "aggregate_dir = \"../unredacted_crisis_response_aggregates/\"\n",
    "relocations_data_regex = (\n",
    "    \"weekly_aggregates_*/home-relocations_consecutive_nosubset_from*_unredacted.csv\"\n",
    ")\n",
    "affected_areas_file = \"affected_areas/affected_areas.geojson\"\n",
    "\n",
    "# What are columns called / what level should we be working at?:\n",
    "spatial_geometry_unit_column = \"admin3pcod\"  # column that identifies the name of the host locations in the shapefile.\n",
    "date_column = \"date\"  # column identifying where date for residents counts is stored\n",
    "\n",
    "shared_data_dir = \"data_dir\"\n",
    "dagrun_data_dir = \"dagrun_data_dir\"\n",
    "\n",
    "# When the report is being generated:\n",
    "report_date = \"2021-08-21\"\n",
    "\n",
    "# When did the event happen\n",
    "event_date = \"2021-08-14\""
   ]
  },
  {
   "cell_type": "code",
   "execution_count": null,
   "id": "4d2e02b8",
   "metadata": {},
   "outputs": [],
   "source": [
    "from pathlib import Path\n",
    "\n",
    "# Postprocessing params\n",
    "aggregate_path = Path(shared_data_dir) / aggregate_dir"
   ]
  },
  {
   "cell_type": "markdown",
   "id": "7e44d242-ecca-4925-87e4-e3f0b0b3fffb",
   "metadata": {},
   "source": [
    "---\n",
    "\n",
    "# 0a. Imports and static data loading\n"
   ]
  },
  {
   "cell_type": "code",
   "execution_count": null,
   "id": "a926256c-9359-4b14-958c-27d9666200f0",
   "metadata": {
    "tags": []
   },
   "outputs": [],
   "source": [
    "import matplotlib\n",
    "\n",
    "matplotlib.rcParams[\"font.sans-serif\"] = \"Roboto\"\n",
    "matplotlib.rcParams[\"font.family\"] = \"sans-serif\""
   ]
  },
  {
   "cell_type": "code",
   "execution_count": null,
   "id": "a8c52e43-ff17-4df5-adec-42dbd316a481",
   "metadata": {
    "editable": true,
    "slideshow": {
     "slide_type": ""
    },
    "tags": []
   },
   "outputs": [],
   "source": [
    "import glob, re\n",
    "import os\n",
    "\n",
    "import numpy as np\n",
    "import pandas as pd\n",
    "import geopandas as gpd\n",
    "\n",
    "from datetime import datetime\n",
    "\n",
    "from slugify import slugify\n",
    "import matplotlib\n",
    "import matplotlib.pyplot as plt\n",
    "import matplotlib.colors as colors\n",
    "import matplotlib.ticker as mtick\n",
    "from matplotlib.lines import Line2D\n",
    "from matplotlib.patches import Patch\n",
    "from matplotlib.ticker import ScalarFormatter, FuncFormatter\n",
    "from cycler import cycler\n",
    "\n",
    "from common_utilities import map_boundaries, add_scalebar, add_plot_basemap\n",
    "\n",
    "\n",
    "# register_custom_colormaps() Done in common_utilities\n",
    "color_cycle = cycler(\n",
    "    color=[\"#034174\", \"#CBA45A\", \"#701F53\", \"#006E8C\", \"#BF6799\", \"#00989A\", \"#9E6257\"]\n",
    ")\n",
    "matplotlib.rcParams[\"axes.prop_cycle\"] = color_cycle\n",
    "px = 1 / plt.rcParams[\"figure.dpi\"]"
   ]
  },
  {
   "cell_type": "code",
   "execution_count": null,
   "id": "d6a954fd-d2ae-4a85-b1b0-1ca2fccf4b5b",
   "metadata": {
    "tags": []
   },
   "outputs": [],
   "source": [
    "def get_current_color(cycler_iterator):\n",
    "    try:\n",
    "        current_color = next(cycler_iterator)\n",
    "        return current_color\n",
    "    except StopIteration:\n",
    "        # Reset the iterator if it reaches the end\n",
    "        cycler_iterator = iter(cycler)\n",
    "        current_color = next(cycler_iterator)\n",
    "        return current_color"
   ]
  },
  {
   "cell_type": "markdown",
   "id": "4e833b9f-cfed-40c2-9590-ec69e6454309",
   "metadata": {},
   "source": [
    "#### Geometries\n"
   ]
  },
  {
   "cell_type": "code",
   "execution_count": null,
   "id": "24054a35-3dd8-4989-aa05-75bf88587355",
   "metadata": {
    "tags": []
   },
   "outputs": [],
   "source": [
    "\"\"\"\n",
    "Read file containing spatial geometry, extract relevant columns, spit out an error if we can't find the named columns in passed arguements.\n",
    "\"\"\"\n",
    "\n",
    "spatial_geometry = gpd.read_file(Path(dagrun_data_dir) / spatial_geometry_file)\n",
    "spatial_geometry"
   ]
  },
  {
   "cell_type": "code",
   "execution_count": null,
   "id": "3fb73817",
   "metadata": {},
   "outputs": [],
   "source": [
    "assert (\n",
    "    spatial_geometry_unit_column in spatial_geometry.columns\n",
    "), f\"Column {spatial_geometry_unit_column} not found in {spatial_geometry_file}.\"\n",
    "assert (\n",
    "    regional_spatial_level in spatial_geometry.columns\n",
    "), f\"Column {regional_spatial_level} not found in {spatial_geometry_file}.\"\n",
    "assert (\n",
    "    subregional_spatial_level in spatial_geometry.columns\n",
    "), f\"Column {subregional_spatial_level} not found in {spatial_geometry_file}.\"\n",
    "assert (\n",
    "    \"geometry\" in spatial_geometry.columns\n",
    "), f\"Column {spatial_geometry_file} does not have a geometry column.\""
   ]
  },
  {
   "cell_type": "markdown",
   "id": "dc6ba7e0-5676-451c-85bc-e4edd336401f",
   "metadata": {
    "tags": []
   },
   "source": [
    "#### Affected areas\n"
   ]
  },
  {
   "cell_type": "code",
   "execution_count": null,
   "id": "3595cb63-6c13-45ed-baa1-ce01c9b6e061",
   "metadata": {
    "tags": []
   },
   "outputs": [],
   "source": [
    "affected_areas = gpd.read_file(Path(static_dir) / affected_areas_file)\n",
    "if any(col not in [\"name\", \"geometry\"] for col in affected_areas.columns):\n",
    "    raise ValueError(\"Affected area features should only have 'name' column\")\n",
    "affected_areas"
   ]
  },
  {
   "cell_type": "markdown",
   "id": "bdb319c6-63e6-4920-9dc0-8a0c8c6dcf15",
   "metadata": {},
   "source": [
    "---\n",
    "\n",
    "# 0b. Output folder + dict creation\n"
   ]
  },
  {
   "cell_type": "code",
   "execution_count": null,
   "id": "8166febb-62c9-48a8-9c87-11a8744f670f",
   "metadata": {
    "editable": true,
    "slideshow": {
     "slide_type": ""
    },
    "tags": []
   },
   "outputs": [],
   "source": [
    "outputs_dict = {}\n",
    "outputs_dict[\"national\"] = {}\n",
    "outputs_dict[\"affected_areas\"] = {}"
   ]
  },
  {
   "cell_type": "code",
   "execution_count": null,
   "id": "ed7a0fc8-255f-41da-915f-7524a7e793da",
   "metadata": {
    "editable": true,
    "slideshow": {
     "slide_type": ""
    },
    "tags": []
   },
   "outputs": [],
   "source": [
    "for folder in [\n",
    "    Path(dagrun_data_dir) / \"active_crisis\",\n",
    "    Path(dagrun_data_dir) / \"active_crisis\" / \"affected_areas\",\n",
    "    Path(dagrun_data_dir) / \"active_crisis\" / \"national\",\n",
    "]:\n",
    "    if not os.path.exists(folder):\n",
    "        os.mkdir(folder)\n",
    "\n",
    "for region in affected_areas[\"name\"].values:\n",
    "    folder = (\n",
    "        Path(dagrun_data_dir) / \"active_crisis\" / \"affected_areas\" / slugify(region)\n",
    "    )\n",
    "    if not os.path.exists(folder):\n",
    "        os.mkdir(folder)\n",
    "    outputs_dict[\"affected_areas\"][region] = {}\n",
    "\n",
    "\n",
    "output_path = Path(dagrun_data_dir) / \"active_crisis\""
   ]
  },
  {
   "cell_type": "markdown",
   "id": "b8b7ef6e-3f33-46d0-81ac-4d3fcac4a03e",
   "metadata": {
    "tags": []
   },
   "source": [
    "---\n",
    "\n",
    "# 1. Read crisis aggregates, derive residents from net relocations, derive excess residents and relocations for figures.\n",
    "\n",
    "**Active crisis indicators are derived from the weekly crisis indicators.**\n"
   ]
  },
  {
   "cell_type": "code",
   "execution_count": null,
   "id": "2f381f17",
   "metadata": {},
   "outputs": [],
   "source": [
    "key_dates = {\n",
    "    \"event_date_minus_3_months\": pd.to_datetime(event_date) - pd.DateOffset(months=3),\n",
    "    \"event_date_minus_2_months\": pd.to_datetime(event_date) - pd.DateOffset(months=2),\n",
    "    \"report_date_minus_1_week\": pd.to_datetime(report_date) - pd.DateOffset(weeks=1),\n",
    "    \"event_date\": pd.to_datetime(event_date),\n",
    "    \"report_date\": pd.to_datetime(report_date),\n",
    "}\n",
    "print(key_dates)"
   ]
  },
  {
   "cell_type": "code",
   "execution_count": null,
   "id": "4e50c4eb",
   "metadata": {},
   "outputs": [],
   "source": [
    "from dataclasses import dataclass\n",
    "from pprint import pprint\n",
    "from typing import Generator\n",
    "\n",
    "\n",
    "fmt_str = \"%Y-%m-%d\"\n",
    "run_weekly_agg_folder = f\"weekly_aggregates_lon-lat_{report_date}\"\n",
    "agg_file = \"home-relocations_consecutive_nosubset_from{yesterday}_to{today}.csv\"\n",
    "\n",
    "\n",
    "@dataclass\n",
    "class DateSet:\n",
    "    today: datetime.date\n",
    "    yesterday: datetime.date\n",
    "\n",
    "\n",
    "def date_generator(start_date: datetime.date, end_date: datetime.date):\n",
    "    # We stick the offset in as pd.date_range rounds up\n",
    "    for today in pd.date_range(start_date - pd.DateOffset(days=1), end_date, freq=\"D\"):\n",
    "        yesterday = today - pd.DateOffset(days=1)\n",
    "        yield DateSet(today, yesterday)\n",
    "\n",
    "\n",
    "def path_to_date(ds: DateSet) -> Path:\n",
    "    ds_str = dict(\n",
    "        yesterday=ds.yesterday.strftime(fmt_str),\n",
    "        today=ds.today.strftime(fmt_str),\n",
    "    )\n",
    "    return aggregate_path / run_weekly_agg_folder / agg_file.format(**ds_str)\n",
    "\n",
    "\n",
    "dates = date_generator(key_dates[\"event_date_minus_3_months\"], key_dates[\"report_date\"])\n",
    "wanted_paths = {date_set.today: path_to_date(date_set) for date_set in dates}\n",
    "home_relocations_files = {\n",
    "    date: path for date, path in wanted_paths.items() if path.exists()\n",
    "}\n",
    "missing_paths = {date: path for date, path in wanted_paths.items() if not path.exists()}"
   ]
  },
  {
   "cell_type": "code",
   "execution_count": null,
   "id": "d2fcd25d",
   "metadata": {},
   "outputs": [],
   "source": [
    "dates"
   ]
  },
  {
   "cell_type": "code",
   "execution_count": null,
   "id": "5274d141",
   "metadata": {},
   "outputs": [],
   "source": [
    "wanted_paths"
   ]
  },
  {
   "cell_type": "code",
   "execution_count": null,
   "id": "f420cee6",
   "metadata": {},
   "outputs": [],
   "source": [
    "home_relocations_files"
   ]
  },
  {
   "cell_type": "code",
   "execution_count": null,
   "id": "d2111da6",
   "metadata": {},
   "outputs": [],
   "source": [
    "missing_paths"
   ]
  },
  {
   "cell_type": "code",
   "execution_count": null,
   "id": "6ea5d51a",
   "metadata": {},
   "outputs": [],
   "source": [
    "loaded_files = []\n",
    "\n",
    "for date, file in home_relocations_files.items():\n",
    "    loaded_files.append(\n",
    "        pd.read_csv(file).assign(\n",
    "            date=date\n",
    "        )  # find the date from the filepath, add it to a new column\n",
    "    )\n",
    "\n",
    "# Join individually loaded files, parse date\n",
    "home_relocations = pd.concat(loaded_files)\n",
    "\n",
    "home_relocations = home_relocations[\n",
    "    (home_relocations.lat_from != home_relocations.lat_to)\n",
    "    & (home_relocations.lon_from != home_relocations.lon_to)\n",
    "]\n",
    "\n",
    "home_relocations.date = pd.to_datetime(home_relocations.date)\n",
    "\n",
    "# Remove any appeared / disappeared\n",
    "home_relocations = home_relocations.dropna()\n",
    "\n",
    "# Add geometry objects for 'to' and 'from' cluster\n",
    "home_relocations[\"loc_from\"] = gpd.points_from_xy(\n",
    "    home_relocations[\"lon_from\"], home_relocations[\"lat_from\"]\n",
    ")\n",
    "home_relocations[\"loc_to\"] = gpd.points_from_xy(\n",
    "    home_relocations[\"lon_to\"], home_relocations[\"lat_to\"]\n",
    ")\n",
    "\n",
    "# gdf\n",
    "home_relocations = gpd.GeoDataFrame(home_relocations, geometry=\"loc_from\").set_crs(\n",
    "    epsg=4326\n",
    ")"
   ]
  },
  {
   "cell_type": "code",
   "execution_count": null,
   "id": "0a11bbeb-4fe6-4ae8-a6cd-cab2e87313ea",
   "metadata": {
    "tags": []
   },
   "outputs": [],
   "source": [
    "home_relocations.date.min(), home_relocations.date.max()"
   ]
  },
  {
   "cell_type": "code",
   "execution_count": null,
   "id": "f4426e0b-06e7-4996-8279-3fb4ad9fcb5c",
   "metadata": {},
   "outputs": [],
   "source": [
    "# NOTE: We shouldn't need the filtering now we do that on the filename instead of the data\n",
    "home_relocations"
   ]
  },
  {
   "cell_type": "code",
   "execution_count": null,
   "id": "18527a02",
   "metadata": {},
   "outputs": [],
   "source": [
    "affected_areas"
   ]
  },
  {
   "cell_type": "markdown",
   "id": "ecfd2082-4e48-43ef-8251-014b8f0a5c1e",
   "metadata": {},
   "source": [
    "### relocations from AA\n"
   ]
  },
  {
   "cell_type": "code",
   "execution_count": null,
   "id": "8d6789aa-8b6b-47a2-8968-0b5b50b80008",
   "metadata": {
    "tags": []
   },
   "outputs": [],
   "source": [
    "relocations_from_aas = gpd.sjoin(\n",
    "    home_relocations, affected_areas, predicate=\"within\", rsuffix=(\"AA\")\n",
    ").to_crs(epsg=4326)\n",
    "relocations_from_aas"
   ]
  },
  {
   "cell_type": "code",
   "execution_count": null,
   "id": "b8d76eb7-cc11-4af5-9d21-092eccfc34b6",
   "metadata": {
    "tags": []
   },
   "outputs": [],
   "source": [
    "# attach spatial information about clusters where people are going from the AA\n",
    "relocations_from_aas = relocations_from_aas.set_geometry(\"loc_to\").sjoin(\n",
    "    spatial_geometry\n",
    ")\n",
    "relocations_from_aas"
   ]
  },
  {
   "cell_type": "markdown",
   "id": "80762fb4-bf7a-4670-85ce-5da92f2f650c",
   "metadata": {},
   "source": [
    "### arrivals from AA\n"
   ]
  },
  {
   "cell_type": "code",
   "execution_count": null,
   "id": "54b49874-bfc7-4062-9716-22c6e02eca22",
   "metadata": {
    "tags": []
   },
   "outputs": [],
   "source": [
    "arrivals_from_aa = (\n",
    "    relocations_from_aas.groupby(\n",
    "        [\"index_AA\", \"admin2name\", \"admin3name\", \"admin3pcod\", \"date\"]\n",
    "    )\n",
    "    .value.sum()\n",
    "    .reset_index()\n",
    ")\n",
    "arrivals_from_aa"
   ]
  },
  {
   "cell_type": "markdown",
   "id": "68ae380e-790f-4327-8806-3ff84f84f4d6",
   "metadata": {},
   "source": [
    "### excess arrivals from AA\n"
   ]
  },
  {
   "cell_type": "code",
   "execution_count": null,
   "id": "48b93924-6054-448e-85e8-a7cf4c63958e",
   "metadata": {
    "tags": []
   },
   "outputs": [],
   "source": [
    "date_range = pd.date_range(\n",
    "    key_dates[\"event_date_minus_3_months\"], report_date, name=\"date\"\n",
    ")"
   ]
  },
  {
   "cell_type": "code",
   "execution_count": null,
   "id": "f141c458-cab4-4def-866b-b62aebc1f091",
   "metadata": {
    "tags": []
   },
   "outputs": [],
   "source": [
    "def MAD(df, col):\n",
    "    return abs(df[col] - df[col].median()).median()\n",
    "\n",
    "\n",
    "def remove_negatives(df, col, inplace=True):\n",
    "    df[df[col] <= 0] = np.nan\n",
    "\n",
    "\n",
    "def find_excess(cluster_df):\n",
    "    excess = pd.DataFrame(\n",
    "        cluster_df.value\n",
    "        - (\n",
    "            cluster_df[\n",
    "                (cluster_df.index >= key_dates[\"event_date_minus_3_months\"])\n",
    "                & (cluster_df.index < key_dates[\"event_date\"])\n",
    "            ].value.median()\n",
    "            + (3 * 1.486)\n",
    "            * MAD(\n",
    "                cluster_df[\n",
    "                    (cluster_df.index >= key_dates[\"event_date_minus_3_months\"])\n",
    "                    & (cluster_df.index < key_dates[\"event_date\"])\n",
    "                ],\n",
    "                \"value\",\n",
    "            )\n",
    "        )\n",
    "    )\n",
    "\n",
    "    excess.index = cluster_df.index\n",
    "    return excess\n",
    "\n",
    "\n",
    "def find_deficit(cluster_df):\n",
    "    deficit = pd.DataFrame(\n",
    "        (\n",
    "            cluster_df[\n",
    "                (cluster_df.index >= key_dates[\"event_date_minus_3_months\"])\n",
    "                & (cluster_df.index < key_dates[\"event_date\"])\n",
    "            ].value.median()\n",
    "            - (3 * 1.486)\n",
    "            * MAD(\n",
    "                cluster_df[\n",
    "                    (cluster_df.index >= key_dates[\"event_date_minus_3_months\"])\n",
    "                    & (cluster_df.index < key_dates[\"event_date\"])\n",
    "                ],\n",
    "                \"value\",\n",
    "            )\n",
    "        )\n",
    "        - cluster_df.value\n",
    "    )\n",
    "\n",
    "    deficit.index = cluster_df.index\n",
    "    return deficit\n",
    "\n",
    "\n",
    "def counts_2_excess(df):\n",
    "    excess_df = find_excess(df.set_index(\"date\").reindex(date_range).fillna(0))\n",
    "    remove_negatives(excess_df, \"value\")\n",
    "\n",
    "    return excess_df\n",
    "\n",
    "\n",
    "def counts_2_deficit(df):\n",
    "    deficit_df = find_deficit(df.set_index(\"date\").reindex(date_range).fillna(0))\n",
    "    remove_negatives(deficit_df, \"value\")\n",
    "\n",
    "    return deficit_df"
   ]
  },
  {
   "cell_type": "code",
   "execution_count": null,
   "id": "f47c45c3-651b-485b-b2c8-fab6efca8e31",
   "metadata": {
    "tags": []
   },
   "outputs": [],
   "source": [
    "excess_arrivals_from_each_aa = (\n",
    "    arrivals_from_aa.groupby([\"index_AA\", \"admin3name\", \"admin3pcod\", \"admin2name\"])\n",
    "    .apply(counts_2_excess)\n",
    "    .reset_index()\n",
    ").dropna()\n",
    "excess_arrivals_from_each_aa"
   ]
  },
  {
   "cell_type": "code",
   "execution_count": null,
   "id": "d7078296-8aed-489c-9567-01f46f5c8e2d",
   "metadata": {
    "tags": []
   },
   "outputs": [],
   "source": [
    "excess_arrivals_past_week = excess_arrivals_from_each_aa[\n",
    "    excess_arrivals_from_each_aa.date >= key_dates[\"report_date_minus_1_week\"]\n",
    "]\n",
    "excess_arrivals_past_week"
   ]
  },
  {
   "cell_type": "code",
   "execution_count": null,
   "id": "70bfa895-2957-48f7-86d8-8a28027da02f",
   "metadata": {
    "tags": []
   },
   "outputs": [],
   "source": [
    "excess_arrivals_past_week = excess_arrivals_past_week[\n",
    "    excess_arrivals_past_week.value > 15\n",
    "]\n",
    "excess_arrivals_past_week"
   ]
  },
  {
   "cell_type": "code",
   "execution_count": null,
   "id": "f126bab0-457a-4136-bb0b-0124ebd9bf10",
   "metadata": {
    "tags": []
   },
   "outputs": [],
   "source": [
    "excess_arrivals_past_week.date.min(), excess_arrivals_past_week.date.max()"
   ]
  },
  {
   "cell_type": "code",
   "execution_count": null,
   "id": "8325398b-61cb-401a-8c29-8645049f1510",
   "metadata": {
    "tags": []
   },
   "outputs": [],
   "source": [
    "total_excess_arrivals_past_week_per_AA = (\n",
    "    excess_arrivals_past_week.groupby([\"index_AA\", \"admin3pcod\"])\n",
    "    .value.sum()\n",
    "    .reset_index()\n",
    ")\n",
    "\n",
    "total_excess_arrivals_past_week = (\n",
    "    excess_arrivals_past_week.groupby(\"admin3pcod\").value.sum().reset_index()\n",
    ")\n",
    "total_excess_arrivals_past_week = gpd.GeoDataFrame(\n",
    "    total_excess_arrivals_past_week.merge(spatial_geometry, on=\"admin3pcod\")\n",
    ")"
   ]
  },
  {
   "cell_type": "code",
   "execution_count": null,
   "id": "0f4bba4e-2e1c-4557-a09c-f3aeb47a41f9",
   "metadata": {
    "tags": []
   },
   "outputs": [],
   "source": [
    "excess_arrivals_since_event = excess_arrivals_from_each_aa[\n",
    "    excess_arrivals_from_each_aa.date >= key_dates[\"event_date\"]\n",
    "]"
   ]
  },
  {
   "cell_type": "code",
   "execution_count": null,
   "id": "7f91c588-2ed1-4fc5-92b0-825a8b9e4d75",
   "metadata": {
    "tags": []
   },
   "outputs": [],
   "source": [
    "excess_arrivals_since_event = excess_arrivals_since_event[\n",
    "    excess_arrivals_since_event.value > 15\n",
    "]\n",
    "excess_arrivals_since_event"
   ]
  },
  {
   "cell_type": "code",
   "execution_count": null,
   "id": "c408af7e-7fc2-4cbf-b50f-22ec267b7ee0",
   "metadata": {
    "tags": []
   },
   "outputs": [],
   "source": [
    "excess_arrivals_since_event.date.min(), excess_arrivals_since_event.date.max()"
   ]
  },
  {
   "cell_type": "markdown",
   "id": "44f62c96-cb46-469a-955e-a362d5b20f72",
   "metadata": {},
   "source": [
    "# host areas per affected area\n"
   ]
  },
  {
   "cell_type": "code",
   "execution_count": null,
   "id": "2148ec19-94fe-4748-9e18-5e7094877eaf",
   "metadata": {
    "tags": []
   },
   "outputs": [],
   "source": [
    "hosts = (\n",
    "    excess_arrivals_since_event[excess_arrivals_since_event.value > 0]\n",
    "    .groupby([\"index_AA\", \"admin3pcod\"])\n",
    "    .value.sum()\n",
    "    .reset_index()\n",
    "    .drop(columns=\"value\")\n",
    "    .merge(affected_areas[\"name\"], left_on=\"index_AA\", right_index=True)\n",
    ")\n",
    "hosts"
   ]
  },
  {
   "cell_type": "code",
   "execution_count": null,
   "id": "543cb020-89a7-417a-afb1-1957261395b4",
   "metadata": {},
   "outputs": [],
   "source": [
    "host_areas = gpd.GeoDataFrame(hosts.merge(spatial_geometry, on=\"admin3pcod\"))\n",
    "host_areas"
   ]
  },
  {
   "cell_type": "markdown",
   "id": "f75a134a-174b-43ec-a1bd-332737082970",
   "metadata": {},
   "source": [
    "### residents (net cumsum)\n"
   ]
  },
  {
   "cell_type": "code",
   "execution_count": null,
   "id": "b2f41ad8-418a-4815-a67c-768900aa8e30",
   "metadata": {
    "tags": []
   },
   "outputs": [],
   "source": [
    "# arrivals\n",
    "arrivals = (\n",
    "    home_relocations[home_relocations.date >= key_dates[\"event_date_minus_3_months\"]]\n",
    "    .groupby([\"lon_to\", \"lat_to\", \"date\"])\n",
    "    .value.sum()\n",
    "    .reset_index()\n",
    "    .rename(columns={\"lon_to\": \"lon\", \"lat_to\": \"lat\"})\n",
    ")\n",
    "arrivals"
   ]
  },
  {
   "cell_type": "code",
   "execution_count": null,
   "id": "30a180ac",
   "metadata": {},
   "outputs": [],
   "source": [
    "# departures\n",
    "departures = (\n",
    "    home_relocations[home_relocations.date >= key_dates[\"event_date_minus_3_months\"]]\n",
    "    .groupby([\"lon_from\", \"lat_from\", \"date\"])\n",
    "    .value.sum()\n",
    "    .reset_index()\n",
    "    .rename(columns={\"lon_from\": \"lon\", \"lat_from\": \"lat\"})\n",
    ")\n",
    "\n",
    "departures"
   ]
  },
  {
   "cell_type": "code",
   "execution_count": null,
   "id": "05c3a88f",
   "metadata": {},
   "outputs": [],
   "source": [
    "def reindex_dates(df):\n",
    "    return df.set_index(\"date\").reindex(date_range)[[\"value\"]].fillna(0)\n",
    "\n",
    "\n",
    "departures = departures.groupby([\"lon\", \"lat\"]).apply(reindex_dates).reset_index()\n",
    "arrivals = arrivals.groupby([\"lon\", \"lat\"]).apply(reindex_dates).reset_index()\n",
    "\n",
    "# netflows\n",
    "arrivals_departures_net_flows = arrivals.merge(\n",
    "    departures, on=[\"lon\", \"lat\", \"date\"], suffixes=(\"_arrived\", \"_departed\")\n",
    ").assign(net_arrived=lambda x: x.value_arrived - x.value_departed)\n",
    "\n",
    "arrivals_departures_net_flows"
   ]
  },
  {
   "cell_type": "code",
   "execution_count": null,
   "id": "ea914f5e",
   "metadata": {},
   "outputs": [],
   "source": [
    "# netflow cumsum\n",
    "\n",
    "\n",
    "def netflow_cumsum(df):\n",
    "    return df.set_index(\"date\").sort_index()[[\"net_arrived\"]].cumsum()\n",
    "\n",
    "\n",
    "net_cumsums = (\n",
    "    arrivals_departures_net_flows.groupby([\"lat\", \"lon\"])\n",
    "    .apply(netflow_cumsum)\n",
    "    .reset_index()\n",
    "    .rename(columns={\"net_arrived\": \"net_arrived_cumsum\"})\n",
    ")"
   ]
  },
  {
   "cell_type": "code",
   "execution_count": null,
   "id": "2bca8e3f-0a87-4565-ac30-7419012caa3c",
   "metadata": {
    "tags": []
   },
   "outputs": [],
   "source": [
    "net_cumsums[\"geometry\"] = gpd.points_from_xy(net_cumsums.lon, net_cumsums.lat)"
   ]
  },
  {
   "cell_type": "code",
   "execution_count": null,
   "id": "c2730d06-c0b1-4c5e-b9cc-570b9fa62ae5",
   "metadata": {
    "tags": []
   },
   "outputs": [],
   "source": [
    "net_cumsums = gpd.GeoDataFrame(net_cumsums).set_crs(epsg=4326)"
   ]
  },
  {
   "cell_type": "code",
   "execution_count": null,
   "id": "a1dc5d55-e114-403e-9fd3-1d5c50a749bb",
   "metadata": {
    "tags": []
   },
   "outputs": [],
   "source": [
    "net_cumsums.columns = [\"lat\", \"lon\", \"date\", \"value\", \"geometry\"]"
   ]
  },
  {
   "cell_type": "code",
   "execution_count": null,
   "id": "57a8f4b0-6dd6-4919-b943-213618f0b416",
   "metadata": {
    "tags": []
   },
   "outputs": [],
   "source": [
    "net_cumsums"
   ]
  },
  {
   "cell_type": "code",
   "execution_count": null,
   "id": "fc25f37d-8b1b-406c-b6b8-db7a34938cd5",
   "metadata": {
    "tags": []
   },
   "outputs": [],
   "source": [
    "net_cumsums_agged = (\n",
    "    net_cumsums.sjoin(spatial_geometry)\n",
    "    .groupby([spatial_geometry_unit_column, \"date\"])\n",
    "    .value.sum()\n",
    "    .reset_index()\n",
    ")\n",
    "net_cumsums_agged"
   ]
  },
  {
   "cell_type": "code",
   "execution_count": null,
   "id": "ee6a4478-d58b-4efc-9025-e09032ff3f23",
   "metadata": {
    "tags": []
   },
   "outputs": [],
   "source": [
    "excess_residents = (\n",
    "    net_cumsums_agged.groupby(spatial_geometry_unit_column)\n",
    "    .apply(counts_2_excess)\n",
    "    .reset_index()\n",
    "    .fillna(0.0)\n",
    ")\n",
    "excess_residents = excess_residents.merge(\n",
    "    spatial_geometry, on=spatial_geometry_unit_column\n",
    ")\n",
    "excess_residents"
   ]
  },
  {
   "cell_type": "code",
   "execution_count": null,
   "id": "b9c3c976-7acf-4b62-9993-abbf66276dd6",
   "metadata": {
    "tags": []
   },
   "outputs": [],
   "source": [
    "excess_residents_hosts_since_event = excess_residents[\n",
    "    excess_residents.date > event_date\n",
    "]\n",
    "excess_residents_hosts_since_event = excess_residents_hosts_since_event[\n",
    "    excess_residents_hosts_since_event.admin3pcod.isin(host_areas.admin3pcod.unique())\n",
    "]\n",
    "excess_residents_hosts_since_event"
   ]
  },
  {
   "cell_type": "code",
   "execution_count": null,
   "id": "8dd4b780-83d4-4437-ba5d-061c3cc470a3",
   "metadata": {
    "tags": []
   },
   "outputs": [],
   "source": [
    "most_recent_excess_residents_per_host = gpd.GeoDataFrame(\n",
    "    excess_residents_hosts_since_event.sort_values(\n",
    "        [\"admin3pcod\", \"date\"]\n",
    "    ).drop_duplicates(\"admin3pcod\", keep=\"last\")\n",
    ")\n",
    "most_recent_excess_residents_per_host"
   ]
  },
  {
   "cell_type": "code",
   "execution_count": null,
   "id": "cae8d6a8",
   "metadata": {},
   "outputs": [],
   "source": [
    "excess_residents_per_host = most_recent_excess_residents_per_host[\n",
    "    most_recent_excess_residents_per_host.value > 15\n",
    "].query(\"admin3pcod in @host_areas.admin3pcod\")\n",
    "excess_residents_per_host"
   ]
  },
  {
   "cell_type": "code",
   "execution_count": null,
   "id": "09c8e6d7-0eec-4bbc-8240-5e2008683647",
   "metadata": {
    "tags": []
   },
   "outputs": [],
   "source": [
    "# defecit residents in affected areas"
   ]
  },
  {
   "cell_type": "code",
   "execution_count": null,
   "id": "1a91001f-ef2f-47bd-8253-e649562907bf",
   "metadata": {
    "tags": []
   },
   "outputs": [],
   "source": [
    "net_cumsums_aa_agged = (\n",
    "    net_cumsums.sjoin(affected_areas)\n",
    "    .groupby([\"name\", \"date\"])\n",
    "    .value.sum()\n",
    "    .reset_index()\n",
    ")\n",
    "net_cumsums_aa_agged"
   ]
  },
  {
   "cell_type": "code",
   "execution_count": null,
   "id": "9fc6df97-9fdc-4e12-986a-4802bcd9db88",
   "metadata": {
    "tags": []
   },
   "outputs": [],
   "source": [
    "deficit_aas = (\n",
    "    net_cumsums_aa_agged.groupby(\"name\")\n",
    "    .apply(counts_2_deficit)\n",
    "    .reset_index()\n",
    "    .fillna(0.0)\n",
    ")\n",
    "deficit_aas"
   ]
  },
  {
   "cell_type": "code",
   "execution_count": null,
   "id": "f4c9144e",
   "metadata": {},
   "outputs": [],
   "source": [
    "deficit_residents_AA = deficit_aas.merge(affected_areas, on=\"name\")\n",
    "deficit_residents_AA"
   ]
  },
  {
   "cell_type": "markdown",
   "id": "d78c32d4-23b0-473d-88ea-b0c9df27ad66",
   "metadata": {},
   "source": [
    "---\n",
    "\n",
    "# 2. Information products\n",
    "\n",
    "**Produces figures for both national and regional locations depending on the passed parameter '_report_type_'**\n"
   ]
  },
  {
   "cell_type": "markdown",
   "id": "b55e94ff-3738-4cb0-9175-a32174c20b21",
   "metadata": {},
   "source": [
    "###### a. Automated text area with numbers (maybe next to some icons)\n",
    "\n",
    "1. “total displaced subscribers” (i.e. ‘remaining’ displaced - this is the ‘stocks’) , inferred from resident loss in affected areas\n",
    "2. “total displaced subscribers in known neighbourhoods” , inferred from excess residents in host locations\n",
    "3. “newly displaced subscribers”, inferred from excess arrivals this week to host locations\n"
   ]
  },
  {
   "cell_type": "code",
   "execution_count": null,
   "id": "f397751b-8d01-48d5-8404-396eaed076f4",
   "metadata": {
    "tags": []
   },
   "outputs": [],
   "source": [
    "newly_displaced = (\n",
    "    total_excess_arrivals_past_week.value.sum()\n",
    ")  # newly displaced subscribers from AA\n",
    "newly_displaced"
   ]
  },
  {
   "cell_type": "code",
   "execution_count": null,
   "id": "6c3d8e28-3564-4a24-b3f9-628c5643ef28",
   "metadata": {
    "tags": []
   },
   "outputs": [],
   "source": [
    "total_excess_arrivals_past_week_per_AA.groupby(\"index_AA\").sum()"
   ]
  },
  {
   "cell_type": "code",
   "execution_count": null,
   "id": "b46e0959",
   "metadata": {},
   "outputs": [],
   "source": [
    "excess_residents_hosts_since_event"
   ]
  },
  {
   "cell_type": "code",
   "execution_count": null,
   "id": "425c05cc-0edb-4d34-93fc-65341c479475",
   "metadata": {
    "tags": []
   },
   "outputs": [],
   "source": [
    "total_displaced_in_known_areas = (\n",
    "    excess_residents_hosts_since_event.groupby(\"date\").value.sum().sort_index().iloc[-1]\n",
    ")  # excess residents found in host areas\n",
    "total_displaced_in_known_areas"
   ]
  },
  {
   "cell_type": "code",
   "execution_count": null,
   "id": "338bb8ae-4083-44f5-aeb4-8d2668d9d253",
   "metadata": {
    "tags": []
   },
   "outputs": [],
   "source": [
    "total_displaced_from_aa = (\n",
    "    deficit_residents_AA.groupby(\"date\").value.sum().sort_index().iloc[-1]\n",
    ")  # defecit residents in affected area\n",
    "total_displaced_from_aa"
   ]
  },
  {
   "cell_type": "code",
   "execution_count": null,
   "id": "dd3298e7-2bb8-42a4-aa06-41586578d251",
   "metadata": {
    "tags": []
   },
   "outputs": [],
   "source": [
    "displaced_stats_boxes = pd.DataFrame(\n",
    "    [[newly_displaced, total_displaced_in_known_areas, total_displaced_from_aa]],\n",
    "    columns=[\n",
    "        \"newly_displaced\",\n",
    "        \"total_displaced_in_known_areas\",\n",
    "        \"total_displaced_from_aa\",\n",
    "    ],\n",
    ")\n",
    "displaced_stats_boxes"
   ]
  },
  {
   "cell_type": "code",
   "execution_count": null,
   "id": "578c75b0-c1c8-4395-9f57-2f3eb3465239",
   "metadata": {
    "tags": []
   },
   "outputs": [],
   "source": [
    "out_filepath = output_path / \"national\" / \"displaced_stats_boxes.csv\"\n",
    "outputs_dict[\"national\"][\"displaced_stats_boxes\"] = str(out_filepath)\n",
    "displaced_stats_boxes.to_csv(out_filepath)"
   ]
  },
  {
   "cell_type": "code",
   "execution_count": null,
   "id": "2434f65f-1e99-478f-ab4a-c5efb7f4d708",
   "metadata": {
    "tags": []
   },
   "outputs": [],
   "source": [
    "# deficit per aa"
   ]
  },
  {
   "cell_type": "code",
   "execution_count": null,
   "id": "ad9b68b4-8091-46b6-90b8-50cc82497c1e",
   "metadata": {
    "tags": []
   },
   "outputs": [],
   "source": [
    "for AA_name, AA_df in deficit_residents_AA.groupby(\"name\"):\n",
    "    print(AA_name, AA_df.set_index(\"date\").value.sort_index().iloc[[-1]])\n",
    "    out_filepath = (\n",
    "        output_path / \"affected_areas\" / slugify(AA_name) / \"displaced_stats_boxes.csv\"\n",
    "    )\n",
    "    outputs_dict[\"affected_areas\"][AA_name][\"displaced_stats_boxes\"] = str(out_filepath)\n",
    "    AA_df.set_index(\"date\").value.sort_index().iloc[[-1]].to_csv(\n",
    "        out_filepath\n",
    "    )  # deficit residents in affected area"
   ]
  },
  {
   "cell_type": "markdown",
   "id": "41113cd1-0ebc-43f4-ab0e-1297d8f93b85",
   "metadata": {},
   "source": [
    "###### b. Overview map of new arrivals (and showing areas with ‘stocks’ if any at time of reporting\n"
   ]
  },
  {
   "cell_type": "code",
   "execution_count": null,
   "id": "443e86fe-4c46-40ab-8b70-4ccbbc2e34bd",
   "metadata": {
    "tags": []
   },
   "outputs": [],
   "source": [
    "start_date = datetime.strftime(key_dates[\"report_date_minus_1_week\"], \"%d %b %y\")\n",
    "end_date = datetime.strftime(key_dates[\"report_date\"], \"%d %b %y\")\n",
    "date_string = f\"{start_date} and\\n{end_date}\""
   ]
  },
  {
   "cell_type": "markdown",
   "id": "4d9d9eee-6f76-428a-9116-a4bf04f27eed",
   "metadata": {},
   "source": [
    "_National_\n"
   ]
  },
  {
   "cell_type": "code",
   "execution_count": null,
   "id": "70d92180-c2d1-481a-b136-24de338d8217",
   "metadata": {
    "tags": []
   },
   "outputs": [],
   "source": [
    "host_areas = gpd.GeoDataFrame(hosts.merge(spatial_geometry, on=\"admin3pcod\"))"
   ]
  },
  {
   "cell_type": "code",
   "execution_count": null,
   "id": "b7a412a0-1960-4e74-a753-97c9536789ca",
   "metadata": {
    "tags": []
   },
   "outputs": [],
   "source": [
    "# assert that there actually are excesses this week"
   ]
  },
  {
   "cell_type": "code",
   "execution_count": null,
   "id": "2a2eca54-de77-4c5d-b311-9ad8d3822471",
   "metadata": {
    "tags": []
   },
   "outputs": [],
   "source": [
    "from visualisations.active_crisis.mapping import (\n",
    "    plot_national_map,\n",
    "    plot_regional_map,\n",
    "    plot_zoomed_regional_map,\n",
    "    set_default_style_to_flowminder,\n",
    ")\n",
    "from visualisations.active_crisis.tabulation import (\n",
    "    excess_national_arrivals_table,\n",
    "    excess_regional_arrivals_table,\n",
    ")\n",
    "from visualisations.active_crisis.plotting import (\n",
    "    excess_arrivals_excess_residents_barchart,\n",
    "    top_3_adm_hosts,\n",
    "    residents_hosts_vs_aa,\n",
    "    top_3_adm_hosts_multi_aa,\n",
    ")\n",
    "\n",
    "set_default_style_to_flowminder()\n",
    "\n",
    "national_path = plot_national_map(\n",
    "    out_folder=output_path,\n",
    "    spatial_geometry=spatial_geometry,\n",
    "    total_excess_arrivals_past_week=total_excess_arrivals_past_week,\n",
    "    host_areas=host_areas,\n",
    "    affected_areas=affected_areas,\n",
    "    date_string=date_string,\n",
    ")\n",
    "outputs_dict[\"national\"][\"all_excess_arrivals\"] = str(national_path)\n",
    "\n",
    "excess_national_arrivals_table_path = excess_national_arrivals_table(\n",
    "    excess_arrivals_past_week=excess_arrivals_past_week,\n",
    "    most_recent_excess_residents_per_host=most_recent_excess_residents_per_host,\n",
    "    out_folder=output_path,\n",
    ")\n",
    "outputs_dict[\"national\"][\"excess_arrivals_excess_residents_table\"] = str(\n",
    "    excess_national_arrivals_table_path\n",
    ")\n",
    "\n",
    "excess_barchart_path = excess_arrivals_excess_residents_barchart(\n",
    "    excess_arrivals_past_week=excess_arrivals_past_week,\n",
    "    most_recent_excess_residents_per_host=most_recent_excess_residents_per_host,\n",
    "    out_folder=output_path,\n",
    ")\n",
    "outputs_dict[\"national\"][\"excess_arrivals_excess_residents_barchart\"] = str(\n",
    "    excess_barchart_path\n",
    ")"
   ]
  },
  {
   "cell_type": "markdown",
   "id": "21495481-73a3-4da9-91d3-f6ee24a97def",
   "metadata": {},
   "source": [
    "_regional_\n"
   ]
  },
  {
   "cell_type": "code",
   "execution_count": null,
   "id": "39340eee-d5ef-4388-b019-2267e153ea97",
   "metadata": {
    "tags": []
   },
   "outputs": [],
   "source": [
    "start_date = datetime.strftime(key_dates[\"event_date_minus_3_months\"], \"%d %b %y\")\n",
    "end_date = datetime.strftime(\n",
    "    key_dates[\"event_date\"] - pd.DateOffset(days=1), \"%d %b %y\"\n",
    ")\n",
    "date_string = f\"{start_date} and\\n{end_date}\"\n",
    "residents_hosts = net_cumsums_agged[net_cumsums_agged.admin3pcod.isin(hosts.admin3pcod)]\n",
    "residents_aa = net_cumsums_aa_agged\n",
    "\n",
    "excess_arrivals_past_week_w_geo = gpd.GeoDataFrame(\n",
    "    total_excess_arrivals_past_week_per_AA.merge(\n",
    "        affected_areas, left_on=\"index_AA\", right_index=True\n",
    "    ).merge(\n",
    "        spatial_geometry,\n",
    "        left_on=\"admin3pcod\",\n",
    "        right_on=\"admin3pcod\",\n",
    "        suffixes=(\"_\", \"\"),\n",
    "    )\n",
    ")\n",
    "excess_arrivals_past_week_w_geo"
   ]
  },
  {
   "cell_type": "code",
   "execution_count": null,
   "id": "d9976c00",
   "metadata": {},
   "outputs": [],
   "source": [
    "for aa, regional_dataframe in excess_arrivals_past_week_w_geo.groupby(\"name\"):\n",
    "    print(f\"Plotting {aa}\")\n",
    "\n",
    "    regional_map_path = plot_regional_map(\n",
    "        regional_dataframe=regional_dataframe,\n",
    "        affected_areas=affected_areas,\n",
    "        spatial_geometry=spatial_geometry,\n",
    "        host_areas=host_areas,\n",
    "        output_folder=output_path,\n",
    "        aa=aa,\n",
    "        date_str=date_string,\n",
    "    )\n",
    "    outputs_dict[\"affected_areas\"][aa][\"all_excess_arrivals\"] = str(regional_map_path)\n",
    "\n",
    "    regional_map_path_zoomed = plot_zoomed_regional_map(\n",
    "        regional_dataframe=regional_dataframe,\n",
    "        affected_areas=affected_areas,\n",
    "        spatial_geometry=spatial_geometry,\n",
    "        host_areas=host_areas,\n",
    "        output_folder=output_path,\n",
    "        aa_name=aa,\n",
    "        date_string=date_string,\n",
    "    )\n",
    "    outputs_dict[\"affected_areas\"][aa][\"all_excess_arrivals_zoomed\"] = str(\n",
    "        regional_map_path_zoomed\n",
    "    )\n",
    "\n",
    "    # TODO: Check if these two dataframes are compatible\n",
    "    excess_regional_arrivals_table_path = excess_regional_arrivals_table(\n",
    "        regional_dataframe=regional_dataframe,\n",
    "        most_recent_excess_residents_per_host=most_recent_excess_residents_per_host,\n",
    "        aa_name=aa,\n",
    "        out_folder=output_path,\n",
    "    )\n",
    "    outputs_dict[\"affected_areas\"][aa][\"excess_arrivals_excess_residents_table\"] = str(\n",
    "        excess_regional_arrivals_table_path\n",
    "    )\n",
    "\n",
    "    top_3_adm_hosts_path = top_3_adm_hosts(\n",
    "        excess_arrivals_df=regional_dataframe,\n",
    "        arrivals_from_aa=arrivals_from_aa,\n",
    "        key_dates=key_dates,\n",
    "        aa_name=excess_arrivals_past_week_w_geo.index_AA.unique().values[0],\n",
    "        output_folder=output_path,\n",
    "        date_string=date_string,\n",
    "    )\n",
    "    outputs_dict[\"affected_areas\"][aa][\"top3_adm_hosts\"] = str(top_3_adm_hosts_path)\n",
    "\n",
    "# National level top3 hosts\n",
    "top_3_adm_hosts_multi_aa_path = top_3_adm_hosts_multi_aa(\n",
    "    excess_arrivals_df=excess_arrivals_past_week_w_geo,\n",
    "    arrivals_from_aa=arrivals_from_aa,\n",
    "    key_dates=key_dates,\n",
    "    aa_name=list(excess_arrivals_past_week_w_geo.index_AA.unique()),\n",
    "    output_folder=output_path,\n",
    "    date_string=date_string,\n",
    ")\n",
    "outputs_dict[\"national\"][\"top3_adm_hosts_multi_aa\"] = str(top_3_adm_hosts_multi_aa_path)\n",
    "\n",
    "# Does this need to be in it's own loop?\n",
    "for aa, df in residents_aa.groupby(\"name\"):\n",
    "    residents_hosts_path = residents_hosts_vs_aa(\n",
    "        residents_hosts_df=df,\n",
    "        hosts=hosts,\n",
    "        residents_hosts=residents_hosts,\n",
    "        key_dates=key_dates,\n",
    "        date_string=date_string,\n",
    "        aa_name=aa,\n",
    "        output_folder=output_path,\n",
    "    )\n",
    "\n",
    "    outputs_dict[\"affected_areas\"][aa][\"residents_hosts_vs_aa\"] = str(\n",
    "        residents_hosts_path\n",
    "    )"
   ]
  },
  {
   "cell_type": "code",
   "execution_count": null,
   "id": "54371cd1",
   "metadata": {},
   "outputs": [],
   "source": [
    "most_recent_excess_residents_per_host"
   ]
  },
  {
   "cell_type": "code",
   "execution_count": null,
   "id": "c4c012f2",
   "metadata": {},
   "outputs": [],
   "source": [
    "excess_arrivals_past_week"
   ]
  },
  {
   "cell_type": "markdown",
   "id": "c83d5857-931f-4ad1-b313-8925d78484eb",
   "metadata": {},
   "source": [
    "###### f. Time series of excess arrivals\n"
   ]
  },
  {
   "cell_type": "markdown",
   "id": "80fdbdcb-7868-435e-915b-44c8dc2712b8",
   "metadata": {},
   "source": [
    "###### g. Time series of residents in the AA (departure area) and in the host locations (arrivals area)\n"
   ]
  },
  {
   "cell_type": "markdown",
   "id": "74bdfff8-bc94-4918-a642-3bf43ffc8fec",
   "metadata": {},
   "source": [
    "# Save the json\n"
   ]
  },
  {
   "cell_type": "code",
   "execution_count": null,
   "id": "19d4c7c6-f10a-486c-8485-59da3a30ac11",
   "metadata": {
    "tags": []
   },
   "outputs": [],
   "source": [
    "import json"
   ]
  },
  {
   "cell_type": "code",
   "execution_count": null,
   "id": "a86574e6-441e-4e8a-91e4-b37a3e376b35",
   "metadata": {
    "tags": []
   },
   "outputs": [],
   "source": [
    "(output_path / \"active_crisis.json\").write_text(json.dumps(outputs_dict))"
   ]
  },
  {
   "cell_type": "code",
   "execution_count": null,
   "id": "378380e0-65d3-4b3f-8c56-c876f19f0665",
   "metadata": {
    "tags": []
   },
   "outputs": [],
   "source": [
    "outputs_dict"
   ]
  },
  {
   "cell_type": "code",
   "execution_count": null,
   "id": "d1ee30a7-4dd9-421f-a6db-c7b0b97b0b43",
   "metadata": {},
   "outputs": [],
   "source": []
  }
 ],
 "metadata": {
  "kernelspec": {
   "display_name": "Python 3 (ipykernel)",
   "language": "python",
   "name": "python3"
  },
  "language_info": {
   "codemirror_mode": {
    "name": "ipython",
    "version": 3
   },
   "file_extension": ".py",
   "mimetype": "text/x-python",
   "name": "python",
   "nbconvert_exporter": "python",
   "pygments_lexer": "ipython3",
   "version": "3.12.5"
  }
 },
 "nbformat": 4,
 "nbformat_minor": 5
}
