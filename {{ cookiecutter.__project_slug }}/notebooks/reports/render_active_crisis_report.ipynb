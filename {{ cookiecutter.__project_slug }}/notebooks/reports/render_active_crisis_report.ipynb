{
 "cells": [
  {
   "cell_type": "code",
   "execution_count": null,
   "metadata": {},
   "outputs": [],
   "source": [
    "import sys\n",
    "import datetime as dt\n",
    "from datetime import timedelta\n",
    "import json\n",
    "from pathlib import Path\n",
    "import report_utils as ru\n",
    "from jinja2 import Environment, FileSystemLoader, DebugUndefined\n",
    "import csv\n",
    "from pprint import pp\n",
    "from translation_utils import TranslatorConfig\n",
    "\n",
    "sys.version_info"
   ]
  },
  {
   "cell_type": "code",
   "execution_count": null,
   "metadata": {
    "tags": [
     "parameters"
    ]
   },
   "outputs": [],
   "source": [
    "report_json = \"unset\"\n",
    "html_out_folder = \"unset\"\n",
    "logical_date = \"unset\"\n",
    "incident_date = \"unset\"\n",
    "shared_data_dir = \"unset\"\n",
    "dagrun_data_dir = \"unset\"\n",
    "static_dir = \"unset\"\n",
    "template_dir = \"templates\"\n",
    "crisis_name = \"unset\"\n",
    "update_freq = \"unset\"\n",
    "key_obs_dir = \"unset\"\n",
    "country = \"unset\""
   ]
  },
  {
   "cell_type": "code",
   "execution_count": null,
   "metadata": {},
   "outputs": [],
   "source": [
    "execution_date_str = logical_date\n",
    "logical_date = dt.date.fromisoformat(logical_date)\n",
    "incident_date = dt.date.fromisoformat(incident_date)\n",
    "report_json = Path(dagrun_data_dir) / report_json\n",
    "html_out_folder = Path(shared_data_dir) / html_out_folder\n",
    "template_path = Path(static_dir) / template_dir"
   ]
  },
  {
   "cell_type": "code",
   "execution_count": null,
   "metadata": {},
   "outputs": [],
   "source": [
    "html_out_folder.mkdir(parents=True, exist_ok=True)"
   ]
  },
  {
   "cell_type": "code",
   "execution_count": null,
   "metadata": {},
   "outputs": [],
   "source": [
    "translator_config = TranslatorConfig(\n",
    "    translation_folder=template_path / \"active_crisis_report\" / \"translations\",\n",
    ")"
   ]
  },
  {
   "cell_type": "code",
   "execution_count": null,
   "metadata": {},
   "outputs": [],
   "source": [
    "class MissingDataError(Exception):\n",
    "    pass\n",
    "\n",
    "\n",
    "def get_update_num():\n",
    "    return 1\n",
    "\n",
    "\n",
    "def get_manual_key_obs():\n",
    "    try:\n",
    "        return (Path(key_obs_dir) / (execution_date_str + \".html\")).read_text()\n",
    "    except FileNotFoundError:\n",
    "        return \"No key observations written for this report.\"\n",
    "\n",
    "\n",
    "def get_last_report_date():\n",
    "    return dt.date(1990, 1, 1)\n",
    "\n",
    "\n",
    "def get_last_stable_date():\n",
    "    return dt.date(1990, 1, 1)\n",
    "\n",
    "\n",
    "def get_last_stable_report_num():\n",
    "    return 1\n",
    "\n",
    "\n",
    "def get_last_prep_report_num():\n",
    "    return 1\n",
    "\n",
    "\n",
    "def stats_box_csv_to_values(csv_path):\n",
    "    with open(csv_path, newline=\"\") as csvfile:\n",
    "        reader = csv.DictReader(csvfile)\n",
    "\n",
    "        def _conditional_round(value):\n",
    "            try:\n",
    "                return round(float(value))\n",
    "            except ValueError:\n",
    "                return value\n",
    "\n",
    "        return {key: _conditional_round(value) for key, value in next(reader).items()}"
   ]
  },
  {
   "cell_type": "code",
   "execution_count": null,
   "metadata": {},
   "outputs": [],
   "source": [
    "page_2_required_field_list = [\n",
    "    \"top3_adm_hosts\",\n",
    "    \"residents_hosts_vs_aa\",\n",
    "    \"excess_arrivals_excess_residents_table\",\n",
    "    \"all_excess_arrivals_zoomed\",\n",
    "    \"displaced_stats_boxes\",\n",
    "]\n",
    "\n",
    "print(report_json)\n",
    "print(html_out_folder)\n",
    "\n",
    "jinja_env = Environment(\n",
    "    loader=FileSystemLoader(template_path), undefined=DebugUndefined\n",
    ")\n",
    "\n",
    "date_range_end = ru.ReportDate(logical_date.year, logical_date.month, logical_date.day)\n",
    "date_range_start = ru.ReportDate(\n",
    "    incident_date.year, incident_date.month, incident_date.day\n",
    ")\n",
    "\n",
    "report_data = json.loads(report_json.read_text())\n",
    "report_data"
   ]
  },
  {
   "cell_type": "code",
   "execution_count": null,
   "metadata": {},
   "outputs": [],
   "source": [
    "good_regions = {\n",
    "    affected_area: aa_data\n",
    "    for affected_area, aa_data in report_data[\"affected_areas\"].items()\n",
    "    if all(field in aa_data.keys() for field in page_2_required_field_list)\n",
    "}\n",
    "if len(good_regions) == 0:\n",
    "    raise MissingDataError(\n",
    "        f\"No areas with data detected.\\nAffected area data:{report_json}\"\n",
    "    )\n",
    "good_regions"
   ]
  },
  {
   "cell_type": "code",
   "execution_count": null,
   "metadata": {},
   "outputs": [],
   "source": [
    "national_data = report_data[\"national\"]\n",
    "crisis_general_args = dict(\n",
    "    name_of_crisis=crisis_name,\n",
    "    pub_date=date_range_end,\n",
    "    update_freq_days=update_freq,\n",
    "    total_pages=2 if len(good_regions) == 1 else len(good_regions) + 2,\n",
    "    update_num=get_update_num(),\n",
    "    period=ru.ReportPeriod(date_range_start, date_range_end),\n",
    "    period_short=ru.ReportPeriod(date_range_start, date_range_end).short(),\n",
    "    crisis_date=date_range_end,  # Check this\n",
    "    country=country,\n",
    ")"
   ]
  },
  {
   "cell_type": "code",
   "execution_count": null,
   "metadata": {},
   "outputs": [],
   "source": [
    "stats_boxes = stats_box_csv_to_values(national_data[\"displaced_stats_boxes\"])"
   ]
  },
  {
   "cell_type": "code",
   "execution_count": null,
   "metadata": {},
   "outputs": [],
   "source": [
    "running_page_num = 2\n",
    "if len(report_data[\"affected_areas\"]) > 1:\n",
    "    cover = ru.CrisisTemplateCover(\n",
    "        manual_key_observations=get_manual_key_obs(),\n",
    "        displaced_subs_table=ru.ReportTable(\n",
    "            national_data[\"excess_arrivals_excess_residents_table\"], rows=10\n",
    "        ),\n",
    "        location_displacement_table=ru.ReportTable(\n",
    "            national_data[\"excess_arrivals_excess_residents_table\"], rows=10\n",
    "        ),\n",
    "        area_map=ru.ReportImage(national_data[\"all_excess_arrivals\"]),\n",
    "        # TODO: Check with Rob that these are correct\n",
    "        remaining_displaced=stats_boxes[\"total_displaced_in_known_areas\"],\n",
    "        displaced_neighbourhoods=stats_boxes[\"total_displaced_from_aa\"],\n",
    "        newly_displaced=stats_boxes[\"newly_displaced\"],\n",
    "        displaced_plot=ru.ReportImage(\n",
    "            national_data[\"excess_arrivals_excess_residents_barchart\"]\n",
    "        ),\n",
    "        newly_displaced_ts=ru.ReportImage(national_data[\"top3_adm_hosts_multi_aa\"]),\n",
    "        page_num=1,\n",
    "        **crisis_general_args,\n",
    "    )\n",
    "    for affected_area, aa_data in good_regions.items():\n",
    "        # try:\n",
    "        region_stats_boxes = stats_box_csv_to_values(aa_data[\"displaced_stats_boxes\"])\n",
    "        region = ru.CrisisTemplateRegion(\n",
    "            affected_area=affected_area,\n",
    "            total_displaced=region_stats_boxes[\"value\"],\n",
    "            displaced_since_last=\"TODO\",  # region_stats_boxes[\"defecit\"],\n",
    "            area_map=ru.ReportImage(aa_data[\"all_excess_arrivals_zoomed\"]),\n",
    "            newly_displaced_ts=ru.ReportImage(aa_data[\"top3_adm_hosts\"]),\n",
    "            remaining_displaced_ts=ru.ReportImage(aa_data[\"residents_hosts_vs_aa\"]),\n",
    "            page_num=running_page_num,\n",
    "            **crisis_general_args,\n",
    "        )\n",
    "        running_page_num += 1\n",
    "        print(region)\n",
    "\n",
    "        ru.render_report(\n",
    "            region,\n",
    "            template_name=\"active_crisis_report/affected_area.html\",\n",
    "            style=\"active_crisis_report/active_crisis.css\",\n",
    "            env=jinja_env,\n",
    "            out_folder=html_out_folder,\n",
    "            out_name=f\"{running_page_num:02}_{region.affected_area}.html\",\n",
    "            translator_config=translator_config,\n",
    "        )\n",
    "else:  # Only one AA for this branch\n",
    "    aa_data = next(iter(good_regions.values()))\n",
    "    aa_map = aa_data[\"all_excess_arrivals_zoomed\"]\n",
    "    cover = ru.CrisisTemplateCover(\n",
    "        manual_key_observations=get_manual_key_obs(),\n",
    "        displaced_subs_table=ru.ReportTable(\n",
    "            national_data[\"excess_arrivals_excess_residents_table\"], rows=10\n",
    "        ),\n",
    "        location_displacement_table=ru.ReportTable(\n",
    "            national_data[\"excess_arrivals_excess_residents_table\"], rows=10\n",
    "        ),\n",
    "        area_map=ru.ReportImage(aa_map),\n",
    "        # TODO: Check with Rob that these are correct\n",
    "        remaining_displaced=stats_boxes[\"total_displaced_in_known_areas\"],\n",
    "        displaced_neighbourhoods=stats_boxes[\"total_displaced_from_aa\"],\n",
    "        newly_displaced=stats_boxes[\"newly_displaced\"],\n",
    "        displaced_plot=ru.ReportImage(\n",
    "            national_data[\"excess_arrivals_excess_residents_barchart\"]\n",
    "        ),\n",
    "        newly_displaced_ts=ru.ReportImage(national_data[\"top3_adm_hosts_multi_aa\"]),\n",
    "        page_num=1,\n",
    "        **crisis_general_args,\n",
    "    )"
   ]
  },
  {
   "cell_type": "code",
   "execution_count": null,
   "metadata": {},
   "outputs": [],
   "source": [
    "ru.render_report(\n",
    "    cover,\n",
    "    template_name=\"active_crisis_report/cover.html\",\n",
    "    style=\"active_crisis_report/active_crisis.css\",\n",
    "    env=jinja_env,\n",
    "    out_folder=html_out_folder,\n",
    "    out_name=\"01_cover.html\",\n",
    "    translator_config=translator_config,\n",
    ")"
   ]
  },
  {
   "cell_type": "code",
   "execution_count": null,
   "metadata": {},
   "outputs": [],
   "source": [
    "last_report_date = get_last_report_date()\n",
    "last_stable_date = get_last_stable_date()\n",
    "back_matter = ru.CrisisTemplateBackMatter(\n",
    "    month=logical_date.month,\n",
    "    year=logical_date.year,\n",
    "    prep_month=last_report_date.month,\n",
    "    prep_year=last_report_date.year,\n",
    "    prep_num=get_last_prep_report_num(),\n",
    "    strec_month=last_stable_date.month,\n",
    "    strec_year=last_stable_date.year,\n",
    "    strec_num=get_last_stable_report_num(),\n",
    "    page_num=running_page_num,\n",
    "    **crisis_general_args,\n",
    ")\n",
    "back_matter"
   ]
  },
  {
   "cell_type": "code",
   "execution_count": null,
   "metadata": {},
   "outputs": [],
   "source": [
    "ru.render_report(\n",
    "    back_matter,\n",
    "    template_name=\"active_crisis_report/back_matter.html\",\n",
    "    style=\"active_crisis_report/active_crisis.css\",\n",
    "    env=jinja_env,\n",
    "    out_folder=html_out_folder,\n",
    "    out_name=f\"{running_page_num:02}_back_matter.html\",\n",
    "    translator_config=translator_config,\n",
    ")"
   ]
  }
 ],
 "metadata": {
  "kernelspec": {
   "display_name": "Python 3 (ipykernel)",
   "language": "python",
   "name": "python3"
  },
  "language_info": {
   "codemirror_mode": {
    "name": "ipython",
    "version": 3
   },
   "file_extension": ".py",
   "mimetype": "text/x-python",
   "name": "python",
   "nbconvert_exporter": "python",
   "pygments_lexer": "ipython3",
   "version": "3.12.5"
  }
 },
 "nbformat": 4,
 "nbformat_minor": 4
}
