{
 "cells": [
  {
   "cell_type": "code",
   "execution_count": 1,
   "metadata": {},
   "outputs": [],
   "source": [
    "from weasyprint import HTML, Document, default_url_fetcher\n",
    "from weasyprint.text.fonts import FontConfiguration\n",
    "from weasyprint.document import DocumentMetadata\n",
    "from pathlib import Path"
   ]
  },
  {
   "cell_type": "code",
   "execution_count": 2,
   "metadata": {},
   "outputs": [],
   "source": [
    "local_root = Path(\"/home/john/projects/flowbot-pipelines/npl-test-prep-2016-01-01\")"
   ]
  },
  {
   "cell_type": "code",
   "execution_count": 3,
   "metadata": {
    "tags": [
     "parameters"
    ]
   },
   "outputs": [],
   "source": [
    "pdf_dir = \"pdf\"\n",
    "crisis_name = \"preparedness\"  # TODO: Change arg to 'report_name' in dags\n",
    "execution_date = \"2016-02-01\"\n",
    "html_dir = \"html\"\n",
    "shared_data_dir = local_root / \"data\" / \"shared\"\n",
    "dagrun_data_dir = (\n",
    "    local_root\n",
    "    / \"data\"\n",
    "    / \"dagruns\"\n",
    "    / \"2016-02-01\"\n",
    "    / \"test-prep_report__scheduled__2016-02-01T00:00:00+00:00\"\n",
    ")\n",
    "static_dir = local_root / \"static\"\n",
    "template_dir = \"templates\"\n",
    "key_obs_dir = local_root / \"key_obs\"\n",
    "country = \"nepal\""
   ]
  },
  {
   "cell_type": "code",
   "execution_count": null,
   "metadata": {},
   "outputs": [],
   "source": [
    "html_path = Path(shared_data_dir) / html_dir\n",
    "pdf_path = Path(shared_data_dir) / pdf_dir\n",
    "image_dir = Path(static_dir) / \"reports\" / \"images\"\n",
    "pdf_path.mkdir(parents=True, exist_ok=True)\n",
    "print(html_path)"
   ]
  },
  {
   "cell_type": "code",
   "execution_count": 5,
   "metadata": {},
   "outputs": [],
   "source": [
    "from operator import itemgetter\n",
    "\n",
    "for language in [\"en\", \"fr\"]:  # Kludge - fix later\n",
    "    local_htmls = html_path / language\n",
    "    htmls = {page.name: HTML(page) for page in local_htmls.glob(\"*.html\")}\n",
    "    if len(htmls) == 0:\n",
    "        raise FileNotFoundError()\n",
    "    htmls = sorted(htmls.items(), key=itemgetter(0))\n",
    "    documents = {name: page.render() for name, page in htmls}\n",
    "\n",
    "    (pdf_path / language).mkdir(exist_ok=True)\n",
    "\n",
    "    # Writing individual pages\n",
    "    for name, html in sorted(documents.items(), key=itemgetter(0)):\n",
    "        out_path = (\n",
    "            pdf_path\n",
    "            / language\n",
    "            / f\"{crisis_name}_{execution_date}_{name}_{language}.pdf\"\n",
    "        )\n",
    "        print(out_path)\n",
    "        html.write_pdf(\n",
    "            out_path,\n",
    "            presentational_hints=True,\n",
    "        )"
   ]
  }
 ],
 "metadata": {
  "kernelspec": {
   "display_name": "Python 3 (ipykernel)",
   "language": "python",
   "name": "python3"
  },
  "language_info": {
   "codemirror_mode": {
    "name": "ipython",
    "version": 3
   },
   "file_extension": ".py",
   "mimetype": "text/x-python",
   "name": "python",
   "nbconvert_exporter": "python",
   "pygments_lexer": "ipython3",
   "version": "3.12.5"
  }
 },
 "nbformat": 4,
 "nbformat_minor": 4
}
