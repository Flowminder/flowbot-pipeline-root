{
 "cells": [
  {
   "cell_type": "markdown",
   "id": "591902f0-4061-4b90-9459-b1e8cbfd46c6",
   "metadata": {},
   "source": [
    "## Imports"
   ]
  },
  {
   "cell_type": "code",
   "execution_count": null,
   "id": "e47f8617-a13d-4a67-81f5-6b8a513670ff",
   "metadata": {},
   "outputs": [],
   "source": [
    "from pathlib import Path\n",
    "\n",
    "import numpy as np\n",
    "import pandas as pd\n",
    "import geopandas as gpd"
   ]
  },
  {
   "cell_type": "markdown",
   "id": "d28caab1-95e8-4763-8475-6eeaccdc527f",
   "metadata": {},
   "source": [
    "# Parameters"
   ]
  },
  {
   "cell_type": "code",
   "execution_count": null,
   "id": "095f80c6-6fad-4c28-83ba-1032d2a0f511",
   "metadata": {
    "tags": [
     "parameters"
    ]
   },
   "outputs": [],
   "source": [
    "data_date = \"2021-11-01\"  # which date this notebook should run date for\n",
    "\n",
    "shared_data_dir = \"data\"  # donde esta la data that can change\n",
    "static_dir = \"static\"  # wo ist das static data\n",
    "dagrun_data_dir = \"data\"  # unique writable directory for this DAG run\n",
    "\n",
    "# Filenames of auxiliary files in static_dir\n",
    "geometry_filename = \"admin3.geojson\"  # file with shapefile for residents per km2\n",
    "base_pop_and_growth_rates_filename = (\n",
    "    \"haiti_growth_rates_fixed.csv\"  # file descibing base pop and growth rates\n",
    ")\n",
    "scaling_factors_bilateral_pairs_filename = (\n",
    "    \"Haiti all possible bilateral flows with combined factors v2.0.csv\"\n",
    ")\n",
    "\n",
    "base_pop_column = \"est_pop_2020_01\"\n",
    "\n",
    "aggregates_subdir = (\n",
    "    \"aggregates\"  # where art the aggregate data (within shared_data_dir)\n",
    ")\n",
    "indicators_subdir = \"indicators\"  # where art the indicators (within shared_data_dir)\n",
    "\n",
    "metric_crs_epsg = (\n",
    "    32618  # country specific, what projection to use for metre coordinates\n",
    ")\n",
    "residents_reference_date = \"2020-01-01\"  # platform specific, what is the first date which we show on platform, which we can't show many derived indicators\n",
    "relocations_reference_date = (\n",
    "    \"2020-02-01\"  # there is a month offset before we can show flows between months\n",
    ")\n",
    "\n",
    "# what spatial unit are we at\n",
    "geo_spatial_unit = \"ADM3_PCODE\"\n",
    "agg_spatial_unit = \"pcod\"\n",
    "pop_and_gr_spatial_unit = \"pcod\"\n",
    "\n",
    "geometry_admin3_col = (\"ADM3_PCODE\",)\n",
    "\n",
    "agg_spatial_unit_to, agg_spatial_unit_from = (\n",
    "    \"pcod_to\",\n",
    "    \"pcod_from\",\n",
    ")  # what to and from are called in the aggregates\n",
    "sf_spatial_unit_to, sf_spatial_unit_from = (\n",
    "    \"to_pcod\",\n",
    "    \"from_pcod\",\n",
    ")  # what to and from is called in the scaling factor file"
   ]
  },
  {
   "cell_type": "code",
   "execution_count": null,
   "id": "18f01346",
   "metadata": {},
   "outputs": [],
   "source": [
    "# Convert date parameters to datetime objects here because papermill date parameters will be strings\n",
    "data_date = pd.to_datetime(data_date)\n",
    "residents_reference_date = pd.to_datetime(residents_reference_date)\n",
    "relocations_reference_date = pd.to_datetime(relocations_reference_date)\n",
    "\n",
    "# Get full path to data subdirs\n",
    "aggregates_dir = Path(shared_data_dir) / aggregates_subdir\n",
    "indicators_dir = Path(shared_data_dir) / indicators_subdir\n",
    "geometry_filepath = Path(dagrun_data_dir) / geometry_filename\n",
    "\n",
    "# Get full path to static files\n",
    "base_pop_and_growth_rates_filepath = (\n",
    "    Path(static_dir) / base_pop_and_growth_rates_filename\n",
    ")\n",
    "scaling_factors_bilateral_pairs_filepath = (\n",
    "    Path(static_dir) / scaling_factors_bilateral_pairs_filename\n",
    ")"
   ]
  },
  {
   "cell_type": "markdown",
   "id": "acf39192-56a5-477c-8120-d393bb6ad2be",
   "metadata": {},
   "source": [
    "#### What static data is being used?"
   ]
  },
  {
   "cell_type": "code",
   "execution_count": null,
   "id": "a4685350-094c-4fd6-a462-d98daedfdde9",
   "metadata": {},
   "outputs": [],
   "source": [
    "print(base_pop_and_growth_rates_filename)"
   ]
  },
  {
   "cell_type": "markdown",
   "id": "6a8ed793-296c-4f49-bb90-f798b41661ee",
   "metadata": {},
   "source": [
    "#### What scaling factors are being used?"
   ]
  },
  {
   "cell_type": "code",
   "execution_count": null,
   "id": "82a15c25-e9a3-4c3d-a6fe-0116fbe7bf18",
   "metadata": {},
   "outputs": [],
   "source": [
    "print(scaling_factors_bilateral_pairs_filename)"
   ]
  },
  {
   "cell_type": "markdown",
   "id": "784dd517-9853-467b-b043-765a9864990e",
   "metadata": {},
   "source": [
    "#### What are we doing with this notebook?"
   ]
  },
  {
   "cell_type": "code",
   "execution_count": null,
   "id": "de2eb77a-94c5-4eed-bcce-6a1ee42bc995",
   "metadata": {},
   "outputs": [],
   "source": [
    "f\"Computing indicators for the month of:\""
   ]
  },
  {
   "cell_type": "code",
   "execution_count": null,
   "id": "0e12eb16-0dc0-40c3-a992-470a64cb1e6b",
   "metadata": {},
   "outputs": [],
   "source": [
    "data_date.date().strftime(\"%Y-%m\")"
   ]
  },
  {
   "cell_type": "markdown",
   "id": "3205b85b-44e8-4932-a98f-895aa4440810",
   "metadata": {},
   "source": [
    "# Data needed to compute indicators"
   ]
  },
  {
   "cell_type": "markdown",
   "id": "8697f51a-f5bb-4fd4-a0b0-9167f08d5cb7",
   "metadata": {},
   "source": [
    "To compute the scaled residents estimates we need:\n",
    "\n",
    "Scaled resident estimates\n",
    "1. Relocations from the previous month to this month\n",
    "2. Scaling factors to adjust the flows between each corridor\n",
    "3. The resulting adjusted relocation aggregates computed by scaling the flows from (1) by the factors in (2)\n",
    "4. The number of residents in the previous month (that we will be adding/subtracting from from arrivals and departures calculated from relocations)\n",
    "5. The monthly growth rates for each admin3 \n",
    "\n",
    "Derived indicators\n",
    "1. Residents at month 1, for the pctchange_withref and diff_withref indicators\n",
    "2. Residents at month X-1, X-2, X-3, X-4, X-5, X-6 for the abnormality indicators\n",
    "3. Area of each admin3, so we can divide the number of residents to get residents_per_KM2"
   ]
  },
  {
   "cell_type": "markdown",
   "id": "7eaa75c3-bd9c-4934-a0b9-ca175e5a7ed5",
   "metadata": {},
   "source": [
    "#### Relocation aggregates from month _X-1_ to month _X_"
   ]
  },
  {
   "cell_type": "code",
   "execution_count": null,
   "id": "0dee5afc-f623-4475-8c24-1f918967d4c5",
   "metadata": {},
   "outputs": [],
   "source": [
    "home_reloc_month_X = pd.read_csv(\n",
    "    Path(aggregates_dir)\n",
    "    / \"residence_relocations\"\n",
    "    / f\"residence_relocations_aggregates_{data_date.date()}\"\n",
    "    / f\"home-relocations_full-outer_from{(data_date-pd.DateOffset(months=1)).date()}_to{data_date.date()}.csv\"  # TODO: Add use_unredacted as a choice for this notebook\n",
    ")\n",
    "\n",
    "home_reloc_month_X = home_reloc_month_X[\n",
    "    home_reloc_month_X[agg_spatial_unit_from] != home_reloc_month_X[agg_spatial_unit_to]\n",
    "].dropna()\n",
    "home_reloc_month_X"
   ]
  },
  {
   "cell_type": "markdown",
   "id": "e0f16229-e068-4c62-928f-a68a156112a1",
   "metadata": {},
   "source": [
    "#### Scaling factors"
   ]
  },
  {
   "cell_type": "code",
   "execution_count": null,
   "id": "5c4c42b4-14e7-46c9-a67b-4ee765f30236",
   "metadata": {},
   "outputs": [],
   "source": [
    "scaling_factors = pd.read_csv(scaling_factors_bilateral_pairs_filepath)\n",
    "scaling_factors"
   ]
  },
  {
   "cell_type": "markdown",
   "id": "21519754-9e15-4648-8b58-e5978d40d6f2",
   "metadata": {},
   "source": [
    "#### Adjusted relocation aggregates (flows from month _X-1_ to month _X_)"
   ]
  },
  {
   "cell_type": "code",
   "execution_count": null,
   "id": "b91d3e8d-abbd-4d0c-8d98-b0e070df3831",
   "metadata": {},
   "outputs": [],
   "source": [
    "def adjust_flows(df):\n",
    "    adjusted_home_reloc_month_X = df.merge(\n",
    "        scaling_factors,\n",
    "        left_on=[agg_spatial_unit_from, agg_spatial_unit_to],\n",
    "        right_on=[sf_spatial_unit_from, sf_spatial_unit_to],\n",
    "    ).assign(\n",
    "        relocations=lambda z: np.ceil(z.value * z.combi_movbi_tot),\n",
    "        relocations_LB=lambda z: np.ceil(z.value * z.combi_movbi_tot_LB),\n",
    "        relocations_UB=lambda z: np.ceil(z.value * z.combi_movbi_tot_UB),\n",
    "    )\n",
    "\n",
    "    adjusted_home_reloc_month_X = adjusted_home_reloc_month_X[\n",
    "        [\n",
    "            agg_spatial_unit_from,\n",
    "            agg_spatial_unit_to,\n",
    "            \"relocations\",\n",
    "            \"relocations_LB\",\n",
    "            \"relocations_UB\",\n",
    "        ]\n",
    "    ]\n",
    "\n",
    "    adjusted_home_reloc_month_X[\"date\"] = data_date\n",
    "\n",
    "    return adjusted_home_reloc_month_X\n",
    "\n",
    "\n",
    "adjusted_home_reloc_month_X = adjust_flows(home_reloc_month_X)\n",
    "adjusted_home_reloc_month_X"
   ]
  },
  {
   "cell_type": "markdown",
   "id": "92ea6801-8c62-4d36-94f7-cd5efd35d3b7",
   "metadata": {},
   "source": [
    "#### Base population _(Jan 2020)_ and Growth rates _(monthly per year)_"
   ]
  },
  {
   "cell_type": "code",
   "execution_count": null,
   "id": "3300f500-01e1-47f4-891c-56be80c3a637",
   "metadata": {},
   "outputs": [],
   "source": [
    "base_pop_and_growth_rates = pd.read_csv(base_pop_and_growth_rates_filepath).set_index(\n",
    "    pop_and_gr_spatial_unit\n",
    ")\n",
    "\n",
    "base_pop = base_pop_and_growth_rates[base_pop_column]\n",
    "base_pop"
   ]
  },
  {
   "cell_type": "code",
   "execution_count": null,
   "id": "5e8ef5b8-1aff-4671-a5d6-29dec882e541",
   "metadata": {},
   "outputs": [],
   "source": [
    "growth_rates = base_pop_and_growth_rates.filter(regex=f'.*{data_date.strftime(\"%Y\")}$')\n",
    "growth_rates"
   ]
  },
  {
   "cell_type": "markdown",
   "id": "91276a3a-f984-410a-ad76-c9053fb1d938",
   "metadata": {},
   "source": [
    "#### Residents at month _X-1_"
   ]
  },
  {
   "cell_type": "code",
   "execution_count": null,
   "id": "b571aa46-412e-4610-a7e1-fe74ed6fd844",
   "metadata": {},
   "outputs": [],
   "source": [
    "def month_X_1(residents_col=\"residents\", suffix=\"\"):\n",
    "    residents_month_X_minus_1 = (\n",
    "        pd.read_csv(\n",
    "            Path(indicators_dir)\n",
    "            / f'residents_indicators_{(data_date-pd.DateOffset(months=1)).date().strftime(\"%Y-%m\")}.csv'\n",
    "        )\n",
    "        .set_index(agg_spatial_unit)[residents_col]\n",
    "        .to_frame()\n",
    "    )\n",
    "    return residents_month_X_minus_1\n",
    "\n",
    "\n",
    "residents_month_X_minus_1 = month_X_1(\"residents\")\n",
    "residents_month_X_minus_1"
   ]
  },
  {
   "cell_type": "code",
   "execution_count": null,
   "id": "52f2b063-e4b7-4df9-8b94-2ff7a9cc7cb3",
   "metadata": {},
   "outputs": [],
   "source": [
    "residents_month_X_minus_1_UB = month_X_1(\"residents_UB\")\n",
    "residents_month_X_minus_1_UB"
   ]
  },
  {
   "cell_type": "code",
   "execution_count": null,
   "id": "3faaa413-df9b-4613-be1b-fd69b80fef1c",
   "metadata": {},
   "outputs": [],
   "source": [
    "residents_month_X_minus_1_LB = month_X_1(\"residents_LB\")\n",
    "residents_month_X_minus_1_LB"
   ]
  },
  {
   "cell_type": "markdown",
   "id": "15619363-d902-47bf-99f6-143e6f9b04f1",
   "metadata": {},
   "source": [
    "#### Residents indicators at month _1_"
   ]
  },
  {
   "cell_type": "code",
   "execution_count": null,
   "id": "024dda44-e929-4e72-ad92-a91a5f53f26e",
   "metadata": {},
   "outputs": [],
   "source": [
    "def month_1(residents_col=\"residents\", suffix=\"\"):\n",
    "    residents_month_1 = pd.read_csv(\n",
    "        Path(indicators_dir)\n",
    "        / f'residents_indicators_{residents_reference_date.strftime(\"%Y-%m\")}.csv'\n",
    "    )\n",
    "\n",
    "    residents_month_1 = residents_month_1.set_index(\"pcod\")[residents_col].rename(\n",
    "        \"residents_month_1\" + suffix\n",
    "    )\n",
    "    return residents_month_1\n",
    "\n",
    "\n",
    "residents_month_1 = month_1(\"residents\")\n",
    "residents_month_1"
   ]
  },
  {
   "cell_type": "code",
   "execution_count": null,
   "id": "c31f3a13-1b20-4d5a-b81a-3926d15062ae",
   "metadata": {},
   "outputs": [],
   "source": [
    "residents_month_1_UB = month_1(\"residents_UB\", suffix=\"_UB\")\n",
    "residents_month_1"
   ]
  },
  {
   "cell_type": "code",
   "execution_count": null,
   "id": "601c5d3e-1965-41b9-bd71-e1c48b33cf25",
   "metadata": {},
   "outputs": [],
   "source": [
    "residents_month_1_LB = month_1(\"residents_LB\", suffix=\"_LB\")\n",
    "residents_month_1"
   ]
  },
  {
   "cell_type": "markdown",
   "id": "7aea8517-41d6-4e74-9c95-f753890d4e13",
   "metadata": {},
   "source": [
    "#### Residents indicators at month X-12, ..., X-6, X-5, X-4, X-3, X-2, X-1 (for abnormality rolling window)"
   ]
  },
  {
   "cell_type": "markdown",
   "id": "ab066340-b586-460a-b816-68280012655c",
   "metadata": {},
   "source": [
    "##### Updated to diff in residents"
   ]
  },
  {
   "cell_type": "code",
   "execution_count": null,
   "id": "02fce698-a907-4ae4-80bb-825d7bc28c9d",
   "metadata": {},
   "outputs": [],
   "source": [
    "# actually is the last year, not 6 months (!!!) seems cumbersome to change variable name so leaving right now"
   ]
  },
  {
   "cell_type": "code",
   "execution_count": null,
   "id": "b21f3f40-6dbb-4be6-b326-354070f5caf3",
   "metadata": {},
   "outputs": [],
   "source": [
    "def last_6_months(residents_col=\"residents\", suffix=\"\"):\n",
    "    last_6_mo = [\n",
    "        (data_date - pd.DateOffset(months=i)).date().strftime(\"%Y-%m\")\n",
    "        for i in range(12, 0, -1)\n",
    "    ]\n",
    "\n",
    "    ref_periods = 0\n",
    "    month_dfs = []\n",
    "    for year_month in last_6_mo:\n",
    "        with Path(indicators_dir) / (\n",
    "            f\"residents_indicators_{year_month}.csv\"\n",
    "        ) as filepath:\n",
    "            if filepath.is_file():\n",
    "                print(f\"reading {filepath}\")\n",
    "                ref_periods += 1\n",
    "                month_dfs.append(pd.read_csv(filepath))\n",
    "    print(f\"{ref_periods} months of data for abnormality calculations\")\n",
    "\n",
    "    residents_past_6_months = pd.concat(month_dfs)\n",
    "\n",
    "    residents_past_6_months = residents_past_6_months[\n",
    "        [\"date\", \"pcod\", residents_col, \"arrived\", \"departed\"]\n",
    "    ]\n",
    "\n",
    "    print(\"\\n\", residents_past_6_months.head(3), \"\\n\\n\")\n",
    "\n",
    "    # Set residents value to null if 'arrived' or 'departed' are zero or null\n",
    "    residents_past_6_months[residents_col] = residents_past_6_months.apply(\n",
    "        lambda row: (\n",
    "            np.nan\n",
    "            if pd.isna(row[\"arrived\"])\n",
    "            or row[\"arrived\"] == 0\n",
    "            or pd.isna(row[\"departed\"])\n",
    "            or row[\"departed\"] == 0\n",
    "            else row[residents_col]\n",
    "        ),\n",
    "        axis=1,\n",
    "    )\n",
    "\n",
    "    residents_past_6_months = (\n",
    "        residents_past_6_months.groupby(\"pcod\")[residents_col]\n",
    "        .apply(lambda z: np.diff(np.array(z))[~np.isnan(np.diff(np.array(z)))])\n",
    "        .rename(\"residents_past_6_months\" + suffix)\n",
    "    )\n",
    "\n",
    "    return residents_past_6_months\n",
    "\n",
    "\n",
    "residents_past_6_months = last_6_months(\"residents\")\n",
    "residents_past_6_months"
   ]
  },
  {
   "cell_type": "code",
   "execution_count": null,
   "id": "642a2b1a-cd2c-4ade-8343-e8b500ab3c3e",
   "metadata": {},
   "outputs": [],
   "source": [
    "residents_past_6_months_UB = last_6_months(\"residents_UB\", suffix=\"_UB\")\n",
    "residents_past_6_months"
   ]
  },
  {
   "cell_type": "code",
   "execution_count": null,
   "id": "ad4206d0-2f9a-48d9-9aad-1732605ee6eb",
   "metadata": {},
   "outputs": [],
   "source": [
    "residents_past_6_months_LB = last_6_months(\"residents_LB\", suffix=\"_LB\")\n",
    "residents_past_6_months"
   ]
  },
  {
   "cell_type": "markdown",
   "id": "bb767ee6-a8aa-4993-85b4-18e941ea5351",
   "metadata": {},
   "source": [
    "#### Area of each adm3"
   ]
  },
  {
   "cell_type": "code",
   "execution_count": null,
   "id": "48ad2e84-1b24-4a60-bb78-d140f0f6a734",
   "metadata": {},
   "outputs": [],
   "source": [
    "admin3km2 = (\n",
    "    gpd.read_file(geometry_filepath)\n",
    "    .set_index(geometry_admin3_col)\n",
    "    .to_crs(epsg=metric_crs_epsg)\n",
    "    .area\n",
    "    * 1e-6\n",
    ")\n",
    "admin3km2.name = \"admin3_area_km2\""
   ]
  },
  {
   "cell_type": "markdown",
   "id": "a077b7b4-974e-4c98-8f27-c52286bbd80d",
   "metadata": {},
   "source": [
    "# Create scaled resident indicators for Month X"
   ]
  },
  {
   "cell_type": "markdown",
   "id": "8e631372-9667-4c74-b2f9-e061d1145c5a",
   "metadata": {},
   "source": [
    "## Scaled residents counts\n",
    "\n",
    "(Previous months residents - |people who left| + |people who arrived|) * growth rate\n",
    "\n",
    "\n",
    "We |people who left| to be at most as large as the resident population in the previous month to avoid more people leaving an area than we think live there."
   ]
  },
  {
   "cell_type": "markdown",
   "id": "4e17a730-e91d-42f3-b47d-d52ed445418b",
   "metadata": {},
   "source": [
    "### 1. Get arrived departed at each location"
   ]
  },
  {
   "cell_type": "code",
   "execution_count": null,
   "id": "c798b3a0-ecf7-4e30-aaf8-edf51c593010",
   "metadata": {},
   "outputs": [],
   "source": [
    "# Estimated arrived, departed\n",
    "\n",
    "departed = adjusted_home_reloc_month_X.groupby(agg_spatial_unit_from).relocations.sum()\n",
    "arrived = adjusted_home_reloc_month_X.groupby(agg_spatial_unit_to).relocations.sum()\n",
    "\n",
    "departed.name = \"departed\"\n",
    "arrived.name = \"arrived\"\n",
    "\n",
    "# Upper bound arrived, departed\n",
    "\n",
    "departed_UB = adjusted_home_reloc_month_X.groupby(\n",
    "    agg_spatial_unit_from\n",
    ").relocations_UB.sum()\n",
    "arrived_UB = adjusted_home_reloc_month_X.groupby(\n",
    "    agg_spatial_unit_to\n",
    ").relocations_UB.sum()\n",
    "\n",
    "departed_UB.name = \"departed_UB\"\n",
    "arrived_UB.name = \"arrived_UB\"\n",
    "\n",
    "# Lower bound arrived, departed\n",
    "\n",
    "departed_LB = adjusted_home_reloc_month_X.groupby(\n",
    "    agg_spatial_unit_from\n",
    ").relocations_LB.sum()\n",
    "departed_LB"
   ]
  },
  {
   "cell_type": "code",
   "execution_count": null,
   "id": "5506f50c-7984-483a-bb7e-f79ce152ea4a",
   "metadata": {},
   "outputs": [],
   "source": [
    "arrived_LB = adjusted_home_reloc_month_X.groupby(\n",
    "    agg_spatial_unit_to\n",
    ").relocations_LB.sum()\n",
    "arrived_LB"
   ]
  },
  {
   "cell_type": "code",
   "execution_count": null,
   "id": "be3b9125-0582-4259-af90-a95659421f2a",
   "metadata": {},
   "outputs": [],
   "source": [
    "departed_LB.name = \"departed_LB\"\n",
    "arrived_LB.name = \"arrived_LB\""
   ]
  },
  {
   "cell_type": "code",
   "execution_count": null,
   "id": "8095e8fa-8441-44df-a627-269424e65554",
   "metadata": {},
   "outputs": [],
   "source": [
    "# cap outflows at pop level (more people cannot leave than those who are there)\n",
    "\n",
    "departed = (\n",
    "    pd.concat([departed, residents_month_X_minus_1], axis=1)\n",
    "    .dropna()\n",
    "    .min(axis=1)\n",
    "    .rename(\"departed\")\n",
    ")\n",
    "\n",
    "departed_LB = (\n",
    "    pd.concat([departed_LB, residents_month_X_minus_1], axis=1)\n",
    "    .dropna()\n",
    "    .min(axis=1)\n",
    "    .rename(\"departed_LB\")\n",
    ")\n",
    "\n",
    "departed_UB = (\n",
    "    pd.concat([departed_UB, residents_month_X_minus_1], axis=1)\n",
    "    .dropna()\n",
    "    .min(axis=1)\n",
    "    .rename(\"departed_UB\")\n",
    ")"
   ]
  },
  {
   "cell_type": "markdown",
   "id": "c2ff0ec0-6755-4df2-9000-558a47931a32",
   "metadata": {},
   "source": [
    "### 2. Compute net flows to add to previous months estimates"
   ]
  },
  {
   "cell_type": "code",
   "execution_count": null,
   "id": "a8197f86-ff21-4747-888f-9d90dcd28757",
   "metadata": {},
   "outputs": [],
   "source": [
    "# net flows, UB and LB\n",
    "\n",
    "net_arrived = arrived - departed\n",
    "net_arrived.name = \"net_arrived\"\n",
    "net_arrived"
   ]
  },
  {
   "cell_type": "code",
   "execution_count": null,
   "id": "bff0c990-da19-4bb1-a1b5-86273d95cc64",
   "metadata": {},
   "outputs": [],
   "source": [
    "net_arrived_UB = arrived_UB - departed_LB\n",
    "net_arrived_UB.name = \"net_arrived_UB\"\n",
    "net_arrived_UB"
   ]
  },
  {
   "cell_type": "code",
   "execution_count": null,
   "id": "152cdb87-fe73-4bc6-83e4-d70a15475b15",
   "metadata": {},
   "outputs": [],
   "source": [
    "net_arrived_LB = arrived_LB - departed_UB\n",
    "net_arrived_LB.name = \"net_arrived_LB\"\n",
    "net_arrived_LB"
   ]
  },
  {
   "cell_type": "code",
   "execution_count": null,
   "id": "524f427b-7a27-4337-8b4e-9ec63dd114af",
   "metadata": {},
   "outputs": [],
   "source": [
    "residents_base_components = (\n",
    "    residents_month_X_minus_1.merge(\n",
    "        net_arrived, left_index=True, right_index=True, how=\"left\"\n",
    "    )\n",
    "    .merge(net_arrived_LB, left_index=True, right_index=True, how=\"left\")\n",
    "    .merge(net_arrived_UB, left_index=True, right_index=True, how=\"left\")\n",
    "    .merge(growth_rates, left_index=True, right_index=True, how=\"left\")\n",
    ")"
   ]
  },
  {
   "cell_type": "code",
   "execution_count": null,
   "id": "ebbd68c3-1229-4ac6-a7a8-28a91f8d648d",
   "metadata": {},
   "outputs": [],
   "source": [
    "residents_base_components"
   ]
  },
  {
   "cell_type": "markdown",
   "id": "13e8076a-6e8e-4c8c-9d08-b3769c76ece0",
   "metadata": {},
   "source": [
    "### 3. (Previous month's residents + net arrived) * growth_rate"
   ]
  },
  {
   "cell_type": "code",
   "execution_count": null,
   "id": "bcdff8b2-1039-4252-b6b1-df184ab72a1c",
   "metadata": {},
   "outputs": [],
   "source": [
    "# Resident estimates\n",
    "residents_this_month = (\n",
    "    (\n",
    "        np.round(\n",
    "            (\n",
    "                residents_base_components.residents\n",
    "                + residents_base_components.net_arrived.replace(np.nan, 0)\n",
    "            )\n",
    "            * residents_base_components[f'admin3_growth_{data_date.strftime(\"%Y\")}']\n",
    "        )\n",
    "    )\n",
    ").rename(\"residents\")\n",
    "residents_this_month"
   ]
  },
  {
   "cell_type": "code",
   "execution_count": null,
   "id": "513cb6c3-eb92-4542-902c-0ac88a82d1dc",
   "metadata": {},
   "outputs": [],
   "source": [
    "# Upper bound estimates\n",
    "residents_this_month_LB = (\n",
    "    (\n",
    "        np.round(\n",
    "            (\n",
    "                residents_base_components.residents\n",
    "                + residents_base_components.net_arrived_LB.replace(np.nan, 0)\n",
    "            )\n",
    "            * residents_base_components[f'admin3_growth_{data_date.strftime(\"%Y\")}']\n",
    "        )\n",
    "    )\n",
    ").rename(\"residents_LB\")\n",
    "residents_this_month_LB"
   ]
  },
  {
   "cell_type": "code",
   "execution_count": null,
   "id": "52563209-45a2-4f40-a4c2-9ce696d61039",
   "metadata": {},
   "outputs": [],
   "source": [
    "# Lower bound estimates\n",
    "residents_this_month_UB = (\n",
    "    (\n",
    "        np.round(\n",
    "            (\n",
    "                residents_base_components.residents\n",
    "                + residents_base_components.net_arrived_UB.replace(np.nan, 0)\n",
    "            )\n",
    "            * residents_base_components[f'admin3_growth_{data_date.strftime(\"%Y\")}']\n",
    "        )\n",
    "    )\n",
    ").rename(\"residents_UB\")\n",
    "residents_this_month_UB"
   ]
  },
  {
   "cell_type": "markdown",
   "id": "978dd36c-f534-4af6-9d2e-78ba20707559",
   "metadata": {},
   "source": [
    "### 4. Diff in residents"
   ]
  },
  {
   "cell_type": "code",
   "execution_count": null,
   "id": "2d6fec47-162d-4fd4-ba40-d64918633a8f",
   "metadata": {},
   "outputs": [],
   "source": [
    "residents_diff = (residents_this_month - residents_month_X_minus_1.residents).rename(\n",
    "    \"residents_diff\"\n",
    ")\n",
    "residents_diff"
   ]
  },
  {
   "cell_type": "markdown",
   "id": "9a45e3c6-f581-4ab5-ad8d-da14276b8183",
   "metadata": {},
   "source": [
    "### 5. Concat all info needed for derived indicators"
   ]
  },
  {
   "cell_type": "code",
   "execution_count": null,
   "id": "7b22688c-e4ad-455e-99bc-a9a4b1e346a4",
   "metadata": {},
   "outputs": [],
   "source": [
    "residents_intermediate_components = pd.concat(\n",
    "    [\n",
    "        residents_this_month,\n",
    "        residents_this_month_LB,\n",
    "        residents_this_month_UB,\n",
    "        net_arrived,\n",
    "        net_arrived_LB,\n",
    "        net_arrived_UB,\n",
    "        departed,\n",
    "        departed_LB,\n",
    "        departed_UB,\n",
    "        arrived,\n",
    "        arrived_LB,\n",
    "        arrived_UB,\n",
    "        admin3km2,\n",
    "        residents_past_6_months,\n",
    "        residents_past_6_months_UB,\n",
    "        residents_past_6_months_LB,\n",
    "        residents_month_1,\n",
    "        residents_month_1_UB,\n",
    "        residents_month_1_LB,\n",
    "        residents_diff,\n",
    "    ],\n",
    "    axis=1,\n",
    ")\n",
    "\n",
    "residents_intermediate_components"
   ]
  },
  {
   "cell_type": "markdown",
   "id": "557b61eb-d01e-44ca-821c-1aef1fabd8d3",
   "metadata": {},
   "source": [
    "# Derived indicators"
   ]
  },
  {
   "cell_type": "markdown",
   "id": "08737aeb-0d4d-4d18-8c3a-c095bb89b702",
   "metadata": {},
   "source": [
    "### a. Pct change with ref and b. diff with ref"
   ]
  },
  {
   "cell_type": "code",
   "execution_count": null,
   "id": "43cccb3c-bdbb-4898-9bde-7e6a67c51011",
   "metadata": {},
   "outputs": [],
   "source": [
    "def pct_change_with_ref(\n",
    "    residents_intermediate_components,\n",
    "    residents_column,\n",
    "    residents_month_1_column,\n",
    "    suffix=\"\",\n",
    "):\n",
    "    return (\n",
    "        (\n",
    "            100\n",
    "            * (\n",
    "                residents_intermediate_components[residents_column]\n",
    "                - residents_intermediate_components[residents_month_1_column]\n",
    "            )\n",
    "            / residents_intermediate_components[residents_month_1_column]\n",
    "        )\n",
    "        .rename(\"residents_pctchangewithref\" + suffix)\n",
    "        .to_frame()\n",
    "    )\n",
    "\n",
    "\n",
    "def diff_with_ref(\n",
    "    residents_intermediate_components,\n",
    "    residents_column,\n",
    "    residents_month_1_column,\n",
    "    suffix=\"\",\n",
    "):\n",
    "    return (\n",
    "        (\n",
    "            residents_intermediate_components[residents_column]\n",
    "            - residents_intermediate_components[residents_month_1_column]\n",
    "        )\n",
    "        .rename(\"residents_diffwithref\" + suffix)\n",
    "        .to_frame()\n",
    "    )\n",
    "\n",
    "\n",
    "pct_change_w_ref = pct_change_with_ref(\n",
    "    residents_intermediate_components, \"residents\", \"residents_month_1\"\n",
    ")\n",
    "pct_change_w_ref_UB = pct_change_with_ref(\n",
    "    residents_intermediate_components,\n",
    "    \"residents_UB\",\n",
    "    \"residents_month_1_UB\",\n",
    "    suffix=\"_UB\",\n",
    ")\n",
    "pct_change_w_ref_LB = pct_change_with_ref(\n",
    "    residents_intermediate_components,\n",
    "    \"residents_LB\",\n",
    "    \"residents_month_1_LB\",\n",
    "    suffix=\"_LB\",\n",
    ")\n",
    "\n",
    "diff_w_ref = diff_with_ref(\n",
    "    residents_intermediate_components, \"residents\", \"residents_month_1\"\n",
    ")\n",
    "diff_w_ref_UB = diff_with_ref(\n",
    "    residents_intermediate_components,\n",
    "    \"residents_UB\",\n",
    "    \"residents_month_1_UB\",\n",
    "    suffix=\"_UB\",\n",
    ")\n",
    "diff_w_ref_LB = diff_with_ref(\n",
    "    residents_intermediate_components,\n",
    "    \"residents_LB\",\n",
    "    \"residents_month_1_LB\",\n",
    "    suffix=\"_LB\",\n",
    ")"
   ]
  },
  {
   "cell_type": "code",
   "execution_count": null,
   "id": "69c81230-9b2e-4b0c-bcd9-b936f0c3b2a7",
   "metadata": {},
   "outputs": [],
   "source": [
    "residents_intermediate_components = (\n",
    "    residents_intermediate_components.merge(\n",
    "        diff_w_ref, left_index=True, right_index=True\n",
    "    )\n",
    "    .merge(diff_w_ref_UB, left_index=True, right_index=True)\n",
    "    .merge(diff_w_ref_LB, left_index=True, right_index=True)\n",
    "    .merge(pct_change_w_ref, left_index=True, right_index=True)\n",
    "    .merge(pct_change_w_ref_UB, left_index=True, right_index=True)\n",
    "    .merge(pct_change_w_ref_LB, left_index=True, right_index=True)\n",
    ")\n",
    "residents_intermediate_components"
   ]
  },
  {
   "cell_type": "markdown",
   "id": "4009df5e-dbe5-4527-9848-939f776c7b64",
   "metadata": {},
   "source": [
    "### b. Residents per km2"
   ]
  },
  {
   "cell_type": "code",
   "execution_count": null,
   "id": "9bf76b55-fad2-4dea-adaa-c9af78d4b235",
   "metadata": {},
   "outputs": [],
   "source": [
    "def residents_p_adm3(residents_intermediate_components, residents_column, suffix=\"\"):\n",
    "    return (\n",
    "        (\n",
    "            residents_intermediate_components[residents_column]\n",
    "            / residents_intermediate_components.admin3_area_km2\n",
    "        )\n",
    "        .rename(\"residents_perKm2\" + suffix)\n",
    "        .to_frame()\n",
    "    )\n",
    "\n",
    "\n",
    "residents_per_adm3 = residents_p_adm3(residents_intermediate_components, \"residents\")\n",
    "residents_per_adm3_UB = residents_p_adm3(\n",
    "    residents_intermediate_components, \"residents_UB\", suffix=\"_UB\"\n",
    ")\n",
    "residents_per_adm3_LB = residents_p_adm3(\n",
    "    residents_intermediate_components, \"residents_LB\", suffix=\"_LB\"\n",
    ")"
   ]
  },
  {
   "cell_type": "code",
   "execution_count": null,
   "id": "7886c44d-3b0f-41d1-a62d-2bebfd6a7723",
   "metadata": {},
   "outputs": [],
   "source": [
    "residents_intermediate_components = (\n",
    "    residents_intermediate_components.merge(\n",
    "        residents_per_adm3, left_index=True, right_index=True\n",
    "    )\n",
    "    .merge(residents_per_adm3_LB, left_index=True, right_index=True)\n",
    "    .merge(residents_per_adm3_UB, left_index=True, right_index=True)\n",
    ")\n",
    "residents_intermediate_components"
   ]
  },
  {
   "cell_type": "markdown",
   "id": "21d30b50-096e-4a0b-9b80-614933de9c5c",
   "metadata": {},
   "source": [
    "### c. Abnormality"
   ]
  },
  {
   "cell_type": "code",
   "execution_count": null,
   "id": "6ff17579-5bdf-41d1-9fb9-3dcc8da4050e",
   "metadata": {},
   "outputs": [],
   "source": [
    "def _mad(baseline: np.array):\n",
    "    return np.median(np.abs(baseline - np.median(baseline)))\n",
    "\n",
    "\n",
    "def _meanad(baseline: np.array):\n",
    "    return np.mean(np.abs(baseline - np.mean(baseline)))\n",
    "\n",
    "\n",
    "def _mzscore(value, mad, meanad, median):\n",
    "    if mad != 0:\n",
    "        abnormality = (value - median) / (1.4826 * mad)\n",
    "    elif meanad != 0:\n",
    "        abnormality = (value - median) / (1.253314 * meanad)\n",
    "    else:\n",
    "        abnormality = np.nan\n",
    "    return abnormality"
   ]
  },
  {
   "cell_type": "code",
   "execution_count": null,
   "id": "51550d27-613e-4d62-8743-c8e309fdb09c",
   "metadata": {},
   "outputs": [],
   "source": [
    "def abnorm(\n",
    "    residents_intermediate_components,\n",
    "    residents_column,\n",
    "    residents_past_6_months_column,\n",
    "    suffix=\"\",\n",
    "):\n",
    "    residents_mad = (\n",
    "        residents_intermediate_components[residents_past_6_months_column]\n",
    "        .apply(lambda z: _mad(z))\n",
    "        .rename(\"mad\")\n",
    "    )\n",
    "    residents_meanad = (\n",
    "        residents_intermediate_components[residents_past_6_months_column]\n",
    "        .apply(lambda z: _meanad(z))\n",
    "        .rename(\"meanad\")\n",
    "    )\n",
    "    residents_median = (\n",
    "        residents_intermediate_components[residents_past_6_months_column]\n",
    "        .apply(lambda z: np.median(z))\n",
    "        .rename(\"median\")\n",
    "    )\n",
    "\n",
    "    abnormality_intermediate = pd.concat(\n",
    "        [\n",
    "            residents_mad,\n",
    "            residents_meanad,\n",
    "            residents_median,\n",
    "            residents_intermediate_components[residents_column],\n",
    "        ],\n",
    "        axis=1,\n",
    "    )\n",
    "\n",
    "    abnormality = (\n",
    "        abnormality_intermediate.apply(\n",
    "            lambda z: _mzscore(z[residents_column], z[\"mad\"], z[\"meanad\"], z[\"median\"]),\n",
    "            axis=1,\n",
    "        )\n",
    "        .rename(\"abnormality\" + suffix)\n",
    "        .to_frame()\n",
    "    )\n",
    "    return abnormality\n",
    "\n",
    "\n",
    "abnormality = abnorm(\n",
    "    residents_intermediate_components, \"residents_diff\", \"residents_past_6_months\"\n",
    ")\n",
    "abnormality"
   ]
  },
  {
   "cell_type": "code",
   "execution_count": null,
   "id": "5fba4e41-6ffe-4a9a-a6ad-63590502d33c",
   "metadata": {},
   "outputs": [],
   "source": [
    "abnormality_UB = abnorm(\n",
    "    residents_intermediate_components,\n",
    "    \"residents_UB\",\n",
    "    \"residents_past_6_months_UB\",\n",
    "    suffix=\"_UB\",\n",
    ")\n",
    "abnormality_UB"
   ]
  },
  {
   "cell_type": "code",
   "execution_count": null,
   "id": "ec53437a-6e05-4a08-ae0a-966e5939421a",
   "metadata": {},
   "outputs": [],
   "source": [
    "abnormality_LB = abnorm(\n",
    "    residents_intermediate_components,\n",
    "    \"residents_LB\",\n",
    "    \"residents_past_6_months_LB\",\n",
    "    suffix=\"_LB\",\n",
    ")\n",
    "abnormality_LB"
   ]
  },
  {
   "cell_type": "code",
   "execution_count": null,
   "id": "d7925529-b9e3-47de-8f35-60d417723c8b",
   "metadata": {},
   "outputs": [],
   "source": [
    "residents_intermediate_components = (\n",
    "    residents_intermediate_components.merge(\n",
    "        abnormality, left_index=True, right_index=True\n",
    "    )\n",
    "    .merge(abnormality_UB, left_index=True, right_index=True)\n",
    "    .merge(abnormality_LB, left_index=True, right_index=True)\n",
    ")\n",
    "residents_intermediate_components"
   ]
  },
  {
   "cell_type": "markdown",
   "id": "1c6dffbf-bbba-4548-ae62-3254dbf42740",
   "metadata": {},
   "source": [
    "### Add all derived indicators to intermediary dataframe to then clean later"
   ]
  },
  {
   "cell_type": "code",
   "execution_count": null,
   "id": "fa84c25a-4547-4d9d-aeaa-87ad40a3e73f",
   "metadata": {},
   "outputs": [],
   "source": [
    "residents_intermediate_components.index = (\n",
    "    residents_intermediate_components.index.rename(\"pcod\")\n",
    ")\n",
    "\n",
    "residents_intermediate_components = residents_intermediate_components.reset_index()"
   ]
  },
  {
   "cell_type": "code",
   "execution_count": null,
   "id": "a4265290-c41f-4c0b-aa18-d99d4c3111a9",
   "metadata": {},
   "outputs": [],
   "source": [
    "residents_intermediate_components"
   ]
  },
  {
   "cell_type": "markdown",
   "id": "266dcae5-7fdf-4cf0-8b51-54f18569ccac",
   "metadata": {},
   "source": [
    "# Residents release indicators\n",
    "\n",
    "Leaving these unredacted as we need to refer to them in the next month. **Redaction needs to be performed at the ingestion stage.**"
   ]
  },
  {
   "cell_type": "code",
   "execution_count": null,
   "id": "3ce1fe3a-94d4-4e0f-a5a8-c1cc28f54e01",
   "metadata": {},
   "outputs": [],
   "source": [
    "month_residents_indicators_all = residents_intermediate_components[\n",
    "    [\n",
    "        \"pcod\",\n",
    "        \"residents\",\n",
    "        \"residents_perKm2\",\n",
    "        \"arrived\",\n",
    "        \"departed\",\n",
    "        \"net_arrived\",\n",
    "        \"residents_diffwithref\",\n",
    "        \"abnormality\",\n",
    "        \"residents_pctchangewithref\",\n",
    "        \"residents_LB\",\n",
    "        \"residents_perKm2_LB\",\n",
    "        \"arrived_LB\",\n",
    "        \"departed_LB\",\n",
    "        \"net_arrived_LB\",\n",
    "        \"residents_diffwithref_LB\",\n",
    "        \"abnormality_LB\",\n",
    "        \"residents_pctchangewithref_LB\",\n",
    "        \"residents_UB\",\n",
    "        \"residents_perKm2_UB\",\n",
    "        \"arrived_UB\",\n",
    "        \"departed_UB\",\n",
    "        \"net_arrived_UB\",\n",
    "        \"residents_diffwithref_UB\",\n",
    "        \"abnormality_UB\",\n",
    "        \"residents_pctchangewithref_UB\",\n",
    "    ]\n",
    "].rename(columns={\"net_arrived\": \"delta_arrived\"})\n",
    "month_residents_indicators_all.insert(0, \"date\", data_date)\n",
    "\n",
    "month_residents_indicators_all.to_csv(\n",
    "    Path(indicators_dir) / f'residents_indicators_{data_date.strftime(\"%Y-%m\")}.csv',\n",
    "    index=False,\n",
    ")"
   ]
  },
  {
   "cell_type": "code",
   "execution_count": null,
   "id": "ee6f3643-af05-47e8-b886-6a9b5c2dfa5a",
   "metadata": {},
   "outputs": [],
   "source": [
    "month_residents_indicators_all"
   ]
  },
  {
   "cell_type": "markdown",
   "id": "0aca2d6a",
   "metadata": {},
   "source": [
    "### Write CDR subscriber population to a separate file\n",
    "\n",
    "This is required later for redaction"
   ]
  },
  {
   "cell_type": "code",
   "execution_count": null,
   "id": "aa48dcaf",
   "metadata": {},
   "outputs": [],
   "source": [
    "home_locs_month_X = pd.read_csv(\n",
    "    Path(aggregates_dir)\n",
    "    / \"residence_relocations\"\n",
    "    / f\"residence_relocations_aggregates_{data_date.date()}\"\n",
    "    / f\"resident-counts_{data_date.date()}.csv\"\n",
    ").dropna()\n",
    "\n",
    "home_locs_month_X.to_csv(Path(dagrun_data_dir) / \"cdr_subscriber_population.csv\")"
   ]
  },
  {
   "cell_type": "markdown",
   "id": "95814933-8e40-461d-b234-2f31e338624a",
   "metadata": {},
   "source": [
    "\n",
    "---\n",
    "\n"
   ]
  },
  {
   "cell_type": "markdown",
   "id": "e20d55cf-dd71-41df-9340-efeddf861cfd",
   "metadata": {},
   "source": [
    "# Relocations"
   ]
  },
  {
   "cell_type": "markdown",
   "id": "4a1ba1d6-6bb9-4e92-a10a-8fc314df9eed",
   "metadata": {},
   "source": [
    "# Data needed to compute indicators\n",
    "\n",
    "NB: some slight reuse of code here modified to be relocations specific, some refactoring could be done to make this notebook a lot cleaner"
   ]
  },
  {
   "cell_type": "markdown",
   "id": "99d0aee0-8b5c-473d-ae6f-c7fe0d211540",
   "metadata": {},
   "source": [
    "#### Relocation aggregates at month _X_"
   ]
  },
  {
   "cell_type": "code",
   "execution_count": null,
   "id": "d0a2cedb-206f-4bf6-be62-d91e8ca2bc2a",
   "metadata": {},
   "outputs": [],
   "source": [
    "# Note: using redacted aggregates this time\n",
    "home_reloc_month_X = pd.read_csv(\n",
    "    Path(aggregates_dir)\n",
    "    / \"residence_relocations\"\n",
    "    / f\"residence_relocations_aggregates_{data_date.date()}\"\n",
    "    / f\"home-relocations_full-outer_from{(data_date-pd.DateOffset(months=1)).date()}_to{data_date.date()}.csv\"\n",
    ")\n",
    "home_reloc_month_X"
   ]
  },
  {
   "cell_type": "code",
   "execution_count": null,
   "id": "99f3c3a1-e90c-4e92-8f28-0d360174d11b",
   "metadata": {},
   "outputs": [],
   "source": [
    "home_reloc_month_X = home_reloc_month_X[\n",
    "    home_reloc_month_X[agg_spatial_unit_from] != home_reloc_month_X[agg_spatial_unit_to]\n",
    "].dropna()\n",
    "home_reloc_month_X"
   ]
  },
  {
   "cell_type": "markdown",
   "id": "6064b731-c407-4e8a-8a63-26d60344db2b",
   "metadata": {},
   "source": [
    "#### Scaling factors"
   ]
  },
  {
   "cell_type": "code",
   "execution_count": null,
   "id": "305ead6c-c93b-41a2-a671-53fec507bcdb",
   "metadata": {},
   "outputs": [],
   "source": [
    "scaling_factors = pd.read_csv(scaling_factors_bilateral_pairs_filepath)"
   ]
  },
  {
   "cell_type": "markdown",
   "id": "16311bc1-2c18-43d6-8bdc-ea61f5545a8f",
   "metadata": {},
   "source": [
    "#### Adjusted relocation aggregates at month _X_"
   ]
  },
  {
   "cell_type": "code",
   "execution_count": null,
   "id": "2c077144-45ed-4cc3-a9a3-34452ca6650f",
   "metadata": {},
   "outputs": [],
   "source": [
    "def adjust_flows(df):\n",
    "    adjusted_home_reloc_month_X = df.merge(\n",
    "        scaling_factors,\n",
    "        left_on=[agg_spatial_unit_from, agg_spatial_unit_to],\n",
    "        right_on=[sf_spatial_unit_from, sf_spatial_unit_to],\n",
    "    ).assign(\n",
    "        relocations=lambda z: np.ceil(z.value * z.combi_movbi_tot),\n",
    "        relocations_LB=lambda z: np.ceil(z.value * z.combi_movbi_tot_LB),\n",
    "        relocations_UB=lambda z: np.ceil(z.value * z.combi_movbi_tot_UB),\n",
    "    )\n",
    "\n",
    "    adjusted_home_reloc_month_X = adjusted_home_reloc_month_X[\n",
    "        [\n",
    "            agg_spatial_unit_from,\n",
    "            agg_spatial_unit_to,\n",
    "            \"relocations\",\n",
    "            \"relocations_LB\",\n",
    "            \"relocations_UB\",\n",
    "        ]\n",
    "    ]\n",
    "\n",
    "    adjusted_home_reloc_month_X[\"date\"] = data_date\n",
    "\n",
    "    return adjusted_home_reloc_month_X\n",
    "\n",
    "\n",
    "adjusted_home_reloc_month_X = adjust_flows(home_reloc_month_X)\n",
    "adjusted_home_reloc_month_X"
   ]
  },
  {
   "cell_type": "markdown",
   "id": "481b8a62-dd3f-4188-a851-9d43ace71a8f",
   "metadata": {},
   "source": [
    "#### Scaled relocations at month _1_\n",
    "\n",
    "used for baseline, if we are looking at the second month of data the file we are looking for has not yet been created, so lets make an empty df with the correct columns"
   ]
  },
  {
   "cell_type": "code",
   "execution_count": null,
   "id": "49c30b98-2499-4e17-828a-2c607b65db70",
   "metadata": {},
   "outputs": [],
   "source": [
    "try:\n",
    "    relocations_month_1_all = pd.read_csv(\n",
    "        Path(indicators_dir)\n",
    "        / f'relocations_indicators_{(relocations_reference_date - pd.DateOffset(months = 1)).strftime(\"%Y-%m\")}to{relocations_reference_date.strftime(\"%Y-%m\")}.csv'\n",
    "    )\n",
    "    relocations_month_1_all = relocations_month_1_all[\n",
    "        [\n",
    "            agg_spatial_unit_from,\n",
    "            agg_spatial_unit_to,\n",
    "            \"relocations\",\n",
    "            \"relocations_UB\",\n",
    "            \"relocations_LB\",\n",
    "        ]\n",
    "    ]\n",
    "except:  # if the prior month does not exist, we need to make it from this month, diff and pct change will be 0/0 (really should be in a seperate init notebook)\n",
    "    relocations_month_1_all = adjusted_home_reloc_month_X[\n",
    "        [\n",
    "            agg_spatial_unit_from,\n",
    "            agg_spatial_unit_to,\n",
    "            \"relocations\",\n",
    "            \"relocations_LB\",\n",
    "            \"relocations_UB\",\n",
    "        ]\n",
    "    ]\n",
    "relocations_month_1_all"
   ]
  },
  {
   "cell_type": "code",
   "execution_count": null,
   "id": "e780ca3f-8d35-4822-ae06-2e2597999d3d",
   "metadata": {},
   "outputs": [],
   "source": [
    "relocations_month_1_UB = relocations_month_1_all.set_index(\n",
    "    [agg_spatial_unit_from, agg_spatial_unit_to]\n",
    ").relocations_UB.rename(\"relocations_month_1_UB\")\n",
    "relocations_month_1_UB"
   ]
  },
  {
   "cell_type": "code",
   "execution_count": null,
   "id": "ee0827f7-8fbe-4982-9ac5-19f569266426",
   "metadata": {},
   "outputs": [],
   "source": [
    "relocations_month_1_LB = relocations_month_1_all.set_index(\n",
    "    [agg_spatial_unit_from, agg_spatial_unit_to]\n",
    ").relocations_LB.rename(\"relocations_month_1_LB\")\n",
    "relocations_month_1_LB"
   ]
  },
  {
   "cell_type": "code",
   "execution_count": null,
   "id": "5502744b-79cd-4513-ba13-ac183b63bf8f",
   "metadata": {},
   "outputs": [],
   "source": [
    "relocations_month_1 = relocations_month_1_all.set_index(\n",
    "    [agg_spatial_unit_from, agg_spatial_unit_to]\n",
    ").relocations.rename(\"relocations_month_1\")\n",
    "relocations_month_1"
   ]
  },
  {
   "cell_type": "markdown",
   "id": "848565dc-a788-4889-aa87-43b566eb5b6a",
   "metadata": {},
   "source": [
    "#### Scaled relocations at month X-12, ..., X-6, X-5, X-4, X-3, X-2, X-1"
   ]
  },
  {
   "cell_type": "code",
   "execution_count": null,
   "id": "2420a3af-859b-4318-99d4-94624b1e65b6",
   "metadata": {},
   "outputs": [],
   "source": [
    "def last_6_mo(relocations_column, suffix=\"\"):\n",
    "    last_6_mo = [\n",
    "        [\n",
    "            (data_date - pd.DateOffset(months=i + 1)).date().strftime(\"%Y-%m\"),\n",
    "            (data_date - pd.DateOffset(months=i)).date().strftime(\"%Y-%m\"),\n",
    "        ]\n",
    "        for i in range(12, 0, -1)\n",
    "    ]\n",
    "\n",
    "    ref_periods = 0\n",
    "    month_dfs = []\n",
    "    for year_month in last_6_mo:\n",
    "        with Path(indicators_dir) / (\n",
    "            f\"relocations_indicators_{year_month[0]}to{year_month[1]}.csv\"\n",
    "        ) as filepath:\n",
    "            if filepath.is_file():\n",
    "                print(f\"reading {filepath}\")\n",
    "                ref_periods += 1\n",
    "                month_dfs.append(pd.read_csv(filepath))\n",
    "    print(f\"{ref_periods} months of data for abnormality calculations\")\n",
    "\n",
    "    if ref_periods > 0:\n",
    "        relocations_past_6_months = pd.concat(month_dfs)\n",
    "\n",
    "        relocations_past_6_months = (\n",
    "            relocations_past_6_months[\n",
    "                [agg_spatial_unit_from, agg_spatial_unit_to, relocations_column]\n",
    "            ]\n",
    "            .groupby([agg_spatial_unit_from, agg_spatial_unit_to])[relocations_column]\n",
    "            .apply(lambda x: np.array(x))\n",
    "        )\n",
    "    else:\n",
    "        relocations_past_6_months = (\n",
    "            adjusted_home_reloc_month_X.reset_index()[\n",
    "                [agg_spatial_unit_from, agg_spatial_unit_to, relocations_column]\n",
    "            ]\n",
    "            .groupby([agg_spatial_unit_from, agg_spatial_unit_to])[relocations_column]\n",
    "            .apply(lambda x: np.array(x))\n",
    "        )\n",
    "\n",
    "    # need to pad the arrays so we include days with no data as 0's (as this will affect the abnormality)\n",
    "    prev_6_mo_max_months = relocations_past_6_months.apply(len).max()\n",
    "\n",
    "    relocations_past_6_months = relocations_past_6_months.apply(\n",
    "        lambda z: np.pad(z, (0, prev_6_mo_max_months - len(z)), \"constant\")\n",
    "    )\n",
    "\n",
    "    return relocations_past_6_months.rename(\"relocations_past_6_months\" + suffix)\n",
    "\n",
    "\n",
    "relocations_past_6_months_UB = last_6_mo(\"relocations_UB\", suffix=\"_UB\")\n",
    "relocations_past_6_months_LB = last_6_mo(\"relocations_LB\", suffix=\"_LB\")\n",
    "relocations_past_6_months = last_6_mo(\"relocations\")"
   ]
  },
  {
   "cell_type": "code",
   "execution_count": null,
   "id": "c2515716-b1de-446d-88a0-633744045f8e",
   "metadata": {},
   "outputs": [],
   "source": [
    "relocations_past_6_months"
   ]
  },
  {
   "cell_type": "code",
   "execution_count": null,
   "id": "ab661914-b194-4e14-aa66-64589454b44c",
   "metadata": {},
   "outputs": [],
   "source": [
    "adjusted_home_reloc_month_X = (\n",
    "    adjusted_home_reloc_month_X.set_index([\"pcod_from\", \"pcod_to\"])\n",
    "    .merge(\n",
    "        relocations_month_1.to_frame(), left_index=True, right_index=True, how=\"left\"\n",
    "    )\n",
    "    .merge(\n",
    "        relocations_month_1_UB.to_frame(), left_index=True, right_index=True, how=\"left\"\n",
    "    )\n",
    "    .merge(\n",
    "        relocations_month_1_LB.to_frame(), left_index=True, right_index=True, how=\"left\"\n",
    "    )\n",
    "    .merge(\n",
    "        relocations_past_6_months.to_frame(),\n",
    "        left_index=True,\n",
    "        right_index=True,\n",
    "        how=\"left\",\n",
    "    )\n",
    "    .merge(\n",
    "        relocations_past_6_months_LB.to_frame(),\n",
    "        left_index=True,\n",
    "        right_index=True,\n",
    "        how=\"left\",\n",
    "    )\n",
    "    .merge(\n",
    "        relocations_past_6_months_UB.to_frame(),\n",
    "        left_index=True,\n",
    "        right_index=True,\n",
    "        how=\"left\",\n",
    "    )\n",
    ")\n",
    "adjusted_home_reloc_month_X"
   ]
  },
  {
   "cell_type": "markdown",
   "id": "09ab51a5-9dcc-45a5-a8c0-1c0fcb06242a",
   "metadata": {},
   "source": [
    "# Base indicators\n",
    "\n",
    "We have these from the scaling process:"
   ]
  },
  {
   "cell_type": "code",
   "execution_count": null,
   "id": "58fe02cc-9c55-4671-9683-87366ad51a4d",
   "metadata": {},
   "outputs": [],
   "source": [
    "adjusted_home_reloc_month_X[[\"relocations\", \"relocations_LB\", \"relocations_UB\"]]"
   ]
  },
  {
   "cell_type": "markdown",
   "id": "9ff94519-1837-4115-8c8e-34bcf18b2471",
   "metadata": {},
   "source": [
    "# Derived indicators"
   ]
  },
  {
   "cell_type": "markdown",
   "id": "05bea062-954c-447b-b6e3-4e2f0cc83b21",
   "metadata": {},
   "source": [
    "### pct_change_w_ref"
   ]
  },
  {
   "cell_type": "code",
   "execution_count": null,
   "id": "5a575f82-da16-4fdb-93cc-ed88a063f713",
   "metadata": {},
   "outputs": [],
   "source": [
    "def pct_change_with_ref(\n",
    "    adjusted_home_reloc_month_X,\n",
    "    relocations_column,\n",
    "    relocations_month_1_column,\n",
    "    suffix=\"\",\n",
    "):\n",
    "    return (\n",
    "        (\n",
    "            100\n",
    "            * (\n",
    "                adjusted_home_reloc_month_X[relocations_column]\n",
    "                - adjusted_home_reloc_month_X[relocations_month_1_column]\n",
    "            )\n",
    "            / adjusted_home_reloc_month_X[relocations_month_1_column]\n",
    "        )\n",
    "        .rename(\"relocations_pctchangewithref\" + suffix)\n",
    "        .to_frame()\n",
    "    )\n",
    "\n",
    "\n",
    "pct_change_w_ref = pct_change_with_ref(\n",
    "    adjusted_home_reloc_month_X, \"relocations\", \"relocations_month_1\"\n",
    ")\n",
    "pct_change_w_ref_UB = pct_change_with_ref(\n",
    "    adjusted_home_reloc_month_X,\n",
    "    \"relocations_UB\",\n",
    "    \"relocations_month_1_UB\",\n",
    "    suffix=\"_UB\",\n",
    ")\n",
    "pct_change_w_ref_LB = pct_change_with_ref(\n",
    "    adjusted_home_reloc_month_X,\n",
    "    \"relocations_LB\",\n",
    "    \"relocations_month_1_LB\",\n",
    "    suffix=\"_LB\",\n",
    ")"
   ]
  },
  {
   "cell_type": "markdown",
   "id": "2a79a581-a069-48bc-a29d-8e08d63d2629",
   "metadata": {},
   "source": [
    "### diff_w_ref"
   ]
  },
  {
   "cell_type": "code",
   "execution_count": null,
   "id": "0a1f5fc7-553c-4bda-99df-d0e3f1a03642",
   "metadata": {},
   "outputs": [],
   "source": [
    "def diff_with_ref(\n",
    "    adjusted_home_reloc_month_X,\n",
    "    relocations_column,\n",
    "    relocations_month_1_column,\n",
    "    suffix=\"\",\n",
    "):\n",
    "    return (\n",
    "        (\n",
    "            adjusted_home_reloc_month_X[relocations_column]\n",
    "            - adjusted_home_reloc_month_X[relocations_month_1_column]\n",
    "        )\n",
    "        .rename(\"relocations_diffwithref\" + suffix)\n",
    "        .to_frame()\n",
    "    )\n",
    "\n",
    "\n",
    "diff_w_ref = diff_with_ref(\n",
    "    adjusted_home_reloc_month_X, \"relocations\", \"relocations_month_1\"\n",
    ")\n",
    "diff_w_ref_UB = diff_with_ref(\n",
    "    adjusted_home_reloc_month_X,\n",
    "    \"relocations_UB\",\n",
    "    \"relocations_month_1_UB\",\n",
    "    suffix=\"_UB\",\n",
    ")\n",
    "diff_w_ref_LB = diff_with_ref(\n",
    "    adjusted_home_reloc_month_X,\n",
    "    \"relocations_LB\",\n",
    "    \"relocations_month_1_LB\",\n",
    "    suffix=\"_LB\",\n",
    ")"
   ]
  },
  {
   "cell_type": "markdown",
   "id": "66830dff-96fc-43c7-a106-a1c38d6be24b",
   "metadata": {},
   "source": [
    "### abnormality"
   ]
  },
  {
   "cell_type": "code",
   "execution_count": null,
   "id": "1cb719bc-6384-4303-bfcf-d42c0a7abc92",
   "metadata": {},
   "outputs": [],
   "source": [
    "def abnorm(\n",
    "    adjusted_home_reloc_month_X,\n",
    "    relocations_column,\n",
    "    relocations_past_6_months_column,\n",
    "    suffix=\"\",\n",
    "):\n",
    "    residents_mad = (\n",
    "        adjusted_home_reloc_month_X[relocations_past_6_months_column]\n",
    "        .apply(lambda z: _mad(z))\n",
    "        .rename(\"mad\")\n",
    "    )\n",
    "    residents_meanad = (\n",
    "        adjusted_home_reloc_month_X[relocations_past_6_months_column]\n",
    "        .apply(lambda z: _meanad(z))\n",
    "        .rename(\"meanad\")\n",
    "    )\n",
    "    residents_median = (\n",
    "        adjusted_home_reloc_month_X[relocations_past_6_months_column]\n",
    "        .apply(lambda z: np.median(z))\n",
    "        .rename(\"median\")\n",
    "    )\n",
    "\n",
    "    abnormality_intermediate = pd.concat(\n",
    "        [\n",
    "            residents_mad,\n",
    "            residents_meanad,\n",
    "            residents_median,\n",
    "            adjusted_home_reloc_month_X[relocations_column],\n",
    "        ],\n",
    "        axis=1,\n",
    "    )\n",
    "\n",
    "    abnormality = (\n",
    "        abnormality_intermediate.apply(\n",
    "            lambda z: _mzscore(\n",
    "                z[relocations_column], z[\"mad\"], z[\"meanad\"], z[\"median\"]\n",
    "            ),\n",
    "            axis=1,\n",
    "        )\n",
    "        .rename(\"abnormality\" + suffix)\n",
    "        .to_frame()\n",
    "    )\n",
    "    return abnormality\n",
    "\n",
    "\n",
    "abnormality = abnorm(\n",
    "    adjusted_home_reloc_month_X, \"relocations\", \"relocations_past_6_months\"\n",
    ")\n",
    "abnormality_UB = abnorm(\n",
    "    adjusted_home_reloc_month_X,\n",
    "    \"relocations_UB\",\n",
    "    \"relocations_past_6_months_UB\",\n",
    "    suffix=\"_UB\",\n",
    ")\n",
    "abnormality_LB = abnorm(\n",
    "    adjusted_home_reloc_month_X,\n",
    "    \"relocations_LB\",\n",
    "    \"relocations_past_6_months_LB\",\n",
    "    suffix=\"_LB\",\n",
    ")"
   ]
  },
  {
   "cell_type": "code",
   "execution_count": null,
   "id": "8b3e4743-27b5-4c8d-9c9b-3a5ee5da6f9d",
   "metadata": {},
   "outputs": [],
   "source": [
    "relocations_intermediate_indicators = (\n",
    "    adjusted_home_reloc_month_X.merge(abnormality, left_index=True, right_index=True)\n",
    "    .merge(abnormality_UB, left_index=True, right_index=True)\n",
    "    .merge(abnormality_LB, left_index=True, right_index=True)\n",
    "    .merge(diff_w_ref, left_index=True, right_index=True)\n",
    "    .merge(diff_w_ref_LB, left_index=True, right_index=True)\n",
    "    .merge(diff_w_ref_UB, left_index=True, right_index=True)\n",
    "    .merge(pct_change_w_ref, left_index=True, right_index=True)\n",
    "    .merge(pct_change_w_ref_LB, left_index=True, right_index=True)\n",
    "    .merge(pct_change_w_ref_UB, left_index=True, right_index=True)\n",
    ")"
   ]
  },
  {
   "cell_type": "markdown",
   "id": "7c010086-dc73-4e38-be51-68c2a0ccefc5",
   "metadata": {},
   "source": [
    "# Putting it together (relocations)"
   ]
  },
  {
   "cell_type": "code",
   "execution_count": null,
   "id": "5c2590f4-78f9-46ff-9005-1c6d684ff2b0",
   "metadata": {},
   "outputs": [],
   "source": [
    "full_fp = (\n",
    "    Path(indicators_dir)\n",
    "    / f'relocations_indicators_{(data_date - pd.DateOffset(months = 1)).strftime(\"%Y-%m\")}to{data_date.strftime(\"%Y-%m\")}.csv'\n",
    ")"
   ]
  },
  {
   "cell_type": "code",
   "execution_count": null,
   "id": "d4af34d0-01f5-4a8c-8b5c-06b1db63ab7e",
   "metadata": {},
   "outputs": [],
   "source": [
    "relocations_all_indicators = relocations_intermediate_indicators.reset_index()[\n",
    "    [\n",
    "        \"pcod_from\",\n",
    "        \"pcod_to\",\n",
    "        \"relocations\",\n",
    "        \"relocations_diffwithref\",\n",
    "        \"abnormality\",\n",
    "        \"relocations_pctchangewithref\",\n",
    "        \"relocations_UB\",\n",
    "        \"relocations_diffwithref_UB\",\n",
    "        \"abnormality_UB\",\n",
    "        \"relocations_pctchangewithref_UB\",\n",
    "        \"relocations_LB\",\n",
    "        \"relocations_diffwithref_LB\",\n",
    "        \"abnormality_LB\",\n",
    "        \"relocations_pctchangewithref_LB\",\n",
    "    ]\n",
    "]\n",
    "\n",
    "relocations_all_indicators.insert(0, \"date\", data_date)\n",
    "\n",
    "relocations_all_indicators.to_csv(full_fp, index=False)"
   ]
  },
  {
   "cell_type": "code",
   "execution_count": null,
   "id": "25618eea-7b19-438c-9b27-391d70245d3c",
   "metadata": {},
   "outputs": [],
   "source": []
  }
 ],
 "metadata": {
  "kernelspec": {
   "display_name": "Python 3 (ipykernel)",
   "language": "python",
   "name": "python3"
  },
  "language_info": {
   "codemirror_mode": {
    "name": "ipython",
    "version": 3
   },
   "file_extension": ".py",
   "mimetype": "text/x-python",
   "name": "python",
   "nbconvert_exporter": "python",
   "pygments_lexer": "ipython3",
   "version": "3.12.5"
  }
 },
 "nbformat": 4,
 "nbformat_minor": 5
}
