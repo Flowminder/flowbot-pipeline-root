{
 "cells": [
  {
   "cell_type": "markdown",
   "id": "d239c91b-ad87-48eb-93f3-2cc6f0dcb218",
   "metadata": {},
   "source": [
    "# Initialise the production of indicators\n",
    "\n",
    "The first month of indicators are different from the others as they use nonCDR derived estimates of population."
   ]
  },
  {
   "cell_type": "markdown",
   "id": "c42113cd-c5d5-4039-b5b5-c3da34a7f832",
   "metadata": {},
   "source": [
    "## Imports"
   ]
  },
  {
   "cell_type": "code",
   "execution_count": null,
   "id": "970ee4ba-8157-403b-8241-ff0ee749c10e",
   "metadata": {},
   "outputs": [],
   "source": [
    "from pathlib import Path\n",
    "import pandas as pd\n",
    "import geopandas as gpd"
   ]
  },
  {
   "cell_type": "code",
   "execution_count": null,
   "id": "52f204de-9f3d-4be3-88a0-84cccab99443",
   "metadata": {
    "tags": [
     "parameters"
    ]
   },
   "outputs": [],
   "source": [
    "shared_data_dir = \"data\"  # donde esta la data that can change\n",
    "static_dir = \"static\"  # wo ist das static data\n",
    "dagrun_data_dir = \"data\"  # unique writable directory for this DAG run\n",
    "\n",
    "# Filenames of auxiliary files in static_dir\n",
    "geometry_filename = \"admin3.geojson\"  # file with shapefile for residents per km2\n",
    "geometry_admin3_col = \"ADM3_PCOD\"\n",
    "base_pop_and_growth_rates_filename = (\n",
    "    \"haiti_growth_rates_fixed.csv\"  # file descibing base pop and growth rates\n",
    ")\n",
    "base_pop_column = \"est_pop_2020_01\"  # Column in above containing population estimates\n",
    "\n",
    "aggregates_subdir = (\n",
    "    \"aggregates\"  # where art the aggregate data (within shared_data_dir)\n",
    ")\n",
    "indicators_subdir = \"indicators\"  # where art the indicators (within shared_data_dir)\n",
    "\n",
    "metric_crs_epsg = (\n",
    "    32618  # country specific, what projection to use for metre coordinates\n",
    ")\n",
    "residents_reference_date = \"2020-01-01\"  # platform specific, what is the first date which we show on platform, which we can't show many derived indicators"
   ]
  },
  {
   "cell_type": "code",
   "execution_count": null,
   "id": "ad514ec3",
   "metadata": {},
   "outputs": [],
   "source": [
    "# Convert date parameters to datetime objects here because papermill date parameters will be strings\n",
    "residents_reference_date = pd.to_datetime(residents_reference_date)\n",
    "\n",
    "# Get full path to data subdirs\n",
    "aggregates_dir = Path(shared_data_dir) / aggregates_subdir\n",
    "indicators_dir = Path(shared_data_dir) / indicators_subdir\n",
    "\n",
    "# Get full path to static files\n",
    "geometry_filepath = Path(dagrun_data_dir) / geometry_filename\n",
    "base_pop_and_growth_rates_filepath = (\n",
    "    Path(static_dir) / base_pop_and_growth_rates_filename\n",
    ")"
   ]
  },
  {
   "cell_type": "markdown",
   "id": "56b8f174-b729-4024-82be-50cce4154f6f",
   "metadata": {},
   "source": [
    "#### What static data is being used?"
   ]
  },
  {
   "cell_type": "code",
   "execution_count": null,
   "id": "76dcbae0-b815-4f18-8106-13bbf0cefbe4",
   "metadata": {},
   "outputs": [],
   "source": [
    "print(base_pop_and_growth_rates_filename)"
   ]
  },
  {
   "cell_type": "markdown",
   "id": "39a0c114-881f-4431-bab2-37bc03c12725",
   "metadata": {},
   "source": [
    "#### What are we doing with this notebook?"
   ]
  },
  {
   "cell_type": "code",
   "execution_count": null,
   "id": "de2eb77a-94c5-4eed-bcce-6a1ee42bc995",
   "metadata": {},
   "outputs": [],
   "source": [
    "f'Computing first set of residents indicators for the month of {residents_reference_date.date().strftime(\"%Y-%m\")}.'"
   ]
  },
  {
   "cell_type": "markdown",
   "id": "1a6df9ca-f136-4222-841f-e7c9dc407456",
   "metadata": {},
   "source": [
    "## Residents indicators for month 1"
   ]
  },
  {
   "cell_type": "markdown",
   "id": "0d3c4fda-eb15-440e-bd9d-8c9fd6a28c7e",
   "metadata": {},
   "source": [
    "##### Residents"
   ]
  },
  {
   "cell_type": "markdown",
   "id": "a9b54211-4ed5-4583-9d24-28e4f072fa3a",
   "metadata": {},
   "source": [
    "Grabs the static pop estimates, computed residents per km2, leaves remaining NaN or 0 depending derived indicator."
   ]
  },
  {
   "cell_type": "code",
   "execution_count": null,
   "id": "3cf2e312",
   "metadata": {},
   "outputs": [],
   "source": [
    "# As this is the first month, create the indicators subdir if it doesn't already exist\n",
    "indicators_dir.mkdir(exist_ok=True, parents=True)"
   ]
  },
  {
   "cell_type": "code",
   "execution_count": null,
   "id": "b47a6fa1-f263-4bcd-868c-9b3ae2c3b668",
   "metadata": {},
   "outputs": [],
   "source": [
    "base_pop = pd.read_csv(base_pop_and_growth_rates_filepath)\n",
    "base_pop = base_pop[[\"pcod\", base_pop_column]]\n",
    "base_pop.columns = [\"pcod\", \"residents\"]\n",
    "\n",
    "admin3km2 = (\n",
    "    gpd.read_file(geometry_filepath)\n",
    "    .set_index(geometry_admin3_col)\n",
    "    .to_crs(epsg=metric_crs_epsg)\n",
    "    .area\n",
    "    * 1e-6\n",
    ")\n",
    "admin3km2.name = \"admin3_area_km2\"\n",
    "\n",
    "base_pop = base_pop.merge(admin3km2, left_on=\"pcod\", right_index=True)\n",
    "\n",
    "# In month 1, we can only compute the population per km2 from the base population estimates.\n",
    "month1_residents_indicators = pd.DataFrame(\n",
    "    columns=[\n",
    "        \"date\",\n",
    "        \"pcod\",\n",
    "        \"residents\",\n",
    "        \"residents_perKm2\",\n",
    "        \"arrived\",\n",
    "        \"departed\",\n",
    "        \"delta_arrived\",\n",
    "        \"residents_diffwithref\",\n",
    "        \"abnormality\",\n",
    "        \"residents_pctchangewithref\",\n",
    "        \"residents_UB\",\n",
    "        \"residents_perKm2_UB\",\n",
    "        \"arrived_UB\",\n",
    "        \"departed_UB\",\n",
    "        \"delta_arrived_UB\",\n",
    "        \"residents_diffwithref_UB\",\n",
    "        \"abnormality_UB\",\n",
    "        \"residents_pctchangewithref_UB\",\n",
    "        \"residents_LB\",\n",
    "        \"residents_perKm2_LB\",\n",
    "        \"arrived_LB\",\n",
    "        \"departed_LB\",\n",
    "        \"delta_arrived_LB\",\n",
    "        \"residents_diffwithref_LB\",\n",
    "        \"abnormality_LB\",\n",
    "        \"residents_pctchangewithref_LB\",\n",
    "    ]\n",
    ")\n",
    "\n",
    "\n",
    "month1_residents_indicators[\"pcod\"] = base_pop[\"pcod\"]\n",
    "month1_residents_indicators[\"date\"] = residents_reference_date\n",
    "\n",
    "# Regular estimates\n",
    "month1_residents_indicators[\"residents\"] = base_pop[\"residents\"]\n",
    "month1_residents_indicators[\"residents_perKm2\"] = (\n",
    "    base_pop[\"residents\"] / base_pop[\"admin3_area_km2\"]\n",
    ")\n",
    "month1_residents_indicators[\"residents_diffwithref\"] = 0\n",
    "month1_residents_indicators[\"residents_pctchangewithref\"] = 0\n",
    "\n",
    "# Lower bound\n",
    "month1_residents_indicators[\"residents_LB\"] = base_pop[\"residents\"]\n",
    "month1_residents_indicators[\"residents_perKm2_LB\"] = (\n",
    "    base_pop[\"residents\"] / base_pop[\"admin3_area_km2\"]\n",
    ")\n",
    "month1_residents_indicators[\"residents_diffwithref_LB\"] = 0\n",
    "month1_residents_indicators[\"residents_pctchangewithref_LB\"] = 0\n",
    "\n",
    "# Upper bound\n",
    "month1_residents_indicators[\"residents_UB\"] = base_pop[\"residents\"]\n",
    "month1_residents_indicators[\"residents_perKm2_UB\"] = (\n",
    "    base_pop[\"residents\"] / base_pop[\"admin3_area_km2\"]\n",
    ")\n",
    "month1_residents_indicators[\"residents_diffwithref_UB\"] = 0\n",
    "month1_residents_indicators[\"residents_pctchangewithref_UB\"] = 0\n",
    "\n",
    "month1_residents_indicators.to_csv(\n",
    "    Path(indicators_dir)\n",
    "    / f'residents_indicators_{residents_reference_date.date().strftime(\"%Y-%m\")}.csv',\n",
    "    index=False,\n",
    ")"
   ]
  },
  {
   "cell_type": "markdown",
   "id": "9b3a0413",
   "metadata": {},
   "source": [
    "## Additional metrics for redaction\n",
    "\n",
    "Calculate additional per-admin3 metrics to be used later when redacting the indicators"
   ]
  },
  {
   "cell_type": "markdown",
   "id": "70f9555d",
   "metadata": {},
   "source": [
    "### CDR subscriber resident counts"
   ]
  },
  {
   "cell_type": "code",
   "execution_count": null,
   "id": "21de74ea",
   "metadata": {},
   "outputs": [],
   "source": [
    "home_locs_month_X = pd.read_csv(\n",
    "    Path(aggregates_dir)\n",
    "    / \"residence_relocations\"\n",
    "    / f\"residence_relocations_aggregates_{residents_reference_date.date()}\"\n",
    "    / f\"resident-counts_{residents_reference_date.date()}.csv\"\n",
    ").dropna()\n",
    "\n",
    "home_locs_month_X.to_csv(Path(dagrun_data_dir) / \"cdr_subscriber_population.csv\")"
   ]
  },
  {
   "cell_type": "markdown",
   "id": "e07e8112",
   "metadata": {},
   "source": [
    "### Admin3s with CDR events\n",
    "\n",
    "In this first month, although the residents indicators are not produced using CDR data, we want to only upload indicators for locations which had at least one CDR event during the month (it would be confusing to upload indicators for locations where we have no data coverage). Although we're not producing an aggregate specifically for this, we can calculate it from the daily active cell counts aggregates (using these ones, rather than subscriber/event counts, because there's no issue with redaction)."
   ]
  },
  {
   "cell_type": "code",
   "execution_count": null,
   "id": "51d93653",
   "metadata": {},
   "outputs": [],
   "source": [
    "month_X_dates = pd.date_range(\n",
    "    residents_reference_date,\n",
    "    residents_reference_date + pd.DateOffset(months=1) - pd.DateOffset(days=1),\n",
    ")\n",
    "\n",
    "active_cell_counts_days = []\n",
    "\n",
    "for date in month_X_dates:\n",
    "    filepath = (\n",
    "        Path(aggregates_dir)\n",
    "        / \"presence_trips\"\n",
    "        / f\"presence_trips_aggregates_{residents_reference_date.date()}\"\n",
    "        / f\"active-cell-counts_{date.date()}.csv\"\n",
    "    )\n",
    "    if Path(filepath).is_file():\n",
    "        active_cell_counts_day_X = pd.read_csv(filepath)\n",
    "        active_cell_counts_days.append(active_cell_counts_day_X)\n",
    "\n",
    "active_cell_counts_month_X = pd.concat(active_cell_counts_days)"
   ]
  },
  {
   "cell_type": "code",
   "execution_count": null,
   "id": "a3a2d312",
   "metadata": {},
   "outputs": [],
   "source": [
    "admin3_active_days = (\n",
    "    active_cell_counts_month_X.groupby(\"pcod\")\n",
    "    .size()\n",
    "    .rename(\"days_with_activity\")\n",
    "    .reset_index()\n",
    ")\n",
    "\n",
    "admin3_active_days.to_csv(Path(dagrun_data_dir) / \"admin3s_with_cdr_activity.csv\")"
   ]
  }
 ],
 "metadata": {
  "kernelspec": {
   "display_name": "Python 3 (ipykernel)",
   "language": "python",
   "name": "python3"
  },
  "language_info": {
   "codemirror_mode": {
    "name": "ipython",
    "version": 3
   },
   "file_extension": ".py",
   "mimetype": "text/x-python",
   "name": "python",
   "nbconvert_exporter": "python",
   "pygments_lexer": "ipython3",
   "version": "3.12.5"
  }
 },
 "nbformat": 4,
 "nbformat_minor": 5
}
