{
 "cells": [
  {
   "cell_type": "code",
   "execution_count": null,
   "id": "8e9537df-d51c-4118-aac0-53afee2acb8b",
   "metadata": {},
   "outputs": [],
   "source": [
    "%load_ext lab_black"
   ]
  },
  {
   "cell_type": "code",
   "execution_count": null,
   "id": "9f1a2531-0444-47c6-8718-840ef60db91e",
   "metadata": {},
   "outputs": [],
   "source": [
    "from pathlib import Path\n",
    "\n",
    "import numpy as np\n",
    "import pandas as pd\n",
    "import geopandas as gpd"
   ]
  },
  {
   "cell_type": "markdown",
   "id": "b0a720e7-6a3c-46ee-a926-d584a0096439",
   "metadata": {},
   "source": [
    "# Parameters"
   ]
  },
  {
   "cell_type": "code",
   "execution_count": null,
   "id": "ca9c3f32-c1b4-4d42-bea2-7e0979f507e3",
   "metadata": {
    "tags": [
     "parameters"
    ]
   },
   "outputs": [],
   "source": [
    "data_date = \"2020-06-01\"  # the month that we are computing -> still ran once, but will do all days in the month (i.e. data_date = '2022-04-01' will process the whole of Apr)\n",
    "\n",
    "presence_reference_date = \"2020-01-01\"\n",
    "trips_reference_date = \"2020-01-01\"\n",
    "\n",
    "shared_data_dir = \"data\"  # donde esta la data that can change\n",
    "static_dir = \"static\"  # wo ist das static data\n",
    "\n",
    "aggregates_subdir = (\n",
    "    \"aggregates\"  # where art the aggregate data (within shared_data_dir)\n",
    ")\n",
    "indicators_subdir = \"indicators\"  # where art the indicators (within shared_data_dir)\n",
    "\n",
    "# Filenames of auxiliary files in static_dir\n",
    "geometry_filename = \"admin3.geojson\"  # file with shapefile for residents per km2\n",
    "base_pop_and_growth_rates_filename = \"Haiti population base data 1 Jan 2020 by admin3 v2.0 narrow.csv\"  # file descibing base pop and growth rates\n",
    "x_scaling_factors_filename = \"pop_scaling_x_factors.csv\"\n",
    "\n",
    "base_pop_column = \"est_pop_2020_01\"\n",
    "pop_and_gr_spatial_unit = \"pcod\"\n",
    "x_scaling_factors_spatial_unit = \"pcod\"\n",
    "\n",
    "metric_crs_epsg = (\n",
    "    32618  # country specific, what projection to use for metre coordinates\n",
    ")"
   ]
  },
  {
   "cell_type": "code",
   "execution_count": null,
   "id": "cc31297c",
   "metadata": {},
   "outputs": [],
   "source": [
    "# Convert date parameters to datetime objects here because papermill date parameters will be strings\n",
    "data_date = pd.to_datetime(data_date)\n",
    "presence_reference_date = pd.to_datetime(presence_reference_date)\n",
    "trips_reference_date = pd.to_datetime(trips_reference_date)\n",
    "\n",
    "# Get full path to data subdirs\n",
    "aggregates_dir = Path(shared_data_dir) / aggregates_subdir\n",
    "indicators_dir = Path(shared_data_dir) / indicators_subdir\n",
    "\n",
    "# Get full path to static files\n",
    "geometry_filepath = Path(static_dir) / geometry_filename\n",
    "base_pop_and_growth_rates_filepath = (\n",
    "    Path(static_dir) / base_pop_and_growth_rates_filename\n",
    ")\n",
    "x_scaling_factors_filepath = Path(static_dir) / x_scaling_factors_filename"
   ]
  },
  {
   "cell_type": "markdown",
   "id": "2b22fff7-f265-4865-bf0e-6c884865cf76",
   "metadata": {},
   "source": [
    "# What this notebook is doing"
   ]
  },
  {
   "cell_type": "code",
   "execution_count": null,
   "id": "40faee5a-37a8-4c53-9749-a0069eeb1d61",
   "metadata": {},
   "outputs": [],
   "source": [
    "\"Creating trips + presence indicators for the month of\""
   ]
  },
  {
   "cell_type": "code",
   "execution_count": null,
   "id": "cf5424b1-2712-4459-91fa-ab7f07482264",
   "metadata": {},
   "outputs": [],
   "source": [
    "data_date"
   ]
  },
  {
   "cell_type": "code",
   "execution_count": null,
   "id": "5f3db5ec-d5da-44ca-9237-136df396adfc",
   "metadata": {},
   "outputs": [],
   "source": [
    "\"using \""
   ]
  },
  {
   "cell_type": "code",
   "execution_count": null,
   "id": "66453adf-4b31-4d09-807f-7eca247bd87c",
   "metadata": {},
   "outputs": [],
   "source": [
    "base_pop_and_growth_rates_filename"
   ]
  },
  {
   "cell_type": "code",
   "execution_count": null,
   "id": "ac37f2e2-c7cb-4671-8a5d-d679d67a89a2",
   "metadata": {},
   "outputs": [],
   "source": [
    "x_scaling_factors_filename"
   ]
  },
  {
   "cell_type": "markdown",
   "id": "bf845d31-927e-4646-8399-c42162efce39",
   "metadata": {},
   "source": [
    "\n",
    "---\n",
    "\n",
    "First get everything we need to scale indicators:"
   ]
  },
  {
   "cell_type": "markdown",
   "id": "578216f6-81b8-4b7a-8141-3356aeee7095",
   "metadata": {},
   "source": [
    "## Data required for base indicators x factor scaling"
   ]
  },
  {
   "cell_type": "code",
   "execution_count": null,
   "id": "7c1a9adc",
   "metadata": {},
   "outputs": [],
   "source": [
    "# Create the indicators subdir if it doesn't already exist\n",
    "indicators_dir.mkdir(exist_ok=True, parents=True)"
   ]
  },
  {
   "cell_type": "code",
   "execution_count": null,
   "id": "973e67de-3254-4a8f-b57b-e08cfd76b191",
   "metadata": {},
   "outputs": [],
   "source": [
    "month_1_dates = pd.date_range(\n",
    "    presence_reference_date,\n",
    "    presence_reference_date + pd.DateOffset(months=1) - pd.DateOffset(days=1),\n",
    ")\n",
    "\n",
    "month_X_dates = pd.date_range(\n",
    "    data_date, data_date + pd.DateOffset(months=1) - pd.DateOffset(days=1)\n",
    ")"
   ]
  },
  {
   "cell_type": "markdown",
   "id": "3aa11945-9145-4bfe-a82f-51432bcfb73b",
   "metadata": {},
   "source": [
    "### presence_subscribers_month_1"
   ]
  },
  {
   "cell_type": "code",
   "execution_count": null,
   "id": "0aa0916f-f43f-410d-ae42-22c7edc33135",
   "metadata": {},
   "outputs": [],
   "source": [
    "presence_days = []\n",
    "\n",
    "for date in month_1_dates:\n",
    "    with (\n",
    "        Path(aggregates_dir)\n",
    "        / \"presence_trips\"\n",
    "        / f\"presence_trips_aggregates_{presence_reference_date.date()}\"\n",
    "        / f\"subscriber-counts_nosubset_{date.date()}.csv\"\n",
    "    ) as filepath:\n",
    "        if Path(filepath).is_file():\n",
    "            presence_day_X = pd.read_csv(\n",
    "                Path(aggregates_dir)\n",
    "                / \"presence_trips\"\n",
    "                / f\"presence_trips_aggregates_{presence_reference_date.date()}\"\n",
    "                / f\"subscriber-counts_nosubset_{date.date()}.csv\"\n",
    "            )\n",
    "            presence_day_X[\"date\"] = date.date()\n",
    "\n",
    "            presence_days.append(presence_day_X)"
   ]
  },
  {
   "cell_type": "code",
   "execution_count": null,
   "id": "cc1e1505-d98e-4255-89e3-0c70ce0f91b8",
   "metadata": {},
   "outputs": [],
   "source": [
    "presence_subs_month_1 = pd.concat(presence_days)"
   ]
  },
  {
   "cell_type": "markdown",
   "id": "dd8a0f28-458c-4876-ab07-7593bcf14208",
   "metadata": {},
   "source": [
    "### presence median ref period"
   ]
  },
  {
   "cell_type": "code",
   "execution_count": null,
   "id": "e226fce6-1bc3-40a9-bf47-7afdbfa5d8b3",
   "metadata": {},
   "outputs": [],
   "source": [
    "# Ensure each pcod present has a value for every date (filling missing/redacted counts with 0)\n",
    "presence_subs_month_1_filled = (\n",
    "    presence_subs_month_1.set_index([\"pcod\", \"date\"])\n",
    "    .unstack(fill_value=0)\n",
    "    .stack()\n",
    "    .reset_index()\n",
    ")\n",
    "\n",
    "presence_median_per_loc = (\n",
    "    presence_subs_month_1_filled.groupby(\"pcod\").value.median().reset_index()\n",
    ")\n",
    "\n",
    "# Drop pcods with median = 0 (we can't use these for scaling)\n",
    "presence_median_per_loc = presence_median_per_loc.loc[\n",
    "    presence_median_per_loc[\"value\"] > 0\n",
    "]"
   ]
  },
  {
   "cell_type": "markdown",
   "id": "3fbac6b7-f421-491a-90d3-7d38e326f74b",
   "metadata": {},
   "source": [
    "### presence_subscribers_month_X"
   ]
  },
  {
   "cell_type": "code",
   "execution_count": null,
   "id": "ecea442d-70a2-4b0f-ad75-c524fcd2fcce",
   "metadata": {},
   "outputs": [],
   "source": [
    "presence_days = []\n",
    "\n",
    "for date in month_X_dates:\n",
    "    with (\n",
    "        Path(aggregates_dir)\n",
    "        / \"presence_trips\"\n",
    "        / f\"presence_trips_aggregates_{data_date.date()}\"\n",
    "        / f\"subscriber-counts_nosubset_{date.date()}.csv\"\n",
    "    ) as filepath:\n",
    "        if Path(filepath).is_file():\n",
    "            presence_day_X = pd.read_csv(\n",
    "                Path(aggregates_dir)\n",
    "                / \"presence_trips\"\n",
    "                / f\"presence_trips_aggregates_{data_date.date()}\"\n",
    "                / f\"subscriber-counts_nosubset_{date.date()}.csv\"\n",
    "            )\n",
    "            presence_day_X[\"date\"] = date.date()\n",
    "\n",
    "            presence_days.append(presence_day_X)"
   ]
  },
  {
   "cell_type": "code",
   "execution_count": null,
   "id": "1cd99cce-3777-4921-ac03-6f28372fb648",
   "metadata": {},
   "outputs": [],
   "source": [
    "presence_subs_month_X = pd.concat(presence_days)"
   ]
  },
  {
   "cell_type": "markdown",
   "id": "b7b48277-dc49-4f3d-81ae-cd3d36f6bd58",
   "metadata": {},
   "source": [
    "### trips_subscribers_month_1"
   ]
  },
  {
   "cell_type": "code",
   "execution_count": null,
   "id": "093f957c-b02c-4d1f-9982-0bb8b593c8c8",
   "metadata": {},
   "outputs": [],
   "source": [
    "trips_days = []\n",
    "\n",
    "for date in month_1_dates:\n",
    "    with (\n",
    "        Path(aggregates_dir)\n",
    "        / \"presence_trips\"\n",
    "        / f\"presence_trips_aggregates_{presence_reference_date.date()}\"\n",
    "        / f\"consecutive-trips_nosubset_{date.date()}.csv\"\n",
    "    ) as filepath:\n",
    "        if Path(filepath).is_file():\n",
    "            trips_day_X = pd.read_csv(\n",
    "                Path(aggregates_dir)\n",
    "                / \"presence_trips\"\n",
    "                / f\"presence_trips_aggregates_{presence_reference_date.date()}\"\n",
    "                / f\"consecutive-trips_nosubset_{date.date()}.csv\"\n",
    "            )\n",
    "            trips_day_X[\"date\"] = date.date()\n",
    "\n",
    "            trips_days.append(trips_day_X)"
   ]
  },
  {
   "cell_type": "code",
   "execution_count": null,
   "id": "49be3821-1c16-41f2-a1e9-75b3f6c90823",
   "metadata": {},
   "outputs": [],
   "source": [
    "trips_subs_month_1 = pd.concat(trips_days)"
   ]
  },
  {
   "cell_type": "markdown",
   "id": "f64b4d19-dacd-47a6-8ab6-89c233873196",
   "metadata": {},
   "source": [
    "### trips_median_ref_period"
   ]
  },
  {
   "cell_type": "code",
   "execution_count": null,
   "id": "42f394d6-2cf2-4d8f-9332-ccfe6d6dfabc",
   "metadata": {},
   "outputs": [],
   "source": [
    "# Ensure each pair of pcods present has a value for every date (filling missing/redacted counts with 0)\n",
    "trips_subs_month_1_filled = (\n",
    "    trips_subs_month_1.set_index([\"pcod_from\", \"pcod_to\", \"date\"])\n",
    "    .unstack(fill_value=0)\n",
    "    .stack()\n",
    "    .reset_index()\n",
    ")\n",
    "\n",
    "trips_median_per_flow = (\n",
    "    trips_subs_month_1_filled.groupby([\"pcod_from\", \"pcod_to\"])\n",
    "    .value.median()\n",
    "    .reset_index()\n",
    ")\n",
    "\n",
    "# Drop flows with median = 0 (we can't use these for scaling)\n",
    "trips_median_per_flow = trips_median_per_flow.loc[trips_median_per_flow[\"value\"] > 0]"
   ]
  },
  {
   "cell_type": "markdown",
   "id": "3fdbcb00-2f9a-4a18-85db-5325c8e10077",
   "metadata": {},
   "source": [
    "### Trips subscribers month X "
   ]
  },
  {
   "cell_type": "code",
   "execution_count": null,
   "id": "2b94bd6e-f5a8-4e5b-8d4f-5189f3653165",
   "metadata": {},
   "outputs": [],
   "source": [
    "trips_days = []\n",
    "\n",
    "for date in month_X_dates:\n",
    "    with (\n",
    "        Path(aggregates_dir)\n",
    "        / \"presence_trips\"\n",
    "        / f\"presence_trips_aggregates_{data_date.date()}\"\n",
    "        / f\"consecutive-trips_nosubset_{date.date()}.csv\"\n",
    "    ) as filepath:\n",
    "        if Path(filepath).is_file():\n",
    "            trips_day_X = pd.read_csv(\n",
    "                Path(aggregates_dir)\n",
    "                / \"presence_trips\"\n",
    "                / f\"presence_trips_aggregates_{data_date.date()}\"\n",
    "                / f\"consecutive-trips_nosubset_{date.date()}.csv\"\n",
    "            )\n",
    "            trips_day_X[\"date\"] = date.date()\n",
    "\n",
    "            trips_days.append(trips_day_X)"
   ]
  },
  {
   "cell_type": "code",
   "execution_count": null,
   "id": "0511ccd9-273d-4092-91cc-b2113dd9874d",
   "metadata": {},
   "outputs": [],
   "source": [
    "trips_subs_month_X = pd.concat(trips_days)"
   ]
  },
  {
   "cell_type": "markdown",
   "id": "21634928-83cf-4a7c-98cd-1c01495133c7",
   "metadata": {},
   "source": [
    "### Static population estimates"
   ]
  },
  {
   "cell_type": "code",
   "execution_count": null,
   "id": "533e08f1-f87d-4b6d-b17b-2f26c984b409",
   "metadata": {},
   "outputs": [],
   "source": [
    "base_pop_and_growth_rates = pd.read_csv(base_pop_and_growth_rates_filepath).set_index(\n",
    "    pop_and_gr_spatial_unit\n",
    ")\n",
    "\n",
    "base_pop = base_pop_and_growth_rates[base_pop_column]"
   ]
  },
  {
   "cell_type": "markdown",
   "id": "408c4a61-d445-4947-a533-a370c0241058",
   "metadata": {},
   "source": [
    "### Scaling X factors"
   ]
  },
  {
   "cell_type": "code",
   "execution_count": null,
   "id": "0c8b312f-cedf-426f-b83e-c06c255f5c46",
   "metadata": {},
   "outputs": [],
   "source": [
    "x_scaling_factors = pd.read_csv(x_scaling_factors_filepath)"
   ]
  },
  {
   "cell_type": "markdown",
   "id": "2969d6a1-dcd3-42cd-a268-68a389db8d36",
   "metadata": {},
   "source": [
    "\n",
    "---\n",
    "\n",
    "Now that we have read everything we need, create scaled base indicators for this month: "
   ]
  },
  {
   "cell_type": "markdown",
   "id": "b28b4dbb-b991-451c-9606-54d09354e854",
   "metadata": {
    "tags": []
   },
   "source": [
    "\n",
    "---\n",
    "\n",
    "# Presence"
   ]
  },
  {
   "cell_type": "markdown",
   "id": "ff4f3fe4-d3d2-4181-b091-8bb77946ae35",
   "metadata": {},
   "source": [
    "## Base indicators"
   ]
  },
  {
   "cell_type": "code",
   "execution_count": null,
   "id": "4b50f7f1-53d0-447a-8390-b78775f43327",
   "metadata": {},
   "outputs": [],
   "source": [
    "presence_month_x_intermediate = (\n",
    "    presence_subs_month_X.merge(\n",
    "        base_pop,\n",
    "        on=\"pcod\",\n",
    "    )\n",
    "    .merge(\n",
    "        x_scaling_factors,\n",
    "        on=\"pcod\",\n",
    "    )\n",
    "    .merge(\n",
    "        presence_median_per_loc,\n",
    "        on=\"pcod\",\n",
    "        suffixes=(\"_presence\", \"_median_presence\"),\n",
    "    )\n",
    ")"
   ]
  },
  {
   "cell_type": "code",
   "execution_count": null,
   "id": "28e967db-e499-42a7-8af2-0279111691df",
   "metadata": {},
   "outputs": [],
   "source": [
    "presence_month_x_intermediate.head()"
   ]
  },
  {
   "cell_type": "code",
   "execution_count": null,
   "id": "9d8d0b8c-e247-4bfd-84c5-8d56d967ce81",
   "metadata": {},
   "outputs": [],
   "source": [
    "presence_month_x_intermediate[\"presence\"] = np.round(\n",
    "    presence_month_x_intermediate[base_pop_column]\n",
    "    + (\n",
    "        presence_month_x_intermediate.scaling_factor\n",
    "        * (\n",
    "            presence_month_x_intermediate[base_pop_column]\n",
    "            / presence_month_x_intermediate.value_median_presence\n",
    "        )\n",
    "        * (\n",
    "            presence_month_x_intermediate.value_presence\n",
    "            - presence_month_x_intermediate.value_median_presence\n",
    "        )\n",
    "    )\n",
    ")"
   ]
  },
  {
   "cell_type": "code",
   "execution_count": null,
   "id": "8fa82a79-a4c7-4421-804a-6ee79150f9f4",
   "metadata": {},
   "outputs": [],
   "source": [
    "presence_base = presence_month_x_intermediate[[\"pcod\", \"date\", \"presence\"]]"
   ]
  },
  {
   "cell_type": "markdown",
   "id": "ed63c279-a777-4274-8579-274907e3bf12",
   "metadata": {},
   "source": [
    "# Trips in / out"
   ]
  },
  {
   "cell_type": "code",
   "execution_count": null,
   "id": "bfa1c05d",
   "metadata": {},
   "outputs": [],
   "source": [
    "# Read in unredacted trips aggregates so we can sum over origins/destinations\n",
    "trips_days_unredacted = []\n",
    "\n",
    "for date in month_X_dates:\n",
    "    with (\n",
    "        Path(aggregates_dir)\n",
    "        / \"presence_trips\"\n",
    "        / f\"presence_trips_aggregates_{data_date.date()}\"\n",
    "        / f\"consecutive-trips_nosubset_{date.date()}_unredacted.csv\"\n",
    "    ) as filepath:\n",
    "        if Path(filepath).is_file():\n",
    "            trips_day_X_unredacted = pd.read_csv(\n",
    "                Path(aggregates_dir)\n",
    "                / \"presence_trips\"\n",
    "                / f\"presence_trips_aggregates_{data_date.date()}\"\n",
    "                / f\"consecutive-trips_nosubset_{date.date()}_unredacted.csv\"\n",
    "            )\n",
    "            trips_day_X_unredacted[\"date\"] = date.date()\n",
    "\n",
    "            trips_days_unredacted.append(trips_day_X_unredacted)"
   ]
  },
  {
   "cell_type": "code",
   "execution_count": null,
   "id": "6d829251",
   "metadata": {},
   "outputs": [],
   "source": [
    "trips_subs_month_X_unredacted = pd.concat(trips_days_unredacted)"
   ]
  },
  {
   "cell_type": "code",
   "execution_count": null,
   "id": "bab73093-0489-4a81-9fa1-94f5d24fcd2a",
   "metadata": {},
   "outputs": [],
   "source": [
    "TRIPS_IN_subs = (\n",
    "    trips_subs_month_X_unredacted[\n",
    "        trips_subs_month_X_unredacted[\"pcod_from\"]\n",
    "        != trips_subs_month_X_unredacted[\"pcod_to\"]\n",
    "    ]\n",
    "    .groupby([\"pcod_to\", \"date\"])\n",
    "    .value.sum()\n",
    "    .reset_index()\n",
    ").rename(columns={\"pcod_to\": \"pcod\"})\n",
    "\n",
    "# Redact after summing\n",
    "TRIPS_IN_subs = TRIPS_IN_subs.loc[TRIPS_IN_subs[\"value\"] > 15]"
   ]
  },
  {
   "cell_type": "code",
   "execution_count": null,
   "id": "daec15c0-3426-42df-a1a0-55b291d6f766",
   "metadata": {},
   "outputs": [],
   "source": [
    "TRIPS_OUT_subs = (\n",
    "    trips_subs_month_X_unredacted[\n",
    "        trips_subs_month_X_unredacted[\"pcod_from\"]\n",
    "        != trips_subs_month_X_unredacted[\"pcod_to\"]\n",
    "    ]\n",
    "    .groupby([\"pcod_from\", \"date\"])\n",
    "    .value.sum()\n",
    "    .reset_index()\n",
    ").rename(columns={\"pcod_from\": \"pcod\"})\n",
    "\n",
    "# Redact after summing\n",
    "TRIPS_OUT_subs = TRIPS_OUT_subs.loc[TRIPS_OUT_subs[\"value\"] > 15]"
   ]
  },
  {
   "cell_type": "code",
   "execution_count": null,
   "id": "b5b2d554-4483-4ff0-817a-62d2654fdc34",
   "metadata": {},
   "outputs": [],
   "source": [
    "TRIPS_IN_subs = (\n",
    "    TRIPS_IN_subs.merge(\n",
    "        base_pop,\n",
    "        on=\"pcod\",\n",
    "    )\n",
    "    .merge(\n",
    "        x_scaling_factors,\n",
    "        on=\"pcod\",\n",
    "    )\n",
    "    .merge(\n",
    "        presence_median_per_loc,\n",
    "        on=\"pcod\",\n",
    "        suffixes=(\"_trips\", \"_median_presence\"),\n",
    "    )\n",
    ")"
   ]
  },
  {
   "cell_type": "code",
   "execution_count": null,
   "id": "3c0e03ba-b85c-4824-b80b-a6c3c9332c50",
   "metadata": {},
   "outputs": [],
   "source": [
    "TRIPS_OUT_subs = (\n",
    "    TRIPS_OUT_subs.merge(\n",
    "        base_pop,\n",
    "        on=\"pcod\",\n",
    "    )\n",
    "    .merge(\n",
    "        x_scaling_factors,\n",
    "        on=\"pcod\",\n",
    "    )\n",
    "    .merge(\n",
    "        presence_median_per_loc,\n",
    "        on=\"pcod\",\n",
    "        suffixes=(\"_trips\", \"_median_presence\"),\n",
    "    )\n",
    ")"
   ]
  },
  {
   "cell_type": "code",
   "execution_count": null,
   "id": "ca7b3f4a-fd70-462e-a346-c23f28eb3c7d",
   "metadata": {},
   "outputs": [],
   "source": [
    "TRIPS_IN_people = (\n",
    "    TRIPS_IN_subs.scaling_factor\n",
    "    * (TRIPS_IN_subs[base_pop_column] / TRIPS_IN_subs.value_median_presence)\n",
    "    * TRIPS_IN_subs.value_trips\n",
    ")"
   ]
  },
  {
   "cell_type": "code",
   "execution_count": null,
   "id": "52f4c2c1-c0c2-4486-aa13-346633ee3930",
   "metadata": {},
   "outputs": [],
   "source": [
    "TRIPS_OUT_people = (\n",
    "    TRIPS_OUT_subs.scaling_factor\n",
    "    * (TRIPS_OUT_subs[base_pop_column] / TRIPS_OUT_subs.value_median_presence)\n",
    "    * TRIPS_OUT_subs.value_trips\n",
    ")"
   ]
  },
  {
   "cell_type": "markdown",
   "id": "ba331632-149e-4f4a-b9f5-0e7390d97c82",
   "metadata": {},
   "source": [
    "# Trips"
   ]
  },
  {
   "cell_type": "markdown",
   "id": "422cdadd-28c3-46b0-bc2e-6a07cc76c0c1",
   "metadata": {},
   "source": [
    "## Base indicators"
   ]
  },
  {
   "cell_type": "code",
   "execution_count": null,
   "id": "7833841a-aa30-474d-8cf5-e74630fd8148",
   "metadata": {},
   "outputs": [],
   "source": [
    "trips_month_x_intermediate = (\n",
    "    trips_subs_month_X.merge(\n",
    "        presence_median_per_loc,\n",
    "        left_on=\"pcod_to\",\n",
    "        right_on=\"pcod\",\n",
    "        suffixes=(\"_trips\", \"_median_presence\"),\n",
    "    )\n",
    "    .merge(\n",
    "        x_scaling_factors,\n",
    "        left_on=\"pcod_to\",\n",
    "        right_on=\"pcod\",\n",
    "    )\n",
    "    .merge(\n",
    "        base_pop,\n",
    "        left_on=\"pcod_to\",\n",
    "        right_on=\"pcod\",\n",
    "    )\n",
    ")\n",
    "\n",
    "\n",
    "trips_month_x_intermediate.head()"
   ]
  },
  {
   "cell_type": "code",
   "execution_count": null,
   "id": "78412d9c-1259-48f0-93b3-84f41e505da0",
   "metadata": {},
   "outputs": [],
   "source": [
    "trips_month_x_intermediate[\"travellers\"] = np.round(\n",
    "    trips_month_x_intermediate.scaling_factor\n",
    "    * (\n",
    "        trips_month_x_intermediate[base_pop_column]\n",
    "        / trips_month_x_intermediate.value_median_presence\n",
    "    )\n",
    "    * (trips_month_x_intermediate.value_trips)\n",
    ")"
   ]
  },
  {
   "cell_type": "code",
   "execution_count": null,
   "id": "f5454195-b113-4ac4-be7b-9dcc3bd546e3",
   "metadata": {},
   "outputs": [],
   "source": [
    "trips_base = trips_month_x_intermediate[[\"pcod_from\", \"pcod_to\", \"date\", \"travellers\"]]"
   ]
  },
  {
   "cell_type": "markdown",
   "id": "9d8e9b3e-2c32-42df-8d4d-39ad60d0cb4e",
   "metadata": {},
   "source": [
    "\n",
    "---\n",
    "\n",
    "Now that we have base indicators, create derived indicators for this month: "
   ]
  },
  {
   "cell_type": "markdown",
   "id": "2b50b869-ad6a-44bd-a1d2-384707e83d2f",
   "metadata": {},
   "source": [
    "## Indicators we need for derived indicators"
   ]
  },
  {
   "cell_type": "markdown",
   "id": "7d3ca6e9-97ee-4af3-b4ae-c47f8a2dbdf3",
   "metadata": {},
   "source": [
    "### presence_people_month_1"
   ]
  },
  {
   "cell_type": "code",
   "execution_count": null,
   "id": "811599d8-b6cc-4a89-8160-dd446bbaca39",
   "metadata": {},
   "outputs": [],
   "source": [
    "with Path(\n",
    "    indicators_dir\n",
    ") / f'presence_indicators_{presence_reference_date.strftime(\"%Y-%m\")}.csv' as presence_fp:\n",
    "    if (presence_fp).is_file():\n",
    "        presence_people_month_1 = pd.read_csv(presence_fp)\n",
    "\n",
    "    else:  # if they don't exist we are on month 1\n",
    "        presence_people_month_1 = presence_base.copy()"
   ]
  },
  {
   "cell_type": "code",
   "execution_count": null,
   "id": "f2255d2c-5ed9-4b74-9cc3-35ee56d96ba2",
   "metadata": {},
   "outputs": [],
   "source": [
    "first_presence_people_month_1 = (\n",
    "    presence_people_month_1.sort_values(\"date\").groupby(\"pcod\").presence.first()\n",
    ")"
   ]
  },
  {
   "cell_type": "code",
   "execution_count": null,
   "id": "438663dc-ef93-4c5e-8890-fbfb8421eebe",
   "metadata": {},
   "outputs": [],
   "source": [
    "presence_intermediate = presence_base.merge(\n",
    "    first_presence_people_month_1, on=[\"pcod\"], suffixes=(\"\", \"_month_1_first\")\n",
    ")"
   ]
  },
  {
   "cell_type": "markdown",
   "id": "5f6008ef-b165-4510-8d33-ce51436bf3d2",
   "metadata": {},
   "source": [
    "### trips_people_month_1"
   ]
  },
  {
   "cell_type": "code",
   "execution_count": null,
   "id": "ab4efa5f-4222-419c-af01-bbc0870d1b7f",
   "metadata": {},
   "outputs": [],
   "source": [
    "with Path(\n",
    "    indicators_dir\n",
    ") / f'movements_indicators_{trips_reference_date.strftime(\"%Y-%m\")}.csv' as trips_fp:\n",
    "    if (trips_fp).is_file():\n",
    "        trips_people_month_1 = pd.read_csv(trips_fp)\n",
    "    else:  # if they don't exist we are on month 1\n",
    "        trips_people_month_1 = trips_base.copy()"
   ]
  },
  {
   "cell_type": "code",
   "execution_count": null,
   "id": "18d812e5-354d-442d-b251-2feec9520515",
   "metadata": {},
   "outputs": [],
   "source": [
    "first_trips_people_month_1 = (\n",
    "    trips_people_month_1.sort_values(\"date\")\n",
    "    .groupby([\"pcod_from\", \"pcod_to\"])\n",
    "    .travellers.first()\n",
    ")"
   ]
  },
  {
   "cell_type": "code",
   "execution_count": null,
   "id": "c666230a-f54c-437d-9faa-d5168a5f30a1",
   "metadata": {},
   "outputs": [],
   "source": [
    "trips_intermediate = trips_base.merge(\n",
    "    first_trips_people_month_1,\n",
    "    on=[\"pcod_from\", \"pcod_to\"],\n",
    "    suffixes=(\"\", \"_month_1_median\"),\n",
    ")"
   ]
  },
  {
   "cell_type": "markdown",
   "id": "0935b779-7709-4642-8748-d9a80c89d2bc",
   "metadata": {},
   "source": [
    "### trips_people_month_X-1, X-2, X-3, X-4, X-5, X-6, ... X-12"
   ]
  },
  {
   "cell_type": "code",
   "execution_count": null,
   "id": "0e6f3d8e-6585-457d-8230-a4bfd1e07e70",
   "metadata": {},
   "outputs": [],
   "source": [
    "prev_6_mo = [\n",
    "    (data_date - pd.DateOffset(months=i)).strftime(\"%Y-%m\") for i in range(12, 0, -1)\n",
    "]\n",
    "\n",
    "months_data = 0\n",
    "\n",
    "trips_prev_6_mo_list = []\n",
    "for month in prev_6_mo:\n",
    "    with Path(indicators_dir) / f\"movements_indicators_{month}.csv\" as trips_fp:\n",
    "        if (trips_fp).is_file():\n",
    "            months_data += 1\n",
    "            trips_prev_6_mo_list.append(pd.read_csv(trips_fp))\n",
    "\n",
    "if months_data == 0:\n",
    "    trips_prev_6_mo_list.append(trips_people_month_1)\n",
    "\n",
    "trips_prev_6_mo = (\n",
    "    pd.concat(trips_prev_6_mo_list)\n",
    "    .groupby([\"pcod_from\", \"pcod_to\"])\n",
    "    .travellers.apply(lambda x: np.array(x))\n",
    ")"
   ]
  },
  {
   "cell_type": "code",
   "execution_count": null,
   "id": "25688b0c-f0c4-4db1-8f58-de07ca490c80",
   "metadata": {},
   "outputs": [],
   "source": [
    "# need to pad the arrays so we include days with no data as 0's (as this will affect the abnormality)"
   ]
  },
  {
   "cell_type": "code",
   "execution_count": null,
   "id": "dbb483d4-c818-49e7-894c-3229ee6e937c",
   "metadata": {},
   "outputs": [],
   "source": [
    "trips_prev_6_mo_max_days = trips_prev_6_mo.apply(len).max()"
   ]
  },
  {
   "cell_type": "code",
   "execution_count": null,
   "id": "3871df40-de0f-4dfb-848e-9676e4461620",
   "metadata": {},
   "outputs": [],
   "source": [
    "trips_prev_6_mo = trips_prev_6_mo.apply(\n",
    "    lambda z: np.pad(z, (0, trips_prev_6_mo_max_days - len(z)), \"constant\")\n",
    ")"
   ]
  },
  {
   "cell_type": "code",
   "execution_count": null,
   "id": "a6ced59d-559c-4d46-8e93-a541f70e2e8f",
   "metadata": {},
   "outputs": [],
   "source": [
    "trips_intermediate = trips_intermediate.merge(\n",
    "    trips_prev_6_mo, on=[\"pcod_to\", \"pcod_from\"], suffixes=(\"\", \"_last_6_mo\")\n",
    ")"
   ]
  },
  {
   "cell_type": "markdown",
   "id": "c7f507fa-7b23-402f-aef0-f67b2d4e452f",
   "metadata": {},
   "source": [
    "### presence_people_month_X-1, X-2, X-3, X-4, X-5, X-6, ...,  X-12"
   ]
  },
  {
   "cell_type": "code",
   "execution_count": null,
   "id": "c297d1a3-38e5-4250-9bf1-dfd93000d537",
   "metadata": {},
   "outputs": [],
   "source": [
    "prev_6_mo = [\n",
    "    (data_date - pd.DateOffset(months=i)).strftime(\"%Y-%m\") for i in range(12, 0, -1)\n",
    "]\n",
    "\n",
    "months_data = 0\n",
    "presence_prev_6_mo_list = []\n",
    "for month in prev_6_mo:\n",
    "    with Path(indicators_dir) / f\"presence_indicators_{month}.csv\" as presence_fp:\n",
    "        if (presence_fp).is_file():\n",
    "            months_data += 1\n",
    "            presence_prev_6_mo_list.append(pd.read_csv(presence_fp))\n",
    "\n",
    "if months_data == 0:\n",
    "    presence_prev_6_mo_list.append(presence_people_month_1)\n",
    "\n",
    "presence_prev_6_mo = (\n",
    "    pd.concat(presence_prev_6_mo_list)\n",
    "    .groupby(\"pcod\")\n",
    "    .presence.apply(lambda x: np.array(x))\n",
    ")"
   ]
  },
  {
   "cell_type": "code",
   "execution_count": null,
   "id": "b2e58119-d238-4581-9aa1-ff294d92f134",
   "metadata": {},
   "outputs": [],
   "source": [
    "# need to pad the arrays so we include days with no data as 0's (as this will affect the abnormality)"
   ]
  },
  {
   "cell_type": "code",
   "execution_count": null,
   "id": "b39ec1ab-a0c0-4c92-ae66-3b8499bd2be4",
   "metadata": {},
   "outputs": [],
   "source": [
    "presence_prev_6_mo_max_days = presence_prev_6_mo.apply(len).max()"
   ]
  },
  {
   "cell_type": "code",
   "execution_count": null,
   "id": "c424a415-59a1-40c6-a2cb-daf7730430ea",
   "metadata": {},
   "outputs": [],
   "source": [
    "presence_prev_6_mo = presence_prev_6_mo.apply(\n",
    "    lambda z: np.pad(z, (0, presence_prev_6_mo_max_days - len(z)), \"constant\")\n",
    ")"
   ]
  },
  {
   "cell_type": "code",
   "execution_count": null,
   "id": "6413c511-53e6-40f5-9fad-bee5c547b485",
   "metadata": {},
   "outputs": [],
   "source": [
    "presence_intermediate = presence_intermediate.merge(\n",
    "    presence_prev_6_mo, on=\"pcod\", suffixes=(\"\", \"_last_6_mo\")\n",
    ")"
   ]
  },
  {
   "cell_type": "markdown",
   "id": "33a313fd-1299-42e8-8f65-35551b738f70",
   "metadata": {},
   "source": [
    "### Admin3 sizes"
   ]
  },
  {
   "cell_type": "code",
   "execution_count": null,
   "id": "5f8c2f40-3ee5-4c4f-8368-be9c86957600",
   "metadata": {},
   "outputs": [],
   "source": [
    "admin3km2 = (\n",
    "    gpd.read_file(geometry_filepath)\n",
    "    .set_index(\"ADM3_PCODE\")\n",
    "    .to_crs(epsg=metric_crs_epsg)\n",
    "    .area\n",
    "    * 1e-6\n",
    ")\n",
    "admin3km2.name = \"admin3_area_km2\""
   ]
  },
  {
   "cell_type": "markdown",
   "id": "49572f6c-c25e-4ab2-b73b-cf1aceffffb8",
   "metadata": {},
   "source": [
    "# Derived indicators (functions)"
   ]
  },
  {
   "cell_type": "code",
   "execution_count": null,
   "id": "da604217-7526-4983-b645-9f7fe3e97ce5",
   "metadata": {},
   "outputs": [],
   "source": [
    "def pct_change_with_ref(\n",
    "    df,\n",
    "    column,\n",
    "    month_1_column,\n",
    "    suffix=\"\",\n",
    "):\n",
    "    return (\n",
    "        (100 * (df[column] - df[month_1_column]) / df[month_1_column])\n",
    "        .rename(\"relocations_pctchangewithref\" + suffix)\n",
    "        .to_frame()\n",
    "    )"
   ]
  },
  {
   "cell_type": "code",
   "execution_count": null,
   "id": "80527da7-f247-48c0-902a-d8d4ddbba814",
   "metadata": {},
   "outputs": [],
   "source": [
    "def diff_with_ref(\n",
    "    df,\n",
    "    column,\n",
    "    month_1_column,\n",
    "    suffix=\"\",\n",
    "):\n",
    "    return (\n",
    "        (df[column] - df[month_1_column])\n",
    "        .rename(\"relocations_pctchangewithref\" + suffix)\n",
    "        .to_frame()\n",
    "    )"
   ]
  },
  {
   "cell_type": "code",
   "execution_count": null,
   "id": "6ff17579-5bdf-41d1-9fb9-3dcc8da4050e",
   "metadata": {},
   "outputs": [],
   "source": [
    "def _mad(baseline: np.array):\n",
    "    if (\n",
    "        len(baseline) < 90\n",
    "    ):  # only show abnormality when we have at least 90 days of data\n",
    "        return np.nan\n",
    "    else:\n",
    "        return np.median(np.abs(baseline - np.median(baseline)))\n",
    "\n",
    "\n",
    "def _meanad(baseline: np.array):\n",
    "    if len(baseline) < 90:\n",
    "        return np.nan\n",
    "    else:\n",
    "        return np.mean(np.abs(baseline - np.mean(baseline)))\n",
    "\n",
    "\n",
    "def _mzscore(value, mad, meanad, median):\n",
    "    if mad != 0:\n",
    "        abnormality = (value - median) / (1.4826 * mad)\n",
    "    elif meanad != 0:\n",
    "        abnormality = (value - median) / (1.253314 * meanad)\n",
    "    else:\n",
    "        abnormality = np.nan\n",
    "    return abnormality"
   ]
  },
  {
   "cell_type": "code",
   "execution_count": null,
   "id": "5e27c7b2-850a-4c0e-bd3f-090fbdff22cb",
   "metadata": {},
   "outputs": [],
   "source": [
    "def abnorm(\n",
    "    df,\n",
    "    column,\n",
    "    past_6_months_column,\n",
    "    suffix=\"\",\n",
    "):\n",
    "    mad = df[past_6_months_column].apply(lambda z: _mad(z)).rename(\"mad\")\n",
    "    meanad = df[past_6_months_column].apply(lambda z: _meanad(z)).rename(\"meanad\")\n",
    "    median = df[past_6_months_column].apply(lambda z: np.median(z)).rename(\"median\")\n",
    "\n",
    "    abnormality_intermediate = pd.concat(\n",
    "        [\n",
    "            mad,\n",
    "            meanad,\n",
    "            median,\n",
    "            df[column],\n",
    "        ],\n",
    "        axis=1,\n",
    "    )\n",
    "\n",
    "    abnormality = (\n",
    "        abnormality_intermediate.apply(\n",
    "            lambda z: _mzscore(z[column], z[\"mad\"], z[\"meanad\"], z[\"median\"]),\n",
    "            axis=1,\n",
    "        )\n",
    "        .rename(\"abnormality\" + suffix)\n",
    "        .to_frame()\n",
    "    )\n",
    "    return abnormality"
   ]
  },
  {
   "cell_type": "markdown",
   "id": "3908744a-1f30-403b-9c24-5bdaa1c21045",
   "metadata": {},
   "source": [
    "# Derived indicators (presence)"
   ]
  },
  {
   "cell_type": "code",
   "execution_count": null,
   "id": "9c2157a0-83cd-4945-8203-4f02eceeeec5",
   "metadata": {},
   "outputs": [],
   "source": [
    "#### pctchange"
   ]
  },
  {
   "cell_type": "code",
   "execution_count": null,
   "id": "a7dd2797-7a1a-46f4-91de-3f6b74260981",
   "metadata": {},
   "outputs": [],
   "source": [
    "presence_intermediate[\"presence_pctchangewithref\"] = pct_change_with_ref(\n",
    "    presence_intermediate, \"presence\", \"presence_month_1_first\"\n",
    ")"
   ]
  },
  {
   "cell_type": "code",
   "execution_count": null,
   "id": "8faabc25-45ca-4cc6-bb08-eb0cb021aad4",
   "metadata": {},
   "outputs": [],
   "source": [
    "#### diffwref"
   ]
  },
  {
   "cell_type": "code",
   "execution_count": null,
   "id": "e2b133af-8c8a-46c6-be81-71668c390c7b",
   "metadata": {},
   "outputs": [],
   "source": [
    "presence_intermediate[\"presence_diffwithref\"] = diff_with_ref(\n",
    "    presence_intermediate, \"presence\", \"presence_month_1_first\"\n",
    ")"
   ]
  },
  {
   "cell_type": "code",
   "execution_count": null,
   "id": "1147a321-aa0a-43c1-a61f-08eebe1139f5",
   "metadata": {},
   "outputs": [],
   "source": [
    "#### abnormality"
   ]
  },
  {
   "cell_type": "code",
   "execution_count": null,
   "id": "7171f460-92a1-429c-a43c-c857aac53650",
   "metadata": {},
   "outputs": [],
   "source": [
    "presence_intermediate[\"abnormality\"] = abnorm(\n",
    "    presence_intermediate,\n",
    "    \"presence\",\n",
    "    \"presence_last_6_mo\",\n",
    "    suffix=\"\",\n",
    ")"
   ]
  },
  {
   "cell_type": "code",
   "execution_count": null,
   "id": "cd636dcb-a2b9-428e-be2e-550b3d57a10d",
   "metadata": {},
   "outputs": [],
   "source": [
    "#### trips_in"
   ]
  },
  {
   "cell_type": "code",
   "execution_count": null,
   "id": "1f64edf6-7346-4892-968f-1336582d2ea3",
   "metadata": {},
   "outputs": [],
   "source": [
    "presence_intermediate[\"trips_in\"] = TRIPS_IN_people"
   ]
  },
  {
   "cell_type": "code",
   "execution_count": null,
   "id": "1011d7e7-d6d8-4e6f-99fc-dd517f1cc503",
   "metadata": {},
   "outputs": [],
   "source": [
    "#### trips_out"
   ]
  },
  {
   "cell_type": "code",
   "execution_count": null,
   "id": "9117c849-f865-4f5e-a97d-12fd060ce3d9",
   "metadata": {},
   "outputs": [],
   "source": [
    "presence_intermediate[\"trips_out\"] = TRIPS_OUT_people"
   ]
  },
  {
   "cell_type": "code",
   "execution_count": null,
   "id": "b91f90b7-6793-4ef2-b225-d0409977a94f",
   "metadata": {},
   "outputs": [],
   "source": [
    "#### presence_km2"
   ]
  },
  {
   "cell_type": "code",
   "execution_count": null,
   "id": "d66036ba-cc9a-4786-bf58-35dfc3adcfc0",
   "metadata": {},
   "outputs": [],
   "source": [
    "presence_intermediate = presence_intermediate.merge(\n",
    "    admin3km2, left_on=\"pcod\", right_on=\"ADM3_PCODE\"\n",
    ")\n",
    "presence_intermediate[\"presence_perKm2\"] = (\n",
    "    presence_intermediate[\"presence\"] / presence_intermediate[\"admin3_area_km2\"]\n",
    ")"
   ]
  },
  {
   "cell_type": "code",
   "execution_count": null,
   "id": "43915e88-2395-42c0-8460-0c624ca479b3",
   "metadata": {},
   "outputs": [],
   "source": [
    "####"
   ]
  },
  {
   "cell_type": "code",
   "execution_count": null,
   "id": "f7678436-1dfc-4666-b9e8-6c99bcb6dbf9",
   "metadata": {},
   "outputs": [],
   "source": [
    "presence = presence_intermediate[\n",
    "    [\n",
    "        \"date\",\n",
    "        \"pcod\",\n",
    "        \"presence\",\n",
    "        \"presence_perKm2\",\n",
    "        \"trips_in\",\n",
    "        \"trips_out\",\n",
    "        \"abnormality\",\n",
    "        \"presence_diffwithref\",\n",
    "        \"presence_pctchangewithref\",\n",
    "    ]\n",
    "]\n",
    "\n",
    "presence.to_csv(\n",
    "    Path(indicators_dir) / f'presence_indicators_{data_date.strftime(\"%Y-%m\")}.csv',\n",
    "    index=False,\n",
    ")"
   ]
  },
  {
   "cell_type": "markdown",
   "id": "d9721b04-41f5-4b9f-a4d3-845dff10065f",
   "metadata": {},
   "source": [
    "# Derived indicators (trips)"
   ]
  },
  {
   "cell_type": "code",
   "execution_count": null,
   "id": "98a7bce8-8d5b-4984-9eec-1fb1ae1437aa",
   "metadata": {},
   "outputs": [],
   "source": [
    "#### pctchangewref"
   ]
  },
  {
   "cell_type": "code",
   "execution_count": null,
   "id": "e71c6c0f-f323-4bb1-b190-dfb7f52bdbc7",
   "metadata": {},
   "outputs": [],
   "source": [
    "trips_intermediate[\"travellers_pctchangewithref\"] = pct_change_with_ref(\n",
    "    trips_intermediate, \"travellers\", \"travellers_month_1_median\"\n",
    ")"
   ]
  },
  {
   "cell_type": "code",
   "execution_count": null,
   "id": "90289f18-a987-46f5-b98e-2f9265fd7468",
   "metadata": {},
   "outputs": [],
   "source": [
    "#### diffwref"
   ]
  },
  {
   "cell_type": "code",
   "execution_count": null,
   "id": "7a55e518-35d2-46be-8fd3-eb9f4a5749ed",
   "metadata": {},
   "outputs": [],
   "source": [
    "trips_intermediate[\"travellers_diffwithref\"] = diff_with_ref(\n",
    "    trips_intermediate, \"travellers\", \"travellers_month_1_median\"\n",
    ")"
   ]
  },
  {
   "cell_type": "code",
   "execution_count": null,
   "id": "2053afe5-c1c0-4bb6-afcc-8ea4329b6976",
   "metadata": {},
   "outputs": [],
   "source": [
    "#### abnormality"
   ]
  },
  {
   "cell_type": "code",
   "execution_count": null,
   "id": "9f39b726-a86e-4e3f-b2f7-844312476f66",
   "metadata": {},
   "outputs": [],
   "source": [
    "trips_intermediate[\"abnormality\"] = abnorm(\n",
    "    trips_intermediate, \"travellers\", \"travellers_last_6_mo\"\n",
    ")"
   ]
  },
  {
   "cell_type": "code",
   "execution_count": null,
   "id": "f6c3bae6-d34c-4e72-993b-a760c90ed4f4",
   "metadata": {},
   "outputs": [],
   "source": [
    "####"
   ]
  },
  {
   "cell_type": "code",
   "execution_count": null,
   "id": "9da6e386-319b-4ac2-8dfe-a84a80664788",
   "metadata": {},
   "outputs": [],
   "source": [
    "trips = trips_intermediate[\n",
    "    [\n",
    "        \"date\",\n",
    "        \"pcod_from\",\n",
    "        \"pcod_to\",\n",
    "        \"travellers\",\n",
    "        \"abnormality\",\n",
    "        \"travellers_diffwithref\",\n",
    "        \"travellers_pctchangewithref\",\n",
    "    ]\n",
    "]"
   ]
  },
  {
   "cell_type": "code",
   "execution_count": null,
   "id": "ff9b0848-c177-4605-8789-5a9188f17047",
   "metadata": {},
   "outputs": [],
   "source": [
    "trips.to_csv(\n",
    "    Path(indicators_dir) / f'movements_indicators_{data_date.strftime(\"%Y-%m\")}.csv',\n",
    "    index=False,\n",
    ")"
   ]
  },
  {
   "cell_type": "code",
   "execution_count": null,
   "id": "cf15beb8-9db7-4362-bae5-58f4677122a6",
   "metadata": {},
   "outputs": [],
   "source": []
  }
 ],
 "metadata": {
  "kernelspec": {
   "display_name": "Python 3 (ipykernel)",
   "language": "python",
   "name": "python3"
  },
  "language_info": {
   "codemirror_mode": {
    "name": "ipython",
    "version": 3
   },
   "file_extension": ".py",
   "mimetype": "text/x-python",
   "name": "python",
   "nbconvert_exporter": "python",
   "pygments_lexer": "ipython3",
   "version": "3.9.15"
  }
 },
 "nbformat": 4,
 "nbformat_minor": 5
}
